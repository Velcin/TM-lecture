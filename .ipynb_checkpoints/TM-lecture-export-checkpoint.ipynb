{
 "cells": [
  {
   "cell_type": "markdown",
   "metadata": {
    "slideshow": {
     "slide_type": "slide"
    }
   },
   "source": [
    "# Initiation to Text Mining\n",
    "\n",
    "<br/>\n",
    "\n",
    "## Julien Velcin\n",
    "\n",
    "<!--<div style=\"margin-left: 10px;\">Laboratoire ERIC</div>\n",
    "<div style=\"margin-left: 10px;\">Université Lyon 2</div>-->\n",
    "\n",
    "Laboratoire ERIC<br/>\n",
    "Université Lyon 2\n",
    "\n",
    "[@jvelcin](https://twitter.com/jvelcin)\n",
    "\n",
    "[http://mediamining.univ-lyon2.fr/velcin/](http://mediamining.univ-lyon2.fr/velcin/)"
   ]
  },
  {
   "cell_type": "markdown",
   "metadata": {
    "slideshow": {
     "slide_type": "subslide"
    }
   },
   "source": [
    "All the code has been tested on **R version 3.2.2**.\n",
    "\n",
    "For the notebook and slideshow generation, I've used ipython 4.0.1 and RISE:\n",
    "\n",
    "Reveal.js - Jupyter/IPython Slideshow Extension<br/>\n",
    "http://bollwyvl.github.io/live_reveal/\n",
    "\n",
    "This document is a static reveal export.\n",
    "Therefore, the rendering is not always very good (but it's better than nothing ;)."
   ]
  },
  {
   "cell_type": "markdown",
   "metadata": {
    "slideshow": {
     "slide_type": "slide"
    }
   },
   "source": [
    "## Lecture ouline\n",
    "\n",
    "* Different ways to represent the textual data\n",
    "* Preprocessing\n",
    "* Building a basic search engine\n",
    "* Beyond stopwords"
   ]
  },
  {
   "cell_type": "markdown",
   "metadata": {
    "slideshow": {
     "slide_type": "slide"
    }
   },
   "source": [
    "## Different ways to represent text data\n",
    "\n",
    "- Bag-of-Words (BoW)\n",
    "- Vector Space Model (VSM)\n",
    "- Adding metadata (e.g., part of speech)\n",
    "- Advanced representations: syntax/parse trees, graphs, etc."
   ]
  },
  {
   "cell_type": "markdown",
   "metadata": {
    "slideshow": {
     "slide_type": "fragment"
    }
   },
   "source": [
    "Each representation implies different ways to *compare* textual documents."
   ]
  },
  {
   "cell_type": "markdown",
   "metadata": {
    "slideshow": {
     "slide_type": "subslide"
    }
   },
   "source": [
    "## A very simple example:\n",
    "\n",
    "*\"John Doe has bought an apple.\"*"
   ]
  },
  {
   "cell_type": "markdown",
   "metadata": {
    "slideshow": {
     "slide_type": "fragment"
    }
   },
   "source": [
    "Linguistic point of view:\n",
    "\n",
    "<table style=\"border:0;\">\n",
    "<tr style=\"border:0;\">\n",
    "<td style=\"border:0; white-space:pre; padding:0 100px 0 0px;\">\"John Doe has bought an apple.\"</td>\n",
    "<td style=\"border:0;\"><img src=\"img/syntaxtree.png\" style='height: 150px'/></td>\n",
    "</tr>\n",
    "</table>"
   ]
  },
  {
   "cell_type": "markdown",
   "metadata": {
    "slideshow": {
     "slide_type": "subslide"
    }
   },
   "source": [
    "Statistical point of view:\n",
    "\n",
    "<img src=\"img/bow-illu.png\" style='height: 150px'/>\n",
    "\n",
    "<table style=\"border:0;\">\n",
    "<tr style=\"border:0;\">\n",
    "<td style=\"border:0; white-space:pre; padding:0 100px 0 0px;\">\"John Doe has bought an apple.\"</td>\n",
    "<td style=\"border:0;\">{ apple,<br/><br/> bought,<br/><br/>John_Doe } </td>\n",
    "</tr>\n",
    "</table>"
   ]
  },
  {
   "cell_type": "markdown",
   "metadata": {
    "slideshow": {
     "slide_type": "slide"
    }
   },
   "source": [
    "## Different ways to represent text data\n",
    "\n",
    "- **Bag-of-Words (BoW)**\n",
    "- Vector Space Model (VSM)\n",
    "- Adding metadata (e.g., part of speech)\n",
    "- Advanced representations: syntax/parse trees, graphs, etc."
   ]
  },
  {
   "cell_type": "markdown",
   "metadata": {
    "slideshow": {
     "slide_type": "subslide"
    }
   },
   "source": [
    "<img src=\"img/bow.png\" style='height: 400px'/>"
   ]
  },
  {
   "cell_type": "markdown",
   "metadata": {
    "slideshow": {
     "slide_type": "subslide"
    }
   },
   "source": [
    "There is an obvious problem with:\n",
    "\n",
    "*\"Mary asked Fred out.\"*\n",
    "<br/>\n",
    "*\"Fred asked Mary out.\"*"
   ]
  },
  {
   "cell_type": "markdown",
   "metadata": {
    "slideshow": {
     "slide_type": "fragment"
    }
   },
   "source": [
    "Same representation:\n",
    "<img src=\"img/mary.png\" style='height: 200px'/>"
   ]
  },
  {
   "cell_type": "markdown",
   "metadata": {
    "slideshow": {
     "slide_type": "subslide"
    }
   },
   "source": [
    "And here is the terms x documents matrix:\n",
    "\n",
    "<img src=\"img/termdocmatrix.png\" style='height: 300px'/>"
   ]
  },
  {
   "cell_type": "markdown",
   "metadata": {
    "slideshow": {
     "slide_type": "subslide"
    }
   },
   "source": [
    "For instance:\n",
    "<img src=\"img/termdocmatrix-2.jpg\" style='width: 400px'/>"
   ]
  },
  {
   "cell_type": "markdown",
   "metadata": {
    "slideshow": {
     "slide_type": "slide"
    }
   },
   "source": [
    "## Different ways to represent text data\n",
    "\n",
    "- Bag-of-Words (BoW)\n",
    "- **Vector Space Model (VSM)**\n",
    "- Adding metadata (e.g., part of speech)\n",
    "- Advanced representations: syntax/parse trees, graphs, etc."
   ]
  },
  {
   "cell_type": "markdown",
   "metadata": {
    "slideshow": {
     "slide_type": "subslide"
    }
   },
   "source": [
    "Embed the textual data into a vector space in order to allow algebric manipulations (Salton, 1975)\n",
    "<br/>\n",
    "<img src=\"img/vsm.png\" style='height: 400px'/>"
   ]
  },
  {
   "cell_type": "markdown",
   "metadata": {
    "slideshow": {
     "slide_type": "fragment"
    }
   },
   "source": [
    "Useful representation for: information retrieval, classification, clustering..."
   ]
  },
  {
   "cell_type": "markdown",
   "metadata": {
    "slideshow": {
     "slide_type": "subslide"
    }
   },
   "source": [
    "Some useful R functions:\n",
    "\n",
    "`paste(ch1, ch2...)`: concatenate strings<br/>\n",
    "`gsub(pattern, replace, ch)`: replace all occurrences of *pattern* by *replace* in *ch*<br/>\n",
    "`strsplit(ch, pattern)`: split string *ch* into substrings according to *pattern*\n",
    "\n",
    "And my own hand-crafted functions:\n",
    "\n",
    "`build_vocab(ch)`: build the vocabulary based on string *ch*<br/>\n",
    "`embed(ch, vocab):` embed string *ch* into the vocabulary *vocab*"
   ]
  },
  {
   "cell_type": "code",
   "execution_count": 309,
   "metadata": {
    "collapsed": false,
    "slideshow": {
     "slide_type": "subslide"
    }
   },
   "outputs": [
    {
     "name": "stderr",
     "output_type": "stream",
     "text": [
      "Automatically built vocabulary:\n"
     ]
    },
    {
     "name": "stdout",
     "output_type": "stream",
     "text": [
      " [1] \"alongside\"  \"are\"        \"bank\"       \"banks\"      \"bed\"       \n",
      " [6] \"body\"       \"creek\"      \"different\"  \"fields\"     \"generally\" \n",
      "[11] \"geography\"  \"inland\"     \"land\"       \"limnology\"  \"referred\"  \n",
      "[16] \"refers\"     \"river\"      \"stream\"     \"structures\" \"study\"     \n",
      "[21] \"terrain\"    \"the\"        \"various\"    \"water\"      \"waters\"    \n"
     ]
    },
    {
     "name": "stderr",
     "output_type": "stream",
     "text": [
      "VSM representations of the three sentences:\n"
     ]
    },
    {
     "name": "stdout",
     "output_type": "stream",
     "text": [
      " [1] 1 0 1 0 0 1 0 0 0 1 1 0 1 0 0 1 0 0 0 0 0 1 0 1 0\n",
      " [1] 0 1 0 1 0 0 0 1 1 0 1 0 0 0 1 0 0 0 1 0 0 0 1 0 0\n",
      " [1] 1 0 2 0 1 0 1 0 0 0 0 1 0 1 0 0 2 2 0 1 1 3 0 0 1\n"
     ]
    }
   ],
   "source": [
    "ch1 <- \"In geography a bank generally refers to the land alongside\n",
    "        a body of water\"\n",
    "ch2 <- \"Various structures are referred to as banks in different fields\n",
    "        of geography.\"\n",
    "ch3 <- \"In limnology, the study of inland waters, a stream bank or river bank\n",
    "        is the terrain alongside the bed of a river, creek, or stream.\"\n",
    "message(\"Automatically built vocabulary:\")\n",
    "vocab <- print(build_vocab(paste(ch1, ch2, ch3)))\n",
    "message(\"VSM representations of the three sentences:\")\n",
    "v1 <- print(embed(ch1, vocab))\n",
    "v2 <- print(embed(ch2, vocab))\n",
    "v3 <- print(embed(ch3, vocab))"
   ]
  },
  {
   "cell_type": "markdown",
   "metadata": {
    "slideshow": {
     "slide_type": "subslide"
    }
   },
   "source": [
    "This way, it is \"easy\" to make pairwise comparisons:"
   ]
  },
  {
   "cell_type": "code",
   "execution_count": 264,
   "metadata": {
    "collapsed": false,
    "slideshow": {
     "slide_type": "fragment"
    }
   },
   "outputs": [
    {
     "name": "stderr",
     "output_type": "stream",
     "text": [
      "In geography a bank generally refers to the land alongside\n",
      "        a body of water\n",
      "Various structures are referred to as banks in different fields\n",
      "        of geography.\n",
      "In limnology, the study of inland waters, a stream bank or river bank\n",
      "        is the terrain alongside the bed of a river, creek, or stream.\n"
     ]
    },
    {
     "data": {
      "text/html": [
       "'v1.v2 = 1'"
      ],
      "text/latex": [
       "'v1.v2 = 1'"
      ],
      "text/markdown": [
       "'v1.v2 = 1'"
      ],
      "text/plain": [
       "[1] \"v1.v2 = 1\""
      ]
     },
     "execution_count": 264,
     "metadata": {},
     "output_type": "execute_result"
    },
    {
     "data": {
      "text/html": [
       "'v1.v3 = 6'"
      ],
      "text/latex": [
       "'v1.v3 = 6'"
      ],
      "text/markdown": [
       "'v1.v3 = 6'"
      ],
      "text/plain": [
       "[1] \"v1.v3 = 6\""
      ]
     },
     "execution_count": 264,
     "metadata": {},
     "output_type": "execute_result"
    },
    {
     "data": {
      "text/html": [
       "'v2.v3 = 0'"
      ],
      "text/latex": [
       "'v2.v3 = 0'"
      ],
      "text/markdown": [
       "'v2.v3 = 0'"
      ],
      "text/plain": [
       "[1] \"v2.v3 = 0\""
      ]
     },
     "execution_count": 264,
     "metadata": {},
     "output_type": "execute_result"
    }
   ],
   "source": [
    "message(ch1)\n",
    "message(ch2)\n",
    "message(ch3) \n",
    "sprintf(\"v1.v2 = %i\", v1%*%v2)\n",
    "sprintf(\"v1.v3 = %i\", v1%*%v3)\n",
    "sprintf(\"v2.v3 = %i\", v2%*%v3)"
   ]
  },
  {
   "cell_type": "markdown",
   "metadata": {
    "slideshow": {
     "slide_type": "slide"
    }
   },
   "source": [
    "## Preprocessing\n",
    "\n",
    "* **tokenization**\n",
    "* basic cleaning\n",
    "* stopwords\n",
    "* stemming"
   ]
  },
  {
   "cell_type": "markdown",
   "metadata": {
    "slideshow": {
     "slide_type": "subslide"
    }
   },
   "source": [
    "## Tokenization / Word segmentation\n",
    "\n",
    "Split a string into basic (lexical) **units**, such as words."
   ]
  },
  {
   "cell_type": "markdown",
   "metadata": {
    "slideshow": {
     "slide_type": "fragment"
    }
   },
   "source": [
    "Different rules for different languages:\n",
    "\n",
    "我已经等我的包裹三星期了！\n",
    "<br/>\n",
    "(I've been waiting three weeks for my parcel to arrive!)\n",
    "\n",
    "En français,c'est assez simple mais<br/>ilfaut faire attention<br/>notamment sur plusieurs lignes."
   ]
  },
  {
   "cell_type": "markdown",
   "metadata": {
    "slideshow": {
     "slide_type": "subslide"
    }
   },
   "source": [
    "Even in English or French, you can have difficulties splitting strings."
   ]
  },
  {
   "cell_type": "code",
   "execution_count": 4,
   "metadata": {
    "collapsed": false,
    "slideshow": {
     "slide_type": "fragment"
    }
   },
   "outputs": [
    {
     "name": "stderr",
     "output_type": "stream",
     "text": [
      "For instance:\n",
      "\n",
      "Here is, for sure, a small paragraph I'd like to parse\n",
      "on multiple lines.Is this that simple?I guess not.\n"
     ]
    },
    {
     "data": {
      "text/html": [
       "'Here is for sure a small paragraph Id like to parseon multiple linesIs this that simpleI guess not'"
      ],
      "text/latex": [
       "'Here is for sure a small paragraph Id like to parseon multiple linesIs this that simpleI guess not'"
      ],
      "text/markdown": [
       "'Here is for sure a small paragraph Id like to parseon multiple linesIs this that simpleI guess not'"
      ],
      "text/plain": [
       "[1] \"Here is for sure a small paragraph Id like to parseon multiple linesIs this that simpleI guess not\""
      ]
     },
     "execution_count": 4,
     "metadata": {},
     "output_type": "execute_result"
    }
   ],
   "source": [
    "message(\"For instance:\\n\")\n",
    "string <- \"Here is, for sure, a small paragraph I'd like to parse\\non multiple lines.Is this that simple?I guess not.\"\n",
    "message(string)\n",
    "gsub(\"[^[:alpha:]||[:blank:]]\", \"\", string)"
   ]
  },
  {
   "cell_type": "markdown",
   "metadata": {
    "slideshow": {
     "slide_type": "subslide"
    }
   },
   "source": [
    "Usually, in most western languages, we use a known list of separation marks:\n",
    "\n",
    ", . \\n \\t - : ; ( ) ! ? [ ] _ ' \"  (etc.)"
   ]
  },
  {
   "cell_type": "markdown",
   "metadata": {
    "slideshow": {
     "slide_type": "fragment"
    }
   },
   "source": [
    "But...:\n",
    "\n",
    ">\"Harry Potter\" => \"Harry\", \"Potter\"<br/>\n",
    ">\"rez-de-chaussée\" => \"chaussée\", \"de\", \"rez\"<br/>\n",
    ">\"idiot?\" => \"idiot\"<br/>\n",
    ">\"C.E.O\" => \"C\", \"E\", \"O\""
   ]
  },
  {
   "cell_type": "markdown",
   "metadata": {
    "slideshow": {
     "slide_type": "subslide"
    }
   },
   "source": [
    "Let's test a simple tokenization in R:\n",
    "\n",
    "*\"The challenge of exploiting the large proportion of enterprise information that originates in \"unstructured\" form has been recognized for decades.[7] It is recognized in the earliest definition of business intelligence (BI), in an October 1958 IBM Journal article by H.P. Luhn, A Business Intelligence System, which describes a system that will:\"* <br/>(excerpt of https://en.wikipedia.org/wiki/Text_mining)"
   ]
  },
  {
   "cell_type": "code",
   "execution_count": 5,
   "metadata": {
    "collapsed": false,
    "slideshow": {
     "slide_type": "subslide"
    }
   },
   "outputs": [
    {
     "name": "stderr",
     "output_type": "stream",
     "text": [
      "Spaces only as delimiters:\n"
     ]
    },
    {
     "data": {
      "text/html": [
       "<ol>\n",
       "\t<li><ol class=list-inline>\n",
       "\t<li>'The'</li>\n",
       "\t<li>'challenge'</li>\n",
       "\t<li>'of'</li>\n",
       "\t<li>'exploiting'</li>\n",
       "\t<li>'the'</li>\n",
       "\t<li>'large'</li>\n",
       "\t<li>'proportion'</li>\n",
       "\t<li>'of'</li>\n",
       "\t<li>'enterprise'</li>\n",
       "\t<li>'information'</li>\n",
       "\t<li>'that'</li>\n",
       "\t<li>'originates'</li>\n",
       "\t<li>'in'</li>\n",
       "\t<li>'\"unstructured\"'</li>\n",
       "\t<li>'form'</li>\n",
       "\t<li>'has'</li>\n",
       "\t<li>'been'</li>\n",
       "\t<li>'recognized'</li>\n",
       "\t<li>'for'</li>\n",
       "\t<li>'decades.[7]'</li>\n",
       "\t<li>'It'</li>\n",
       "\t<li>'is'</li>\n",
       "\t<li>'recognized'</li>\n",
       "\t<li>'in'</li>\n",
       "\t<li>'the'</li>\n",
       "\t<li>'earliest'</li>\n",
       "\t<li>'definition'</li>\n",
       "\t<li>'of'</li>\n",
       "\t<li>'business'</li>\n",
       "\t<li>'intelligence'</li>\n",
       "\t<li>'(BI),'</li>\n",
       "\t<li>'in'</li>\n",
       "\t<li>'an'</li>\n",
       "\t<li>'October'</li>\n",
       "\t<li>'1958'</li>\n",
       "\t<li>'IBM'</li>\n",
       "\t<li>'Journal'</li>\n",
       "\t<li>'article'</li>\n",
       "\t<li>'by'</li>\n",
       "\t<li>'H.P.'</li>\n",
       "\t<li>'Luhn,'</li>\n",
       "\t<li>'A'</li>\n",
       "\t<li>'Business'</li>\n",
       "\t<li>'Intelligence'</li>\n",
       "\t<li>'System,'</li>\n",
       "\t<li>'which'</li>\n",
       "\t<li>'describes'</li>\n",
       "\t<li>'a'</li>\n",
       "\t<li>'system'</li>\n",
       "\t<li>'that'</li>\n",
       "\t<li>'will:'</li>\n",
       "</ol>\n",
       "</li>\n",
       "</ol>\n"
      ],
      "text/latex": [
       "\\begin{enumerate}\n",
       "\\item \\begin{enumerate*}\n",
       "\\item 'The'\n",
       "\\item 'challenge'\n",
       "\\item 'of'\n",
       "\\item 'exploiting'\n",
       "\\item 'the'\n",
       "\\item 'large'\n",
       "\\item 'proportion'\n",
       "\\item 'of'\n",
       "\\item 'enterprise'\n",
       "\\item 'information'\n",
       "\\item 'that'\n",
       "\\item 'originates'\n",
       "\\item 'in'\n",
       "\\item '\"unstructured\"'\n",
       "\\item 'form'\n",
       "\\item 'has'\n",
       "\\item 'been'\n",
       "\\item 'recognized'\n",
       "\\item 'for'\n",
       "\\item 'decades.[7]'\n",
       "\\item 'It'\n",
       "\\item 'is'\n",
       "\\item 'recognized'\n",
       "\\item 'in'\n",
       "\\item 'the'\n",
       "\\item 'earliest'\n",
       "\\item 'definition'\n",
       "\\item 'of'\n",
       "\\item 'business'\n",
       "\\item 'intelligence'\n",
       "\\item '(BI),'\n",
       "\\item 'in'\n",
       "\\item 'an'\n",
       "\\item 'October'\n",
       "\\item '1958'\n",
       "\\item 'IBM'\n",
       "\\item 'Journal'\n",
       "\\item 'article'\n",
       "\\item 'by'\n",
       "\\item 'H.P.'\n",
       "\\item 'Luhn,'\n",
       "\\item 'A'\n",
       "\\item 'Business'\n",
       "\\item 'Intelligence'\n",
       "\\item 'System,'\n",
       "\\item 'which'\n",
       "\\item 'describes'\n",
       "\\item 'a'\n",
       "\\item 'system'\n",
       "\\item 'that'\n",
       "\\item 'will:'\n",
       "\\end{enumerate*}\n",
       "\n",
       "\\end{enumerate}\n"
      ],
      "text/markdown": [
       "1. 1. 'The'\n",
       "2. 'challenge'\n",
       "3. 'of'\n",
       "4. 'exploiting'\n",
       "5. 'the'\n",
       "6. 'large'\n",
       "7. 'proportion'\n",
       "8. 'of'\n",
       "9. 'enterprise'\n",
       "10. 'information'\n",
       "11. 'that'\n",
       "12. 'originates'\n",
       "13. 'in'\n",
       "14. '\"unstructured\"'\n",
       "15. 'form'\n",
       "16. 'has'\n",
       "17. 'been'\n",
       "18. 'recognized'\n",
       "19. 'for'\n",
       "20. 'decades.[7]'\n",
       "21. 'It'\n",
       "22. 'is'\n",
       "23. 'recognized'\n",
       "24. 'in'\n",
       "25. 'the'\n",
       "26. 'earliest'\n",
       "27. 'definition'\n",
       "28. 'of'\n",
       "29. 'business'\n",
       "30. 'intelligence'\n",
       "31. '(BI),'\n",
       "32. 'in'\n",
       "33. 'an'\n",
       "34. 'October'\n",
       "35. '1958'\n",
       "36. 'IBM'\n",
       "37. 'Journal'\n",
       "38. 'article'\n",
       "39. 'by'\n",
       "40. 'H.P.'\n",
       "41. 'Luhn,'\n",
       "42. 'A'\n",
       "43. 'Business'\n",
       "44. 'Intelligence'\n",
       "45. 'System,'\n",
       "46. 'which'\n",
       "47. 'describes'\n",
       "48. 'a'\n",
       "49. 'system'\n",
       "50. 'that'\n",
       "51. 'will:'\n",
       "\n",
       "\n",
       "\n",
       "\n",
       "\n"
      ],
      "text/plain": [
       "[[1]]\n",
       " [1] \"The\"              \"challenge\"        \"of\"               \"exploiting\"      \n",
       " [5] \"the\"              \"large\"            \"proportion\"       \"of\"              \n",
       " [9] \"enterprise\"       \"information\"      \"that\"             \"originates\"      \n",
       "[13] \"in\"               \"\\\"unstructured\\\"\" \"form\"             \"has\"             \n",
       "[17] \"been\"             \"recognized\"       \"for\"              \"decades.[7]\"     \n",
       "[21] \"It\"               \"is\"               \"recognized\"       \"in\"              \n",
       "[25] \"the\"              \"earliest\"         \"definition\"       \"of\"              \n",
       "[29] \"business\"         \"intelligence\"     \"(BI),\"            \"in\"              \n",
       "[33] \"an\"               \"October\"          \"1958\"             \"IBM\"             \n",
       "[37] \"Journal\"          \"article\"          \"by\"               \"H.P.\"            \n",
       "[41] \"Luhn,\"            \"A\"                \"Business\"         \"Intelligence\"    \n",
       "[45] \"System,\"          \"which\"            \"describes\"        \"a\"               \n",
       "[49] \"system\"           \"that\"             \"will:\"           \n"
      ]
     },
     "execution_count": 5,
     "metadata": {},
     "output_type": "execute_result"
    }
   ],
   "source": [
    "ch <- \"The challenge of exploiting the large proportion of enterprise information that originates in \\\"unstructured\\\" form has been recognized for decades.[7] It is recognized in the earliest definition of business intelligence (BI), in an October 1958 IBM Journal article by H.P. Luhn, A Business Intelligence System, which describes a system that will:\"\n",
    "message(\"Spaces only as delimiters:\")\n",
    "strsplit(ch, \"[[:blank:]]\")"
   ]
  },
  {
   "cell_type": "code",
   "execution_count": 6,
   "metadata": {
    "collapsed": false,
    "slideshow": {
     "slide_type": "subslide"
    }
   },
   "outputs": [
    {
     "name": "stderr",
     "output_type": "stream",
     "text": [
      "All are delimiters but the alphabetic characters:\n"
     ]
    },
    {
     "data": {
      "text/html": [
       "<ol>\n",
       "\t<li><ol class=list-inline>\n",
       "\t<li>'The'</li>\n",
       "\t<li>'challenge'</li>\n",
       "\t<li>'of'</li>\n",
       "\t<li>'exploiting'</li>\n",
       "\t<li>'the'</li>\n",
       "\t<li>'large'</li>\n",
       "\t<li>'proportion'</li>\n",
       "\t<li>'of'</li>\n",
       "\t<li>'enterprise'</li>\n",
       "\t<li>'information'</li>\n",
       "\t<li>'that'</li>\n",
       "\t<li>'originates'</li>\n",
       "\t<li>'in'</li>\n",
       "\t<li>''</li>\n",
       "\t<li>'unstructured'</li>\n",
       "\t<li>''</li>\n",
       "\t<li>'form'</li>\n",
       "\t<li>'has'</li>\n",
       "\t<li>'been'</li>\n",
       "\t<li>'recognized'</li>\n",
       "\t<li>'for'</li>\n",
       "\t<li>'decades'</li>\n",
       "\t<li>''</li>\n",
       "\t<li>''</li>\n",
       "\t<li>''</li>\n",
       "\t<li>''</li>\n",
       "\t<li>'It'</li>\n",
       "\t<li>'is'</li>\n",
       "\t<li>'recognized'</li>\n",
       "\t<li>'in'</li>\n",
       "\t<li>'the'</li>\n",
       "\t<li>'earliest'</li>\n",
       "\t<li>'definition'</li>\n",
       "\t<li>'of'</li>\n",
       "\t<li>'business'</li>\n",
       "\t<li>'intelligence'</li>\n",
       "\t<li>''</li>\n",
       "\t<li>'BI'</li>\n",
       "\t<li>''</li>\n",
       "\t<li>''</li>\n",
       "\t<li>'in'</li>\n",
       "\t<li>'an'</li>\n",
       "\t<li>'October'</li>\n",
       "\t<li>''</li>\n",
       "\t<li>''</li>\n",
       "\t<li>''</li>\n",
       "\t<li>''</li>\n",
       "\t<li>''</li>\n",
       "\t<li>'IBM'</li>\n",
       "\t<li>'Journal'</li>\n",
       "\t<li>'article'</li>\n",
       "\t<li>'by'</li>\n",
       "\t<li>'H'</li>\n",
       "\t<li>'P'</li>\n",
       "\t<li>''</li>\n",
       "\t<li>'Luhn'</li>\n",
       "\t<li>''</li>\n",
       "\t<li>'A'</li>\n",
       "\t<li>'Business'</li>\n",
       "\t<li>'Intelligence'</li>\n",
       "\t<li>'System'</li>\n",
       "\t<li>''</li>\n",
       "\t<li>'which'</li>\n",
       "\t<li>'describes'</li>\n",
       "\t<li>'a'</li>\n",
       "\t<li>'system'</li>\n",
       "\t<li>'that'</li>\n",
       "\t<li>'will'</li>\n",
       "</ol>\n",
       "</li>\n",
       "</ol>\n"
      ],
      "text/latex": [
       "\\begin{enumerate}\n",
       "\\item \\begin{enumerate*}\n",
       "\\item 'The'\n",
       "\\item 'challenge'\n",
       "\\item 'of'\n",
       "\\item 'exploiting'\n",
       "\\item 'the'\n",
       "\\item 'large'\n",
       "\\item 'proportion'\n",
       "\\item 'of'\n",
       "\\item 'enterprise'\n",
       "\\item 'information'\n",
       "\\item 'that'\n",
       "\\item 'originates'\n",
       "\\item 'in'\n",
       "\\item ''\n",
       "\\item 'unstructured'\n",
       "\\item ''\n",
       "\\item 'form'\n",
       "\\item 'has'\n",
       "\\item 'been'\n",
       "\\item 'recognized'\n",
       "\\item 'for'\n",
       "\\item 'decades'\n",
       "\\item ''\n",
       "\\item ''\n",
       "\\item ''\n",
       "\\item ''\n",
       "\\item 'It'\n",
       "\\item 'is'\n",
       "\\item 'recognized'\n",
       "\\item 'in'\n",
       "\\item 'the'\n",
       "\\item 'earliest'\n",
       "\\item 'definition'\n",
       "\\item 'of'\n",
       "\\item 'business'\n",
       "\\item 'intelligence'\n",
       "\\item ''\n",
       "\\item 'BI'\n",
       "\\item ''\n",
       "\\item ''\n",
       "\\item 'in'\n",
       "\\item 'an'\n",
       "\\item 'October'\n",
       "\\item ''\n",
       "\\item ''\n",
       "\\item ''\n",
       "\\item ''\n",
       "\\item ''\n",
       "\\item 'IBM'\n",
       "\\item 'Journal'\n",
       "\\item 'article'\n",
       "\\item 'by'\n",
       "\\item 'H'\n",
       "\\item 'P'\n",
       "\\item ''\n",
       "\\item 'Luhn'\n",
       "\\item ''\n",
       "\\item 'A'\n",
       "\\item 'Business'\n",
       "\\item 'Intelligence'\n",
       "\\item 'System'\n",
       "\\item ''\n",
       "\\item 'which'\n",
       "\\item 'describes'\n",
       "\\item 'a'\n",
       "\\item 'system'\n",
       "\\item 'that'\n",
       "\\item 'will'\n",
       "\\end{enumerate*}\n",
       "\n",
       "\\end{enumerate}\n"
      ],
      "text/markdown": [
       "1. 1. 'The'\n",
       "2. 'challenge'\n",
       "3. 'of'\n",
       "4. 'exploiting'\n",
       "5. 'the'\n",
       "6. 'large'\n",
       "7. 'proportion'\n",
       "8. 'of'\n",
       "9. 'enterprise'\n",
       "10. 'information'\n",
       "11. 'that'\n",
       "12. 'originates'\n",
       "13. 'in'\n",
       "14. ''\n",
       "15. 'unstructured'\n",
       "16. ''\n",
       "17. 'form'\n",
       "18. 'has'\n",
       "19. 'been'\n",
       "20. 'recognized'\n",
       "21. 'for'\n",
       "22. 'decades'\n",
       "23. ''\n",
       "24. ''\n",
       "25. ''\n",
       "26. ''\n",
       "27. 'It'\n",
       "28. 'is'\n",
       "29. 'recognized'\n",
       "30. 'in'\n",
       "31. 'the'\n",
       "32. 'earliest'\n",
       "33. 'definition'\n",
       "34. 'of'\n",
       "35. 'business'\n",
       "36. 'intelligence'\n",
       "37. ''\n",
       "38. 'BI'\n",
       "39. ''\n",
       "40. ''\n",
       "41. 'in'\n",
       "42. 'an'\n",
       "43. 'October'\n",
       "44. ''\n",
       "45. ''\n",
       "46. ''\n",
       "47. ''\n",
       "48. ''\n",
       "49. 'IBM'\n",
       "50. 'Journal'\n",
       "51. 'article'\n",
       "52. 'by'\n",
       "53. 'H'\n",
       "54. 'P'\n",
       "55. ''\n",
       "56. 'Luhn'\n",
       "57. ''\n",
       "58. 'A'\n",
       "59. 'Business'\n",
       "60. 'Intelligence'\n",
       "61. 'System'\n",
       "62. ''\n",
       "63. 'which'\n",
       "64. 'describes'\n",
       "65. 'a'\n",
       "66. 'system'\n",
       "67. 'that'\n",
       "68. 'will'\n",
       "\n",
       "\n",
       "\n",
       "\n",
       "\n"
      ],
      "text/plain": [
       "[[1]]\n",
       " [1] \"The\"          \"challenge\"    \"of\"           \"exploiting\"   \"the\"         \n",
       " [6] \"large\"        \"proportion\"   \"of\"           \"enterprise\"   \"information\" \n",
       "[11] \"that\"         \"originates\"   \"in\"           \"\"             \"unstructured\"\n",
       "[16] \"\"             \"form\"         \"has\"          \"been\"         \"recognized\"  \n",
       "[21] \"for\"          \"decades\"      \"\"             \"\"             \"\"            \n",
       "[26] \"\"             \"It\"           \"is\"           \"recognized\"   \"in\"          \n",
       "[31] \"the\"          \"earliest\"     \"definition\"   \"of\"           \"business\"    \n",
       "[36] \"intelligence\" \"\"             \"BI\"           \"\"             \"\"            \n",
       "[41] \"in\"           \"an\"           \"October\"      \"\"             \"\"            \n",
       "[46] \"\"             \"\"             \"\"             \"IBM\"          \"Journal\"     \n",
       "[51] \"article\"      \"by\"           \"H\"            \"P\"            \"\"            \n",
       "[56] \"Luhn\"         \"\"             \"A\"            \"Business\"     \"Intelligence\"\n",
       "[61] \"System\"       \"\"             \"which\"        \"describes\"    \"a\"           \n",
       "[66] \"system\"       \"that\"         \"will\"        \n"
      ]
     },
     "execution_count": 6,
     "metadata": {},
     "output_type": "execute_result"
    }
   ],
   "source": [
    "message(\"All are delimiters but the alphabetic characters:\")\n",
    "strsplit(ch, \"[^[:alpha:]]\")"
   ]
  },
  {
   "cell_type": "markdown",
   "metadata": {
    "slideshow": {
     "slide_type": "subslide"
    }
   },
   "source": [
    "Removing empty elements:"
   ]
  },
  {
   "cell_type": "code",
   "execution_count": 7,
   "metadata": {
    "collapsed": false,
    "slideshow": {
     "slide_type": "fragment"
    }
   },
   "outputs": [
    {
     "data": {
      "text/html": [
       "<ol class=list-inline>\n",
       "\t<li>'The'</li>\n",
       "\t<li>'challenge'</li>\n",
       "\t<li>'of'</li>\n",
       "\t<li>'exploiting'</li>\n",
       "\t<li>'the'</li>\n",
       "\t<li>'large'</li>\n",
       "\t<li>'proportion'</li>\n",
       "\t<li>'of'</li>\n",
       "\t<li>'enterprise'</li>\n",
       "\t<li>'information'</li>\n",
       "\t<li>'that'</li>\n",
       "\t<li>'originates'</li>\n",
       "\t<li>'in'</li>\n",
       "\t<li>'unstructured'</li>\n",
       "\t<li>'form'</li>\n",
       "\t<li>'has'</li>\n",
       "\t<li>'been'</li>\n",
       "\t<li>'recognized'</li>\n",
       "\t<li>'for'</li>\n",
       "\t<li>'decades'</li>\n",
       "\t<li>'It'</li>\n",
       "\t<li>'is'</li>\n",
       "\t<li>'recognized'</li>\n",
       "\t<li>'in'</li>\n",
       "\t<li>'the'</li>\n",
       "\t<li>'earliest'</li>\n",
       "\t<li>'definition'</li>\n",
       "\t<li>'of'</li>\n",
       "\t<li>'business'</li>\n",
       "\t<li>'intelligence'</li>\n",
       "\t<li>'BI'</li>\n",
       "\t<li>'in'</li>\n",
       "\t<li>'an'</li>\n",
       "\t<li>'October'</li>\n",
       "\t<li>'IBM'</li>\n",
       "\t<li>'Journal'</li>\n",
       "\t<li>'article'</li>\n",
       "\t<li>'by'</li>\n",
       "\t<li>'H'</li>\n",
       "\t<li>'P'</li>\n",
       "\t<li>'Luhn'</li>\n",
       "\t<li>'A'</li>\n",
       "\t<li>'Business'</li>\n",
       "\t<li>'Intelligence'</li>\n",
       "\t<li>'System'</li>\n",
       "\t<li>'which'</li>\n",
       "\t<li>'describes'</li>\n",
       "\t<li>'a'</li>\n",
       "\t<li>'system'</li>\n",
       "\t<li>'that'</li>\n",
       "\t<li>'will'</li>\n",
       "</ol>\n"
      ],
      "text/latex": [
       "\\begin{enumerate*}\n",
       "\\item 'The'\n",
       "\\item 'challenge'\n",
       "\\item 'of'\n",
       "\\item 'exploiting'\n",
       "\\item 'the'\n",
       "\\item 'large'\n",
       "\\item 'proportion'\n",
       "\\item 'of'\n",
       "\\item 'enterprise'\n",
       "\\item 'information'\n",
       "\\item 'that'\n",
       "\\item 'originates'\n",
       "\\item 'in'\n",
       "\\item 'unstructured'\n",
       "\\item 'form'\n",
       "\\item 'has'\n",
       "\\item 'been'\n",
       "\\item 'recognized'\n",
       "\\item 'for'\n",
       "\\item 'decades'\n",
       "\\item 'It'\n",
       "\\item 'is'\n",
       "\\item 'recognized'\n",
       "\\item 'in'\n",
       "\\item 'the'\n",
       "\\item 'earliest'\n",
       "\\item 'definition'\n",
       "\\item 'of'\n",
       "\\item 'business'\n",
       "\\item 'intelligence'\n",
       "\\item 'BI'\n",
       "\\item 'in'\n",
       "\\item 'an'\n",
       "\\item 'October'\n",
       "\\item 'IBM'\n",
       "\\item 'Journal'\n",
       "\\item 'article'\n",
       "\\item 'by'\n",
       "\\item 'H'\n",
       "\\item 'P'\n",
       "\\item 'Luhn'\n",
       "\\item 'A'\n",
       "\\item 'Business'\n",
       "\\item 'Intelligence'\n",
       "\\item 'System'\n",
       "\\item 'which'\n",
       "\\item 'describes'\n",
       "\\item 'a'\n",
       "\\item 'system'\n",
       "\\item 'that'\n",
       "\\item 'will'\n",
       "\\end{enumerate*}\n"
      ],
      "text/markdown": [
       "1. 'The'\n",
       "2. 'challenge'\n",
       "3. 'of'\n",
       "4. 'exploiting'\n",
       "5. 'the'\n",
       "6. 'large'\n",
       "7. 'proportion'\n",
       "8. 'of'\n",
       "9. 'enterprise'\n",
       "10. 'information'\n",
       "11. 'that'\n",
       "12. 'originates'\n",
       "13. 'in'\n",
       "14. 'unstructured'\n",
       "15. 'form'\n",
       "16. 'has'\n",
       "17. 'been'\n",
       "18. 'recognized'\n",
       "19. 'for'\n",
       "20. 'decades'\n",
       "21. 'It'\n",
       "22. 'is'\n",
       "23. 'recognized'\n",
       "24. 'in'\n",
       "25. 'the'\n",
       "26. 'earliest'\n",
       "27. 'definition'\n",
       "28. 'of'\n",
       "29. 'business'\n",
       "30. 'intelligence'\n",
       "31. 'BI'\n",
       "32. 'in'\n",
       "33. 'an'\n",
       "34. 'October'\n",
       "35. 'IBM'\n",
       "36. 'Journal'\n",
       "37. 'article'\n",
       "38. 'by'\n",
       "39. 'H'\n",
       "40. 'P'\n",
       "41. 'Luhn'\n",
       "42. 'A'\n",
       "43. 'Business'\n",
       "44. 'Intelligence'\n",
       "45. 'System'\n",
       "46. 'which'\n",
       "47. 'describes'\n",
       "48. 'a'\n",
       "49. 'system'\n",
       "50. 'that'\n",
       "51. 'will'\n",
       "\n",
       "\n"
      ],
      "text/plain": [
       " [1] \"The\"          \"challenge\"    \"of\"           \"exploiting\"   \"the\"         \n",
       " [6] \"large\"        \"proportion\"   \"of\"           \"enterprise\"   \"information\" \n",
       "[11] \"that\"         \"originates\"   \"in\"           \"unstructured\" \"form\"        \n",
       "[16] \"has\"          \"been\"         \"recognized\"   \"for\"          \"decades\"     \n",
       "[21] \"It\"           \"is\"           \"recognized\"   \"in\"           \"the\"         \n",
       "[26] \"earliest\"     \"definition\"   \"of\"           \"business\"     \"intelligence\"\n",
       "[31] \"BI\"           \"in\"           \"an\"           \"October\"      \"IBM\"         \n",
       "[36] \"Journal\"      \"article\"      \"by\"           \"H\"            \"P\"           \n",
       "[41] \"Luhn\"         \"A\"            \"Business\"     \"Intelligence\" \"System\"      \n",
       "[46] \"which\"        \"describes\"    \"a\"            \"system\"       \"that\"        \n",
       "[51] \"will\"        "
      ]
     },
     "execution_count": 7,
     "metadata": {},
     "output_type": "execute_result"
    }
   ],
   "source": [
    "ch.tokenized <- unlist(strsplit(ch, \"[^[:alpha:]]\"))\n",
    "ch.tokenized[ch.tokenized != \"\"]"
   ]
  },
  {
   "cell_type": "markdown",
   "metadata": {
    "slideshow": {
     "slide_type": "subslide"
    }
   },
   "source": [
    "Keeping only words with a sufficient length:"
   ]
  },
  {
   "cell_type": "code",
   "execution_count": 8,
   "metadata": {
    "collapsed": false,
    "slideshow": {
     "slide_type": "fragment"
    }
   },
   "outputs": [
    {
     "data": {
      "text/html": [
       "<ol class=list-inline>\n",
       "\t<li>'The'</li>\n",
       "\t<li>'challenge'</li>\n",
       "\t<li>'exploiting'</li>\n",
       "\t<li>'the'</li>\n",
       "\t<li>'large'</li>\n",
       "\t<li>'proportion'</li>\n",
       "\t<li>'enterprise'</li>\n",
       "\t<li>'information'</li>\n",
       "\t<li>'that'</li>\n",
       "\t<li>'originates'</li>\n",
       "\t<li>'unstructured'</li>\n",
       "\t<li>'form'</li>\n",
       "\t<li>'has'</li>\n",
       "\t<li>'been'</li>\n",
       "\t<li>'recognized'</li>\n",
       "\t<li>'for'</li>\n",
       "\t<li>'decades'</li>\n",
       "\t<li>'recognized'</li>\n",
       "\t<li>'the'</li>\n",
       "\t<li>'earliest'</li>\n",
       "\t<li>'definition'</li>\n",
       "\t<li>'business'</li>\n",
       "\t<li>'intelligence'</li>\n",
       "\t<li>'October'</li>\n",
       "\t<li>'IBM'</li>\n",
       "\t<li>'Journal'</li>\n",
       "\t<li>'article'</li>\n",
       "\t<li>'Luhn'</li>\n",
       "\t<li>'Business'</li>\n",
       "\t<li>'Intelligence'</li>\n",
       "\t<li>'System'</li>\n",
       "\t<li>'which'</li>\n",
       "\t<li>'describes'</li>\n",
       "\t<li>'system'</li>\n",
       "\t<li>'that'</li>\n",
       "\t<li>'will'</li>\n",
       "</ol>\n"
      ],
      "text/latex": [
       "\\begin{enumerate*}\n",
       "\\item 'The'\n",
       "\\item 'challenge'\n",
       "\\item 'exploiting'\n",
       "\\item 'the'\n",
       "\\item 'large'\n",
       "\\item 'proportion'\n",
       "\\item 'enterprise'\n",
       "\\item 'information'\n",
       "\\item 'that'\n",
       "\\item 'originates'\n",
       "\\item 'unstructured'\n",
       "\\item 'form'\n",
       "\\item 'has'\n",
       "\\item 'been'\n",
       "\\item 'recognized'\n",
       "\\item 'for'\n",
       "\\item 'decades'\n",
       "\\item 'recognized'\n",
       "\\item 'the'\n",
       "\\item 'earliest'\n",
       "\\item 'definition'\n",
       "\\item 'business'\n",
       "\\item 'intelligence'\n",
       "\\item 'October'\n",
       "\\item 'IBM'\n",
       "\\item 'Journal'\n",
       "\\item 'article'\n",
       "\\item 'Luhn'\n",
       "\\item 'Business'\n",
       "\\item 'Intelligence'\n",
       "\\item 'System'\n",
       "\\item 'which'\n",
       "\\item 'describes'\n",
       "\\item 'system'\n",
       "\\item 'that'\n",
       "\\item 'will'\n",
       "\\end{enumerate*}\n"
      ],
      "text/markdown": [
       "1. 'The'\n",
       "2. 'challenge'\n",
       "3. 'exploiting'\n",
       "4. 'the'\n",
       "5. 'large'\n",
       "6. 'proportion'\n",
       "7. 'enterprise'\n",
       "8. 'information'\n",
       "9. 'that'\n",
       "10. 'originates'\n",
       "11. 'unstructured'\n",
       "12. 'form'\n",
       "13. 'has'\n",
       "14. 'been'\n",
       "15. 'recognized'\n",
       "16. 'for'\n",
       "17. 'decades'\n",
       "18. 'recognized'\n",
       "19. 'the'\n",
       "20. 'earliest'\n",
       "21. 'definition'\n",
       "22. 'business'\n",
       "23. 'intelligence'\n",
       "24. 'October'\n",
       "25. 'IBM'\n",
       "26. 'Journal'\n",
       "27. 'article'\n",
       "28. 'Luhn'\n",
       "29. 'Business'\n",
       "30. 'Intelligence'\n",
       "31. 'System'\n",
       "32. 'which'\n",
       "33. 'describes'\n",
       "34. 'system'\n",
       "35. 'that'\n",
       "36. 'will'\n",
       "\n",
       "\n"
      ],
      "text/plain": [
       " [1] \"The\"          \"challenge\"    \"exploiting\"   \"the\"          \"large\"       \n",
       " [6] \"proportion\"   \"enterprise\"   \"information\"  \"that\"         \"originates\"  \n",
       "[11] \"unstructured\" \"form\"         \"has\"          \"been\"         \"recognized\"  \n",
       "[16] \"for\"          \"decades\"      \"recognized\"   \"the\"          \"earliest\"    \n",
       "[21] \"definition\"   \"business\"     \"intelligence\" \"October\"      \"IBM\"         \n",
       "[26] \"Journal\"      \"article\"      \"Luhn\"         \"Business\"     \"Intelligence\"\n",
       "[31] \"System\"       \"which\"        \"describes\"    \"system\"       \"that\"        \n",
       "[36] \"will\"        "
      ]
     },
     "execution_count": 8,
     "metadata": {},
     "output_type": "execute_result"
    }
   ],
   "source": [
    "ch.tokenized[nchar(ch.tokenized) > 2]"
   ]
  },
  {
   "cell_type": "markdown",
   "metadata": {
    "slideshow": {
     "slide_type": "fragment"
    }
   },
   "source": [
    "etc. (see \"basic cleaning\")"
   ]
  },
  {
   "cell_type": "markdown",
   "metadata": {
    "slideshow": {
     "slide_type": "slide"
    }
   },
   "source": [
    "## Preprocessing\n",
    "\n",
    "* tokenization\n",
    "* **basic cleaning**\n",
    "* stopwords\n",
    "* stemming"
   ]
  },
  {
   "cell_type": "markdown",
   "metadata": {
    "slideshow": {
     "slide_type": "subslide"
    }
   },
   "source": [
    "Really basic cleaning includes\n",
    "\n",
    "* converting string to lowercase\n",
    "* removing numbers\n",
    "* removing punctuation marks"
   ]
  },
  {
   "cell_type": "markdown",
   "metadata": {
    "slideshow": {
     "slide_type": "fragment"
    }
   },
   "source": [
    "Let's practice!"
   ]
  },
  {
   "cell_type": "markdown",
   "metadata": {
    "slideshow": {
     "slide_type": "subslide"
    }
   },
   "source": [
    "For the rest of the talk, I will showcase on a famous best-seller:\n",
    "\n",
    "<img src=\"img/phil_stone.jpg\" style='height: 400px'/>"
   ]
  },
  {
   "cell_type": "markdown",
   "metadata": {
    "slideshow": {
     "slide_type": "fragment"
    }
   },
   "source": [
    "However, I cannot distribute the data for obvious copyright issues. Instead, feel free to use the numerous **open data**! "
   ]
  },
  {
   "cell_type": "markdown",
   "metadata": {
    "slideshow": {
     "slide_type": "subslide"
    }
   },
   "source": [
    "<img src=\"img/gutenberg.png\" style='height: 600px'/>\n",
    "\n",
    "http://www.gutenberg.org"
   ]
  },
  {
   "cell_type": "code",
   "execution_count": 326,
   "metadata": {
    "collapsed": false,
    "slideshow": {
     "slide_type": "subslide"
    }
   },
   "outputs": [
    {
     "name": "stderr",
     "output_type": "stream",
     "text": [
      "Excerpt of the raw textfile:\n"
     ]
    },
    {
     "data": {
      "text/html": [
       "'Mr. Dursley sat frozen in his armchair. Shooting stars all over Britain? Owls flying by daylight? Mysterious people in cloaks all over the place? And a whisper, a whisper about the Potters....'"
      ],
      "text/latex": [
       "'Mr. Dursley sat frozen in his armchair. Shooting stars all over Britain? Owls flying by daylight? Mysterious people in cloaks all over the place? And a whisper, a whisper about the Potters....'"
      ],
      "text/markdown": [
       "'Mr. Dursley sat frozen in his armchair. Shooting stars all over Britain? Owls flying by daylight? Mysterious people in cloaks all over the place? And a whisper, a whisper about the Potters....'"
      ],
      "text/plain": [
       "[1] \"Mr. Dursley sat frozen in his armchair. Shooting stars all over Britain? Owls flying by daylight? Mysterious people in cloaks all over the place? And a whisper, a whisper about the Potters....\""
      ]
     },
     "execution_count": 326,
     "metadata": {},
     "output_type": "execute_result"
    }
   ],
   "source": [
    "library(NLP)\n",
    "library(tm)\n",
    "\n",
    "hp <- readLines(\"data/HP1.txt\", encoding=\"UTF-8\")\n",
    "#hp <- readLines(\"data/melville.txt\", encoding=\"UTF-8\")\n",
    "\n",
    "message(\"Excerpt of the raw textfile:\")\n",
    "excerpt <- 30\n",
    "hp[excerpt]"
   ]
  },
  {
   "cell_type": "markdown",
   "metadata": {
    "slideshow": {
     "slide_type": "subslide"
    }
   },
   "source": [
    "Building the **corpus** object from a vector source:"
   ]
  },
  {
   "cell_type": "code",
   "execution_count": 327,
   "metadata": {
    "collapsed": false,
    "slideshow": {
     "slide_type": "fragment"
    }
   },
   "outputs": [
    {
     "name": "stderr",
     "output_type": "stream",
     "text": [
      "Corpus consituted with TM:\n"
     ]
    },
    {
     "data": {
      "text/plain": [
       "<<VCorpus>>\n",
       "Metadata:  corpus specific: 0, document level (indexed): 0\n",
       "Content:  documents: 3219"
      ]
     },
     "execution_count": 327,
     "metadata": {},
     "output_type": "execute_result"
    },
    {
     "name": "stderr",
     "output_type": "stream",
     "text": [
      "Accessing one document:\n"
     ]
    },
    {
     "data": {
      "text/html": [
       "'Mr. Dursley sat frozen in his armchair. Shooting stars all over Britain? Owls flying by daylight? Mysterious people in cloaks all over the place? And a whisper, a whisper about the Potters....'"
      ],
      "text/latex": [
       "'Mr. Dursley sat frozen in his armchair. Shooting stars all over Britain? Owls flying by daylight? Mysterious people in cloaks all over the place? And a whisper, a whisper about the Potters....'"
      ],
      "text/markdown": [
       "'Mr. Dursley sat frozen in his armchair. Shooting stars all over Britain? Owls flying by daylight? Mysterious people in cloaks all over the place? And a whisper, a whisper about the Potters....'"
      ],
      "text/plain": [
       "[1] \"Mr. Dursley sat frozen in his armchair. Shooting stars all over Britain? Owls flying by daylight? Mysterious people in cloaks all over the place? And a whisper, a whisper about the Potters....\""
      ]
     },
     "execution_count": 327,
     "metadata": {},
     "output_type": "execute_result"
    }
   ],
   "source": [
    "hp.corpus <- Corpus(VectorSource(hp))\n",
    "\n",
    "message(\"Corpus consituted with TM:\")\n",
    "hp.corpus\n",
    "\n",
    "message(\"Accessing one document:\")\n",
    "hp.corpus[[excerpt]]$content\n"
   ]
  },
  {
   "cell_type": "markdown",
   "metadata": {
    "slideshow": {
     "slide_type": "subslide"
    }
   },
   "source": [
    "After lowercasing:"
   ]
  },
  {
   "cell_type": "code",
   "execution_count": 336,
   "metadata": {
    "collapsed": false,
    "slideshow": {
     "slide_type": "fragment"
    }
   },
   "outputs": [
    {
     "data": {
      "text/html": [
       "'mr dursley sat frozen in his armchair shooting stars all over britain owls flying by daylight mysterious people in cloaks all over the place and a whisper a whisper about the potters'"
      ],
      "text/latex": [
       "'mr dursley sat frozen in his armchair shooting stars all over britain owls flying by daylight mysterious people in cloaks all over the place and a whisper a whisper about the potters'"
      ],
      "text/markdown": [
       "'mr dursley sat frozen in his armchair shooting stars all over britain owls flying by daylight mysterious people in cloaks all over the place and a whisper a whisper about the potters'"
      ],
      "text/plain": [
       "[1] \"mr dursley sat frozen in his armchair shooting stars all over britain owls flying by daylight mysterious people in cloaks all over the place and a whisper a whisper about the potters\""
      ]
     },
     "execution_count": 336,
     "metadata": {},
     "output_type": "execute_result"
    }
   ],
   "source": [
    "hp.corpus <- tm_map(hp.corpus, content_transformer(tolower))\n",
    "hp.corpus[[excerpt]]$content"
   ]
  },
  {
   "cell_type": "markdown",
   "metadata": {
    "slideshow": {
     "slide_type": "fragment"
    }
   },
   "source": [
    "Without numbers and punctuation:"
   ]
  },
  {
   "cell_type": "code",
   "execution_count": 339,
   "metadata": {
    "collapsed": false,
    "slideshow": {
     "slide_type": "fragment"
    }
   },
   "outputs": [
    {
     "data": {
      "text/html": [
       "'mr dursley sat frozen in his armchair shooting stars all over britain owls flying by daylight mysterious people in cloaks all over the place and a whisper a whisper about the potters'"
      ],
      "text/latex": [
       "'mr dursley sat frozen in his armchair shooting stars all over britain owls flying by daylight mysterious people in cloaks all over the place and a whisper a whisper about the potters'"
      ],
      "text/markdown": [
       "'mr dursley sat frozen in his armchair shooting stars all over britain owls flying by daylight mysterious people in cloaks all over the place and a whisper a whisper about the potters'"
      ],
      "text/plain": [
       "[1] \"mr dursley sat frozen in his armchair shooting stars all over britain owls flying by daylight mysterious people in cloaks all over the place and a whisper a whisper about the potters\""
      ]
     },
     "execution_count": 339,
     "metadata": {},
     "output_type": "execute_result"
    }
   ],
   "source": [
    "hp.corpus <- tm_map(hp.corpus, removeNumbers)\n",
    "hp.corpus <- tm_map(hp.corpus, removePunctuation)\n",
    "hp.corpus[[excerpt]]$content"
   ]
  },
  {
   "cell_type": "markdown",
   "metadata": {
    "slideshow": {
     "slide_type": "slide"
    }
   },
   "source": [
    "## Preprocessing\n",
    "\n",
    "* tokenization\n",
    "* basic cleaning\n",
    "* **stopwords**\n",
    "* stemming"
   ]
  },
  {
   "cell_type": "markdown",
   "metadata": {
    "slideshow": {
     "slide_type": "subslide"
    }
   },
   "source": [
    "*(I skip some code that builds the terms x documents matrix)*\n",
    "\n",
    "After summing over all term frequencies and sorting:"
   ]
  },
  {
   "cell_type": "code",
   "execution_count": null,
   "metadata": {
    "collapsed": false,
    "scrolled": true,
    "slideshow": {
     "slide_type": "fragment"
    }
   },
   "outputs": [],
   "source": [
    "barplot(hp.freq.sorted[1:50], xlab=\"Word\", ylab=\"Frequency\", las=2)"
   ]
  },
  {
   "cell_type": "markdown",
   "metadata": {
    "slideshow": {
     "slide_type": "fragment"
    }
   },
   "source": [
    "<img src=\"img/barplot1.png\" style='height: 500px'/>"
   ]
  },
  {
   "cell_type": "markdown",
   "metadata": {
    "slideshow": {
     "slide_type": "subslide"
    }
   },
   "source": [
    "This particular shape is called the **Zipf's law** for it has been first observed by the linguist George K. Zipf (1902-1950).\n",
    "\n",
    "Zipf's law states that given some corpus of natural language utterances, the frequency of any word is **inversely proportional** to its rank in the frequency table."
   ]
  },
  {
   "cell_type": "markdown",
   "metadata": {
    "slideshow": {
     "slide_type": "fragment"
    }
   },
   "source": [
    "Note that most of the top words don't carry much information."
   ]
  },
  {
   "cell_type": "markdown",
   "metadata": {
    "slideshow": {
     "slide_type": "subslide"
    }
   },
   "source": [
    "Stop-words are words that from non-linguistic view do not carry information.\n",
    "They have mainly **functional** role.\n",
    "Usually we remove them to help the methods to perform better."
   ]
  },
  {
   "cell_type": "code",
   "execution_count": 332,
   "metadata": {
    "collapsed": false,
    "slideshow": {
     "slide_type": "fragment"
    }
   },
   "outputs": [
    {
     "data": {
      "text/html": [
       "<ol class=list-inline>\n",
       "\t<li>'i'</li>\n",
       "\t<li>'me'</li>\n",
       "\t<li>'my'</li>\n",
       "\t<li>'myself'</li>\n",
       "\t<li>'we'</li>\n",
       "\t<li>'our'</li>\n",
       "\t<li>'ours'</li>\n",
       "\t<li>'ourselves'</li>\n",
       "\t<li>'you'</li>\n",
       "\t<li>'your'</li>\n",
       "\t<li>'yours'</li>\n",
       "\t<li>'yourself'</li>\n",
       "\t<li>'yourselves'</li>\n",
       "\t<li>'he'</li>\n",
       "\t<li>'him'</li>\n",
       "\t<li>'his'</li>\n",
       "\t<li>'himself'</li>\n",
       "\t<li>'she'</li>\n",
       "\t<li>'her'</li>\n",
       "\t<li>'hers'</li>\n",
       "\t<li>'herself'</li>\n",
       "\t<li>'it'</li>\n",
       "\t<li>'its'</li>\n",
       "\t<li>'itself'</li>\n",
       "\t<li>'they'</li>\n",
       "\t<li>'them'</li>\n",
       "\t<li>'their'</li>\n",
       "\t<li>'theirs'</li>\n",
       "\t<li>'themselves'</li>\n",
       "\t<li>'what'</li>\n",
       "\t<li>'which'</li>\n",
       "\t<li>'who'</li>\n",
       "\t<li>'whom'</li>\n",
       "\t<li>'this'</li>\n",
       "\t<li>'that'</li>\n",
       "\t<li>'these'</li>\n",
       "\t<li>'those'</li>\n",
       "\t<li>'am'</li>\n",
       "\t<li>'is'</li>\n",
       "\t<li>'are'</li>\n",
       "</ol>\n"
      ],
      "text/latex": [
       "\\begin{enumerate*}\n",
       "\\item 'i'\n",
       "\\item 'me'\n",
       "\\item 'my'\n",
       "\\item 'myself'\n",
       "\\item 'we'\n",
       "\\item 'our'\n",
       "\\item 'ours'\n",
       "\\item 'ourselves'\n",
       "\\item 'you'\n",
       "\\item 'your'\n",
       "\\item 'yours'\n",
       "\\item 'yourself'\n",
       "\\item 'yourselves'\n",
       "\\item 'he'\n",
       "\\item 'him'\n",
       "\\item 'his'\n",
       "\\item 'himself'\n",
       "\\item 'she'\n",
       "\\item 'her'\n",
       "\\item 'hers'\n",
       "\\item 'herself'\n",
       "\\item 'it'\n",
       "\\item 'its'\n",
       "\\item 'itself'\n",
       "\\item 'they'\n",
       "\\item 'them'\n",
       "\\item 'their'\n",
       "\\item 'theirs'\n",
       "\\item 'themselves'\n",
       "\\item 'what'\n",
       "\\item 'which'\n",
       "\\item 'who'\n",
       "\\item 'whom'\n",
       "\\item 'this'\n",
       "\\item 'that'\n",
       "\\item 'these'\n",
       "\\item 'those'\n",
       "\\item 'am'\n",
       "\\item 'is'\n",
       "\\item 'are'\n",
       "\\end{enumerate*}\n"
      ],
      "text/markdown": [
       "1. 'i'\n",
       "2. 'me'\n",
       "3. 'my'\n",
       "4. 'myself'\n",
       "5. 'we'\n",
       "6. 'our'\n",
       "7. 'ours'\n",
       "8. 'ourselves'\n",
       "9. 'you'\n",
       "10. 'your'\n",
       "11. 'yours'\n",
       "12. 'yourself'\n",
       "13. 'yourselves'\n",
       "14. 'he'\n",
       "15. 'him'\n",
       "16. 'his'\n",
       "17. 'himself'\n",
       "18. 'she'\n",
       "19. 'her'\n",
       "20. 'hers'\n",
       "21. 'herself'\n",
       "22. 'it'\n",
       "23. 'its'\n",
       "24. 'itself'\n",
       "25. 'they'\n",
       "26. 'them'\n",
       "27. 'their'\n",
       "28. 'theirs'\n",
       "29. 'themselves'\n",
       "30. 'what'\n",
       "31. 'which'\n",
       "32. 'who'\n",
       "33. 'whom'\n",
       "34. 'this'\n",
       "35. 'that'\n",
       "36. 'these'\n",
       "37. 'those'\n",
       "38. 'am'\n",
       "39. 'is'\n",
       "40. 'are'\n",
       "\n",
       "\n"
      ],
      "text/plain": [
       " [1] \"i\"          \"me\"         \"my\"         \"myself\"     \"we\"        \n",
       " [6] \"our\"        \"ours\"       \"ourselves\"  \"you\"        \"your\"      \n",
       "[11] \"yours\"      \"yourself\"   \"yourselves\" \"he\"         \"him\"       \n",
       "[16] \"his\"        \"himself\"    \"she\"        \"her\"        \"hers\"      \n",
       "[21] \"herself\"    \"it\"         \"its\"        \"itself\"     \"they\"      \n",
       "[26] \"them\"       \"their\"      \"theirs\"     \"themselves\" \"what\"      \n",
       "[31] \"which\"      \"who\"        \"whom\"       \"this\"       \"that\"      \n",
       "[36] \"these\"      \"those\"      \"am\"         \"is\"         \"are\"       "
      ]
     },
     "execution_count": 332,
     "metadata": {},
     "output_type": "execute_result"
    }
   ],
   "source": [
    "stopwords(\"english\")[1:40]"
   ]
  },
  {
   "cell_type": "markdown",
   "metadata": {
    "slideshow": {
     "slide_type": "subslide"
    }
   },
   "source": [
    "Stop words are language dependent - examples:"
   ]
  },
  {
   "cell_type": "code",
   "execution_count": 333,
   "metadata": {
    "collapsed": false,
    "slideshow": {
     "slide_type": "fragment"
    }
   },
   "outputs": [
    {
     "name": "stderr",
     "output_type": "stream",
     "text": [
      "French:\n"
     ]
    },
    {
     "data": {
      "text/html": [
       "<ol class=list-inline>\n",
       "\t<li>'au'</li>\n",
       "\t<li>'aux'</li>\n",
       "\t<li>'avec'</li>\n",
       "\t<li>'ce'</li>\n",
       "\t<li>'ces'</li>\n",
       "\t<li>'dans'</li>\n",
       "\t<li>'de'</li>\n",
       "\t<li>'des'</li>\n",
       "\t<li>'du'</li>\n",
       "\t<li>'elle'</li>\n",
       "\t<li>'en'</li>\n",
       "\t<li>'et'</li>\n",
       "\t<li>'eux'</li>\n",
       "\t<li>'il'</li>\n",
       "\t<li>'je'</li>\n",
       "</ol>\n"
      ],
      "text/latex": [
       "\\begin{enumerate*}\n",
       "\\item 'au'\n",
       "\\item 'aux'\n",
       "\\item 'avec'\n",
       "\\item 'ce'\n",
       "\\item 'ces'\n",
       "\\item 'dans'\n",
       "\\item 'de'\n",
       "\\item 'des'\n",
       "\\item 'du'\n",
       "\\item 'elle'\n",
       "\\item 'en'\n",
       "\\item 'et'\n",
       "\\item 'eux'\n",
       "\\item 'il'\n",
       "\\item 'je'\n",
       "\\end{enumerate*}\n"
      ],
      "text/markdown": [
       "1. 'au'\n",
       "2. 'aux'\n",
       "3. 'avec'\n",
       "4. 'ce'\n",
       "5. 'ces'\n",
       "6. 'dans'\n",
       "7. 'de'\n",
       "8. 'des'\n",
       "9. 'du'\n",
       "10. 'elle'\n",
       "11. 'en'\n",
       "12. 'et'\n",
       "13. 'eux'\n",
       "14. 'il'\n",
       "15. 'je'\n",
       "\n",
       "\n"
      ],
      "text/plain": [
       " [1] \"au\"   \"aux\"  \"avec\" \"ce\"   \"ces\"  \"dans\" \"de\"   \"des\"  \"du\"   \"elle\"\n",
       "[11] \"en\"   \"et\"   \"eux\"  \"il\"   \"je\"  "
      ]
     },
     "execution_count": 333,
     "metadata": {},
     "output_type": "execute_result"
    },
    {
     "name": "stderr",
     "output_type": "stream",
     "text": [
      "Dutch:\n"
     ]
    },
    {
     "data": {
      "text/html": [
       "<ol class=list-inline>\n",
       "\t<li>'de'</li>\n",
       "\t<li>'en'</li>\n",
       "\t<li>'van'</li>\n",
       "\t<li>'ik'</li>\n",
       "\t<li>'te'</li>\n",
       "\t<li>'dat'</li>\n",
       "\t<li>'die'</li>\n",
       "\t<li>'in'</li>\n",
       "\t<li>'een'</li>\n",
       "\t<li>'hij'</li>\n",
       "\t<li>'het'</li>\n",
       "\t<li>'niet'</li>\n",
       "\t<li>'zijn'</li>\n",
       "\t<li>'is'</li>\n",
       "\t<li>'was'</li>\n",
       "</ol>\n"
      ],
      "text/latex": [
       "\\begin{enumerate*}\n",
       "\\item 'de'\n",
       "\\item 'en'\n",
       "\\item 'van'\n",
       "\\item 'ik'\n",
       "\\item 'te'\n",
       "\\item 'dat'\n",
       "\\item 'die'\n",
       "\\item 'in'\n",
       "\\item 'een'\n",
       "\\item 'hij'\n",
       "\\item 'het'\n",
       "\\item 'niet'\n",
       "\\item 'zijn'\n",
       "\\item 'is'\n",
       "\\item 'was'\n",
       "\\end{enumerate*}\n"
      ],
      "text/markdown": [
       "1. 'de'\n",
       "2. 'en'\n",
       "3. 'van'\n",
       "4. 'ik'\n",
       "5. 'te'\n",
       "6. 'dat'\n",
       "7. 'die'\n",
       "8. 'in'\n",
       "9. 'een'\n",
       "10. 'hij'\n",
       "11. 'het'\n",
       "12. 'niet'\n",
       "13. 'zijn'\n",
       "14. 'is'\n",
       "15. 'was'\n",
       "\n",
       "\n"
      ],
      "text/plain": [
       " [1] \"de\"   \"en\"   \"van\"  \"ik\"   \"te\"   \"dat\"  \"die\"  \"in\"   \"een\"  \"hij\" \n",
       "[11] \"het\"  \"niet\" \"zijn\" \"is\"   \"was\" "
      ]
     },
     "execution_count": 333,
     "metadata": {},
     "output_type": "execute_result"
    },
    {
     "name": "stderr",
     "output_type": "stream",
     "text": [
      "Hungarian:\n"
     ]
    },
    {
     "data": {
      "text/html": [
       "<ol class=list-inline>\n",
       "\t<li>'a'</li>\n",
       "\t<li>'ahogy'</li>\n",
       "\t<li>'ahol'</li>\n",
       "\t<li>'aki'</li>\n",
       "\t<li>'akik'</li>\n",
       "\t<li>'akkor'</li>\n",
       "\t<li>'alatt'</li>\n",
       "\t<li>'által'</li>\n",
       "\t<li>'általában'</li>\n",
       "\t<li>'amely'</li>\n",
       "\t<li>'amelyek'</li>\n",
       "\t<li>'amelyekben'</li>\n",
       "\t<li>'amelyeket'</li>\n",
       "\t<li>'amelyet'</li>\n",
       "\t<li>'amelynek'</li>\n",
       "</ol>\n"
      ],
      "text/latex": [
       "\\begin{enumerate*}\n",
       "\\item 'a'\n",
       "\\item 'ahogy'\n",
       "\\item 'ahol'\n",
       "\\item 'aki'\n",
       "\\item 'akik'\n",
       "\\item 'akkor'\n",
       "\\item 'alatt'\n",
       "\\item 'által'\n",
       "\\item 'általában'\n",
       "\\item 'amely'\n",
       "\\item 'amelyek'\n",
       "\\item 'amelyekben'\n",
       "\\item 'amelyeket'\n",
       "\\item 'amelyet'\n",
       "\\item 'amelynek'\n",
       "\\end{enumerate*}\n"
      ],
      "text/markdown": [
       "1. 'a'\n",
       "2. 'ahogy'\n",
       "3. 'ahol'\n",
       "4. 'aki'\n",
       "5. 'akik'\n",
       "6. 'akkor'\n",
       "7. 'alatt'\n",
       "8. 'által'\n",
       "9. 'általában'\n",
       "10. 'amely'\n",
       "11. 'amelyek'\n",
       "12. 'amelyekben'\n",
       "13. 'amelyeket'\n",
       "14. 'amelyet'\n",
       "15. 'amelynek'\n",
       "\n",
       "\n"
      ],
      "text/plain": [
       " [1] \"a\"                   \"ahogy\"               \"ahol\"               \n",
       " [4] \"aki\"                 \"akik\"                \"akkor\"              \n",
       " [7] \"alatt\"               \"<U+00E1>ltal\"        \"<U+00E1>ltal<U+00E1>ban\"\n",
       "[10] \"amely\"               \"amelyek\"             \"amelyekben\"         \n",
       "[13] \"amelyeket\"           \"amelyet\"             \"amelynek\"           "
      ]
     },
     "execution_count": 333,
     "metadata": {},
     "output_type": "execute_result"
    }
   ],
   "source": [
    "message(\"French:\")\n",
    "stopwords(\"french\")[1:15]\n",
    "message(\"Dutch:\")\n",
    "stopwords(\"dutch\")[1:15]\n",
    "message(\"Hungarian:\")\n",
    "stopwords(\"hungarian\")[1:15]"
   ]
  },
  {
   "cell_type": "code",
   "execution_count": 334,
   "metadata": {
    "collapsed": false,
    "slideshow": {
     "slide_type": "skip"
    }
   },
   "outputs": [],
   "source": [
    "hp.corpus.sw <- tm_map(hp.corpus, removeWords, stopwords('english'))\n",
    "hp.dtm.sw <- TermDocumentMatrix(hp.corpus.sw)\n",
    "m.sw <- as.matrix(hp.dtm.sw)\n",
    "hp.freq.sw <- rowSums(m.sw)\n",
    "hp.freq.sw.sorted <- sort(hp.freq.sw, decreasing=TRUE)"
   ]
  },
  {
   "cell_type": "markdown",
   "metadata": {
    "slideshow": {
     "slide_type": "subslide"
    }
   },
   "source": [
    "Same barplot but without the English stopwords:"
   ]
  },
  {
   "cell_type": "code",
   "execution_count": null,
   "metadata": {
    "collapsed": false,
    "scrolled": false,
    "slideshow": {
     "slide_type": "fragment"
    }
   },
   "outputs": [],
   "source": [
    "barplot(hp.freq.sw.sorted[1:50], xlab=\"Word\", ylab=\"Frequency\", las=2)"
   ]
  },
  {
   "cell_type": "markdown",
   "metadata": {
    "slideshow": {
     "slide_type": "fragment"
    }
   },
   "source": [
    "<img src=\"img/barplot2.png\" style='height: 500px'/>"
   ]
  },
  {
   "cell_type": "markdown",
   "metadata": {
    "slideshow": {
     "slide_type": "subslide"
    }
   },
   "source": [
    "We can easily customize the stop list."
   ]
  },
  {
   "cell_type": "code",
   "execution_count": null,
   "metadata": {
    "collapsed": false,
    "slideshow": {
     "slide_type": "fragment"
    }
   },
   "outputs": [],
   "source": [
    "myown <- c(\"got\", \"didnt\", \"one\", \"get\", \"around\", \"like\", \"just\", \"dont\", \"next\")\n",
    "hp.corpus.sw2 <- tm_map(hp.corpus, removeWords, c(stopwords('english'), myown))\n",
    "hp.dtm.sw2 <- TermDocumentMatrix(hp.corpus.sw2)\n",
    "m.sw2 <- as.matrix(hp.dtm.sw2)\n",
    "hp.freq.sw2 <- rowSums(m.sw2)\n",
    "hp.freq.sw2.sorted <- sort(hp.freq.sw2, decreasing=TRUE)\n",
    "barplot(hp.freq.sw2.sorted[1:50], xlab=\"Word\", ylab=\"Frequency\", las=2)"
   ]
  },
  {
   "cell_type": "markdown",
   "metadata": {
    "slideshow": {
     "slide_type": "fragment"
    }
   },
   "source": [
    "<img src=\"img/barplot3.png\" style='height: 500px'/>"
   ]
  },
  {
   "cell_type": "markdown",
   "metadata": {
    "slideshow": {
     "slide_type": "subslide"
    }
   },
   "source": [
    "In the small world hypothesis, stopwords can be used for language identification (Grefenstette 1995).\n",
    "\n",
    "If $|T| > 30$, we achieve **less than 0.5% error**!"
   ]
  },
  {
   "cell_type": "code",
   "execution_count": 186,
   "metadata": {
    "collapsed": false,
    "slideshow": {
     "slide_type": "subslide"
    }
   },
   "outputs": [
    {
     "name": "stderr",
     "output_type": "stream",
     "text": [
      "Mr. Dursley sat frozen in his armchair. Shooting stars all over Britain? Owls flying by daylight? Mysterious people in cloaks all over the place? And a whisper, a whisper about the Potters....\n"
     ]
    },
    {
     "data": {
      "text/html": [
       "<table>\n",
       "<thead><tr><th scope=col>danish</th><th scope=col>dutch</th><th scope=col>english</th><th scope=col>finnish</th><th scope=col>french</th><th scope=col>german</th><th scope=col>hungarian</th><th scope=col>italian</th><th scope=col>norwegian</th><th scope=col>portuguese</th><th scope=col>russian</th><th scope=col>spanish</th><th scope=col>swedish</th></tr></thead>\n",
       "<tbody>\n",
       "\t<tr><td>1</td><td>2</td><td>9</td><td>0</td><td>0</td><td>1</td><td>1</td><td>3</td><td>1</td><td>1</td><td>0</td><td>1</td><td>0</td></tr>\n",
       "</tbody>\n",
       "</table>\n"
      ],
      "text/latex": [
       "\\begin{tabular}{lllllllllllll}\n",
       " danish & dutch & english & finnish & french & german & hungarian & italian & norwegian & portuguese & russian & spanish & swedish\\\\\n",
       "\\hline\n",
       "\t 1 & 2 & 9 & 0 & 0 & 1 & 1 & 3 & 1 & 1 & 0 & 1 & 0\\\\\n",
       "\\end{tabular}\n"
      ],
      "text/markdown": [
       "1. 1\n",
       "2. 2\n",
       "3. 9\n",
       "4. 0\n",
       "5. 0\n",
       "6. 1\n",
       "7. 1\n",
       "8. 3\n",
       "9. 1\n",
       "10. 1\n",
       "11. 0\n",
       "12. 1\n",
       "13. 0\n",
       "\n",
       "\n"
      ],
      "text/plain": [
       "     danish dutch english finnish french german hungarian italian norwegian\n",
       "[1,]      1     2       9       0      0      1         1       3         1\n",
       "     portuguese russian spanish swedish\n",
       "[1,]          1       0       1       0"
      ]
     },
     "execution_count": 186,
     "metadata": {},
     "output_type": "execute_result"
    },
    {
     "data": {
      "text/html": [
       "'My guess is: english'"
      ],
      "text/latex": [
       "'My guess is: english'"
      ],
      "text/markdown": [
       "'My guess is: english'"
      ],
      "text/plain": [
       "[1] \"My guess is: english\""
      ]
     },
     "execution_count": 186,
     "metadata": {},
     "output_type": "execute_result"
    }
   ],
   "source": [
    "lang <- c(\"danish\", \"dutch\", \"english\", \"finnish\", \"french\", \"german\", \"hungarian\", \"italian\", \"norwegian\", \"portuguese\", \"russian\", \"spanish\", \"swedish\")\n",
    "ch <- hp[30]\n",
    "#ch <- \"Las Antillas, o islas del Caribe, est an situadas junto al tropico de Cancer. Alli hace calor todo el ano.\"\n",
    "message(ch)\n",
    "ch.token <- sort(tolower(unlist(strsplit(ch, \"[^[:alpha:]]\"))))\n",
    "ch.token <- ch.token[ch.token != \"\"]\n",
    "tab.lang <- sapply(lang, function(x) length(intersect(ch.token, stopwords(x))))\n",
    "t(tab.lang)\n",
    "sprintf(\"My guess is: %s\", lang[which(tab.lang == max(tab.lang))])"
   ]
  },
  {
   "cell_type": "markdown",
   "metadata": {
    "slideshow": {
     "slide_type": "slide"
    }
   },
   "source": [
    "## Preprocessing\n",
    "\n",
    "* tokenization\n",
    "* basic cleaning\n",
    "* stopwords\n",
    "* **stemming**"
   ]
  },
  {
   "cell_type": "markdown",
   "metadata": {
    "slideshow": {
     "slide_type": "subslide"
    }
   },
   "source": [
    "### Stemming\n",
    "\n",
    "Different forms of the same word are usually problematic for text data analysis, because they have different spelling and similar meaning\n",
    "\n",
    "> learn: learns, learned, learning...<br/>\n",
    "> march: marcher, marchera, marcherai...\n",
    "\n",
    "Stemming is a process of transforming a word into its **stem** (normalized form).\n",
    "\n",
    "Stemming provides an inexpensive mechanism to merge words and reduce vocabulary.\n"
   ]
  },
  {
   "cell_type": "markdown",
   "metadata": {
    "slideshow": {
     "slide_type": "subslide"
    }
   },
   "source": [
    "For English is mostly used Porter stemmer (Porter, 1980):\n",
    "\n",
    "http://www.tartarus.org/~martin/PorterStemmer/\n",
    "\n",
    "It is based on cascade rules, ex:\n",
    "\n",
    ">ATIONAL -> ATE &nbsp;&nbsp;&nbsp;&nbsp;&nbsp; \trelational -> relate<br/>\n",
    "> TIONAL -> TION &nbsp;&nbsp;&nbsp;&nbsp;&nbsp;  \tconditional -> condition<br/>\n",
    "> IZER -> IZE &nbsp;&nbsp;&nbsp;&nbsp;&nbsp;&nbsp;&nbsp;&nbsp;&nbsp;&nbsp;&nbsp;   \tdigitizer -> digitize\n",
    "\n",
    "Improvement of the generalization ability."
   ]
  },
  {
   "cell_type": "code",
   "execution_count": 21,
   "metadata": {
    "collapsed": false,
    "slideshow": {
     "slide_type": "subslide"
    }
   },
   "outputs": [
    {
     "name": "stderr",
     "output_type": "stream",
     "text": [
      "Test in French:\n"
     ]
    },
    {
     "data": {
      "text/html": [
       "<ol class=list-inline>\n",
       "\t<li>'march'</li>\n",
       "\t<li>'march'</li>\n",
       "\t<li>'march'</li>\n",
       "</ol>\n"
      ],
      "text/latex": [
       "\\begin{enumerate*}\n",
       "\\item 'march'\n",
       "\\item 'march'\n",
       "\\item 'march'\n",
       "\\end{enumerate*}\n"
      ],
      "text/markdown": [
       "1. 'march'\n",
       "2. 'march'\n",
       "3. 'march'\n",
       "\n",
       "\n"
      ],
      "text/plain": [
       "[1] \"march\" \"march\" \"march\""
      ]
     },
     "execution_count": 21,
     "metadata": {},
     "output_type": "execute_result"
    },
    {
     "data": {
      "text/html": [
       "<ol class=list-inline>\n",
       "\t<li>'aventur'</li>\n",
       "\t<li>'aventur'</li>\n",
       "\t<li>'aventuri'</li>\n",
       "\t<li>'aventur'</li>\n",
       "</ol>\n"
      ],
      "text/latex": [
       "\\begin{enumerate*}\n",
       "\\item 'aventur'\n",
       "\\item 'aventur'\n",
       "\\item 'aventuri'\n",
       "\\item 'aventur'\n",
       "\\end{enumerate*}\n"
      ],
      "text/markdown": [
       "1. 'aventur'\n",
       "2. 'aventur'\n",
       "3. 'aventuri'\n",
       "4. 'aventur'\n",
       "\n",
       "\n"
      ],
      "text/plain": [
       "[1] \"aventur\"  \"aventur\"  \"aventuri\" \"aventur\" "
      ]
     },
     "execution_count": 21,
     "metadata": {},
     "output_type": "execute_result"
    }
   ],
   "source": [
    "library(SnowballC)\n",
    "\n",
    "message(\"Test in French:\")\n",
    "wordStem(c(\"marcher\", \"marcherons\", \"marcherait\"), language = \"french\")\n",
    "wordStem(c(\"aventure\", \"aventures\", \"aventuriers\", \"aventureux\"), language = \"french\"   )"
   ]
  },
  {
   "cell_type": "markdown",
   "metadata": {
    "slideshow": {
     "slide_type": "subslide"
    }
   },
   "source": [
    "Test stemming on our corpus:"
   ]
  },
  {
   "cell_type": "code",
   "execution_count": 22,
   "metadata": {
    "collapsed": false,
    "slideshow": {
     "slide_type": "fragment"
    }
   },
   "outputs": [
    {
     "name": "stderr",
     "output_type": "stream",
     "text": [
      "HP without stemming:\n"
     ]
    },
    {
     "data": {
      "text/html": [
       "'at half past eight mr dursley picked up his briefcase pecked mrs dursley on the cheek and tried to kiss dudley goodbye but missed because dudley was now having a tantrum and throwing his cereal at the walls'"
      ],
      "text/latex": [
       "'at half past eight mr dursley picked up his briefcase pecked mrs dursley on the cheek and tried to kiss dudley goodbye but missed because dudley was now having a tantrum and throwing his cereal at the walls'"
      ],
      "text/markdown": [
       "'at half past eight mr dursley picked up his briefcase pecked mrs dursley on the cheek and tried to kiss dudley goodbye but missed because dudley was now having a tantrum and throwing his cereal at the walls'"
      ],
      "text/plain": [
       "[1] \"at half past eight mr dursley picked up his briefcase pecked mrs dursley on the cheek and tried to kiss dudley goodbye but missed because dudley was now having a tantrum and throwing his cereal at the walls\""
      ]
     },
     "execution_count": 22,
     "metadata": {},
     "output_type": "execute_result"
    },
    {
     "name": "stderr",
     "output_type": "stream",
     "text": [
      "HP with stemming:\n"
     ]
    },
    {
     "data": {
      "text/html": [
       "'at half past eight mr durslei pick up hi briefcas peck mr durslei on the cheek and tri to kiss dudlei goodby but miss becaus dudlei wa now have a tantrum and throw hi cereal at the wall'"
      ],
      "text/latex": [
       "'at half past eight mr durslei pick up hi briefcas peck mr durslei on the cheek and tri to kiss dudlei goodby but miss becaus dudlei wa now have a tantrum and throw hi cereal at the wall'"
      ],
      "text/markdown": [
       "'at half past eight mr durslei pick up hi briefcas peck mr durslei on the cheek and tri to kiss dudlei goodby but miss becaus dudlei wa now have a tantrum and throw hi cereal at the wall'"
      ],
      "text/plain": [
       "[1] \"at half past eight mr durslei pick up hi briefcas peck mr durslei on the cheek and tri to kiss dudlei goodby but miss becaus dudlei wa now have a tantrum and throw hi cereal at the wall\""
      ]
     },
     "execution_count": 22,
     "metadata": {},
     "output_type": "execute_result"
    }
   ],
   "source": [
    "hp.corpus.stemmed <- tm_map(hp.corpus, stemDocument, language=\"porter\")\n",
    "message(\"HP without stemming:\")\n",
    "hp.corpus[[10]]$content\n",
    "message(\"HP with stemming:\")\n",
    "hp.corpus.stemmed[[10]]$content"
   ]
  },
  {
   "cell_type": "markdown",
   "metadata": {
    "slideshow": {
     "slide_type": "subslide"
    }
   },
   "source": [
    "How does it work?"
   ]
  },
  {
   "cell_type": "markdown",
   "metadata": {
    "slideshow": {
     "slide_type": "fragment"
    }
   },
   "source": [
    "First of all, it is based on a representation of English words.\n",
    "\n",
    "A **consonant (c)** in a word is a letter other than A, E, I, O or U, and other than Y preceded by a consonant\n",
    "\n",
    "> TOY : T, Y <br/>\n",
    "> SYZYGY : S, Z, G\n",
    "\n",
    "If a letter is not a consonant it is a **vowel (v)**.\n",
    "\n",
    "> C: ccc… <br/>\n",
    "> V: vvv…\n"
   ]
  },
  {
   "cell_type": "markdown",
   "metadata": {
    "slideshow": {
     "slide_type": "subslide"
    }
   },
   "source": [
    "Any word has one of the four forms:\n",
    "\n",
    "    CVCV ... C\n",
    "    CVCV ... V\n",
    "    VCVC ... C\n",
    "    VCVC ... V\n",
    "\n",
    "Represented by a single form:\n",
    "\n",
    "    [C]VCVC ... C[V]\n",
    "    or [C] (VC) {m} [V] \n"
   ]
  },
  {
   "cell_type": "markdown",
   "metadata": {
    "slideshow": {
     "slide_type": "subslide"
    }
   },
   "source": [
    "Examples for m=0:\n",
    "\n",
    "> TR,  EE,  TREE,  Y,  BY\n",
    "\n",
    "Examples for m=1:\n",
    "\n",
    "> TROUBLE,  OATS,  TREES,  IVY\n",
    "\n",
    "Examples for m=2:\n",
    "\n",
    "> TROUBLES,  PRIVATE,  OATEN,  ORRERY\n",
    "\n"
   ]
  },
  {
   "cell_type": "markdown",
   "metadata": {
    "slideshow": {
     "slide_type": "subslide"
    }
   },
   "source": [
    "**Rules:** (condition) S1 -> S2\n",
    "\n",
    "The longest matching first.\n",
    "\n",
    "Examples:\n",
    "\n",
    "<table style=\"border:0;\">\n",
    "<tr style=\"border:0;\">\n",
    "<td style=\"border:0; white-space:pre; padding:0 400px 0 0px;\">SSES -> SS</td><td style=\"border:0;\">caresses -> caress</td>\n",
    "</tr>\n",
    "<tr style=\"border:0;\">\n",
    "<td style=\"border:0;\">(*v*) ED</td><td style=\"border:0;\">plastered ->  plaster</td>\n",
    "</tr>\n",
    "<tr style=\"border:0;\">\n",
    "<td style=\"border:0;\">(m>0) TIONAL</td><td style=\"border:0;\">conditional ->  condition</td>\n",
    "</tr>\n",
    "<tr style=\"border:0;\">\n",
    "<td style=\"border:0;\">(m>1) EMENT</td><td style=\"border:0;\">replacement -> replac</td>\n",
    "</tr>\n",
    "<tr style=\"border:0;\">\n",
    "<td style=\"border:0;\">(m>1 and *d and *L) -> single letter</td><td style=\"border:0;\">controll -> control</td>\n",
    "</tr>\n",
    "</table>"
   ]
  },
  {
   "cell_type": "markdown",
   "metadata": {
    "slideshow": {
     "slide_type": "subslide"
    }
   },
   "source": [
    "**GENERALIZATIONS**\n",
    "\n",
    "GENERALIZATIONS -> GENERALIZATION (Step 1) -> GENERALIZE(Step 2) -> GENERAL (Step 3) -> GENER (Step 4)\n",
    "\n",
    "**OSCILLATORS**\n",
    "\n",
    "OSCILLATORS -> OSCILLATOR (Step 1) -> OSCILLATE (Step 2) -> OSCILL (Step 4) -> OSCIL (Step 5)\n"
   ]
  },
  {
   "cell_type": "markdown",
   "metadata": {
    "slideshow": {
     "slide_type": "subslide"
    }
   },
   "source": [
    "Stemming helps us to:\n",
    "\n",
    "- make two semantically-related documents closest\n",
    "- reduce the vocabulary size (see the *curse of dimensionality* below)\n",
    "\n",
    "Ok for:\n",
    "\n",
    "    adventur: [adventure,adventurer,adventurers,adventures,adventurous]\n",
    "\n",
    "But...\n",
    "\n",
    "    anim: [animal, animals, animation]\n"
   ]
  },
  {
   "cell_type": "markdown",
   "metadata": {
    "slideshow": {
     "slide_type": "subslide"
    }
   },
   "source": [
    "### Lemmatization\n",
    "\n",
    "Transform words to their underlying lexemes (**lemmas**).\n",
    "\n",
    "> running --> to run (verb) / running (noun)<br/>\n",
    "> are &nbsp;&nbsp;&nbsp;&nbsp;&nbsp;&nbsp;&nbsp;--> to be (verb)\n",
    "     \n",
    "It needs **POS tagging**. More accurate than stemming, but needs more resources.\n",
    "\n",
    "Crucial to choose between stemming (-precision, +recall) and lemmatization (+precision, -recall)."
   ]
  },
  {
   "cell_type": "markdown",
   "metadata": {
    "slideshow": {
     "slide_type": "slide"
    }
   },
   "source": [
    "## Simple visualization\n",
    "\n",
    "- **barplot**\n",
    "- word cloud\n",
    "- concordancer"
   ]
  },
  {
   "cell_type": "code",
   "execution_count": 23,
   "metadata": {
    "collapsed": false,
    "slideshow": {
     "slide_type": "subslide"
    }
   },
   "outputs": [
    {
     "data": {
      "image/png": "[encoded data removed]",
      "image/svg+xml": [
       "<?xml version=\"1.0\" encoding=\"UTF-8\"?>\n",
       "<svg xmlns=\"http://www.w3.org/2000/svg\" xmlns:xlink=\"http://www.w3.org/1999/xlink\" width=\"864pt\" height=\"432pt\" viewBox=\"0 0 864 432\" version=\"1.1\">\n",
       "<defs>\n",
       "<g>\n",
       "<symbol overflow=\"visible\" id=\"glyph0-0\">\n",
       "<path style=\"stroke:none;\" d=\"M 0 -0.390625 L -8.609375 -0.390625 L -8.609375 -7.21875 L 0 -7.21875 Z M -1.078125 -6.140625 L -7.53125 -6.140625 L -7.53125 -1.46875 L -1.078125 -1.46875 Z \"/>\n",
       "</symbol>\n",
       "<symbol overflow=\"visible\" id=\"glyph0-1\">\n",
       "<path style=\"stroke:none;\" d=\"M -8.640625 -0.78125 L -8.640625 -1.828125 L -5.421875 -1.828125 C -5.742188 -2.078125 -5.96875 -2.300781 -6.09375 -2.5 C -6.3125 -2.84375 -6.421875 -3.269531 -6.421875 -3.78125 C -6.421875 -4.6875 -6.101562 -5.300781 -5.46875 -5.625 C -5.125 -5.800781 -4.644531 -5.890625 -4.03125 -5.890625 L 0 -5.890625 L 0 -4.8125 L -3.953125 -4.8125 C -4.410156 -4.8125 -4.75 -4.75 -4.96875 -4.625 C -5.3125 -4.4375 -5.484375 -4.078125 -5.484375 -3.546875 C -5.484375 -3.109375 -5.332031 -2.710938 -5.03125 -2.359375 C -4.726562 -2.003906 -4.160156 -1.828125 -3.328125 -1.828125 L 0 -1.828125 L 0 -0.78125 Z \"/>\n",
       "</symbol>\n",
       "<symbol overflow=\"visible\" id=\"glyph0-2\">\n",
       "<path style=\"stroke:none;\" d=\"M -1.671875 -1.578125 C -1.367188 -1.578125 -1.128906 -1.6875 -0.953125 -1.90625 C -0.773438 -2.132812 -0.6875 -2.398438 -0.6875 -2.703125 C -0.6875 -3.078125 -0.769531 -3.4375 -0.9375 -3.78125 C -1.226562 -4.375 -1.695312 -4.671875 -2.34375 -4.671875 L -3.1875 -4.671875 C -3.113281 -4.535156 -3.046875 -4.363281 -2.984375 -4.15625 C -2.929688 -3.957031 -2.894531 -3.757812 -2.875 -3.5625 L -2.796875 -2.9375 C -2.742188 -2.550781 -2.660156 -2.257812 -2.546875 -2.0625 C -2.367188 -1.738281 -2.078125 -1.578125 -1.671875 -1.578125 Z M -3.796875 -4.140625 C -3.828125 -4.378906 -3.929688 -4.539062 -4.109375 -4.625 C -4.203125 -4.664062 -4.335938 -4.6875 -4.515625 -4.6875 C -4.867188 -4.6875 -5.125 -4.554688 -5.28125 -4.296875 C -5.445312 -4.046875 -5.53125 -3.6875 -5.53125 -3.21875 C -5.53125 -2.664062 -5.382812 -2.273438 -5.09375 -2.046875 C -4.925781 -1.910156 -4.679688 -1.820312 -4.359375 -1.78125 L -4.359375 -0.796875 C -5.128906 -0.816406 -5.664062 -1.066406 -5.96875 -1.546875 C -6.269531 -2.035156 -6.421875 -2.597656 -6.421875 -3.234375 C -6.421875 -3.972656 -6.28125 -4.570312 -6 -5.03125 C -5.71875 -5.488281 -5.28125 -5.71875 -4.6875 -5.71875 L -1.078125 -5.71875 C -0.972656 -5.71875 -0.882812 -5.738281 -0.8125 -5.78125 C -0.75 -5.832031 -0.71875 -5.929688 -0.71875 -6.078125 C -0.71875 -6.117188 -0.71875 -6.164062 -0.71875 -6.21875 C -0.726562 -6.28125 -0.738281 -6.347656 -0.75 -6.421875 L 0.03125 -6.421875 C 0.0703125 -6.253906 0.0976562 -6.125 0.109375 -6.03125 C 0.128906 -5.945312 0.140625 -5.832031 0.140625 -5.6875 C 0.140625 -5.320312 0.0078125 -5.0625 -0.25 -4.90625 C -0.382812 -4.8125 -0.578125 -4.75 -0.828125 -4.71875 C -0.546875 -4.5 -0.300781 -4.1875 -0.09375 -3.78125 C 0.113281 -3.382812 0.21875 -2.945312 0.21875 -2.46875 C 0.21875 -1.882812 0.0390625 -1.40625 -0.3125 -1.03125 C -0.664062 -0.664062 -1.109375 -0.484375 -1.640625 -0.484375 C -2.222656 -0.484375 -2.675781 -0.664062 -3 -1.03125 C -3.320312 -1.394531 -3.519531 -1.867188 -3.59375 -2.453125 Z M -6.421875 -3.265625 Z \"/>\n",
       "</symbol>\n",
       "<symbol overflow=\"visible\" id=\"glyph0-3\">\n",
       "<path style=\"stroke:none;\" d=\"M -6.28125 -0.796875 L -6.28125 -1.8125 L -5.1875 -1.8125 C -5.40625 -1.882812 -5.664062 -2.082031 -5.96875 -2.40625 C -6.269531 -2.726562 -6.421875 -3.097656 -6.421875 -3.515625 C -6.421875 -3.535156 -6.414062 -3.566406 -6.40625 -3.609375 C -6.40625 -3.660156 -6.398438 -3.742188 -6.390625 -3.859375 L -5.28125 -3.859375 C -5.289062 -3.796875 -5.296875 -3.738281 -5.296875 -3.6875 C -5.296875 -3.632812 -5.296875 -3.578125 -5.296875 -3.515625 C -5.296875 -2.984375 -5.125 -2.570312 -4.78125 -2.28125 C -4.445312 -2 -4.054688 -1.859375 -3.609375 -1.859375 L 0 -1.859375 L 0 -0.796875 Z \"/>\n",
       "</symbol>\n",
       "<symbol overflow=\"visible\" id=\"glyph0-4\">\n",
       "<path style=\"stroke:none;\" d=\"M -6.28125 -4.6875 L -6.28125 -5.859375 C -5.875 -5.710938 -4.953125 -5.382812 -3.515625 -4.875 C -2.441406 -4.488281 -1.566406 -4.164062 -0.890625 -3.90625 C 0.710938 -3.300781 1.691406 -2.875 2.046875 -2.625 C 2.398438 -2.375 2.578125 -1.941406 2.578125 -1.328125 C 2.578125 -1.179688 2.566406 -1.066406 2.546875 -0.984375 C 2.535156 -0.910156 2.515625 -0.8125 2.484375 -0.6875 L 1.53125 -0.6875 C 1.582031 -0.875 1.613281 -1.007812 1.625 -1.09375 C 1.632812 -1.175781 1.640625 -1.25 1.640625 -1.3125 C 1.640625 -1.5 1.609375 -1.640625 1.546875 -1.734375 C 1.484375 -1.828125 1.40625 -1.90625 1.3125 -1.96875 C 1.28125 -1.988281 1.117188 -2.054688 0.828125 -2.171875 C 0.535156 -2.296875 0.320312 -2.382812 0.1875 -2.4375 L -6.28125 -0.125 L -6.28125 -1.3125 L -1.171875 -3 Z M -6.421875 -3 Z \"/>\n",
       "</symbol>\n",
       "<symbol overflow=\"visible\" id=\"glyph0-5\">\n",
       "<path style=\"stroke:none;\" d=\"M -1.96875 -1.40625 C -1.613281 -1.4375 -1.34375 -1.523438 -1.15625 -1.671875 C -0.820312 -1.929688 -0.65625 -2.390625 -0.65625 -3.046875 C -0.65625 -3.441406 -0.738281 -3.785156 -0.90625 -4.078125 C -1.070312 -4.378906 -1.332031 -4.53125 -1.6875 -4.53125 C -1.957031 -4.53125 -2.164062 -4.410156 -2.3125 -4.171875 C -2.394531 -4.015625 -2.492188 -3.710938 -2.609375 -3.265625 L -2.8125 -2.421875 C -2.945312 -1.890625 -3.097656 -1.5 -3.265625 -1.25 C -3.546875 -0.789062 -3.941406 -0.5625 -4.453125 -0.5625 C -5.046875 -0.5625 -5.523438 -0.773438 -5.890625 -1.203125 C -6.253906 -1.628906 -6.4375 -2.207031 -6.4375 -2.9375 C -6.4375 -3.875 -6.160156 -4.550781 -5.609375 -4.96875 C -5.253906 -5.238281 -4.875 -5.367188 -4.46875 -5.359375 L -4.46875 -4.359375 C -4.707031 -4.335938 -4.925781 -4.253906 -5.125 -4.109375 C -5.394531 -3.867188 -5.53125 -3.445312 -5.53125 -2.84375 C -5.53125 -2.445312 -5.453125 -2.144531 -5.296875 -1.9375 C -5.148438 -1.738281 -4.953125 -1.640625 -4.703125 -1.640625 C -4.429688 -1.640625 -4.210938 -1.773438 -4.046875 -2.046875 C -3.953125 -2.203125 -3.867188 -2.429688 -3.796875 -2.734375 L -3.625 -3.421875 C -3.4375 -4.179688 -3.257812 -4.691406 -3.09375 -4.953125 C -2.820312 -5.359375 -2.394531 -5.5625 -1.8125 -5.5625 C -1.257812 -5.5625 -0.78125 -5.347656 -0.375 -4.921875 C 0.03125 -4.503906 0.234375 -3.863281 0.234375 -3 C 0.234375 -2.0625 0.0234375 -1.394531 -0.390625 -1 C -0.816406 -0.613281 -1.34375 -0.410156 -1.96875 -0.390625 Z M -6.421875 -2.953125 Z \"/>\n",
       "</symbol>\n",
       "<symbol overflow=\"visible\" id=\"glyph0-6\">\n",
       "<path style=\"stroke:none;\" d=\"M -6.25 -0.78125 L -6.25 -1.84375 L 0 -1.84375 L 0 -0.78125 Z M -8.609375 -0.78125 L -8.609375 -1.84375 L -7.40625 -1.84375 L -7.40625 -0.78125 Z \"/>\n",
       "</symbol>\n",
       "<symbol overflow=\"visible\" id=\"glyph0-7\">\n",
       "<path style=\"stroke:none;\" d=\"M -3.0625 -1.4375 C -2.394531 -1.4375 -1.832031 -1.578125 -1.375 -1.859375 C -0.925781 -2.148438 -0.703125 -2.609375 -0.703125 -3.234375 C -0.703125 -3.722656 -0.910156 -4.125 -1.328125 -4.4375 C -1.742188 -4.757812 -2.347656 -4.921875 -3.140625 -4.921875 C -3.929688 -4.921875 -4.515625 -4.753906 -4.890625 -4.421875 C -5.273438 -4.097656 -5.46875 -3.703125 -5.46875 -3.234375 C -5.46875 -2.703125 -5.265625 -2.269531 -4.859375 -1.9375 C -4.453125 -1.601562 -3.851562 -1.4375 -3.0625 -1.4375 Z M -6.390625 -3.03125 C -6.390625 -3.507812 -6.285156 -3.910156 -6.078125 -4.234375 C -5.960938 -4.421875 -5.757812 -4.632812 -5.46875 -4.875 L -8.640625 -4.875 L -8.640625 -5.890625 L 0 -5.890625 L 0 -4.9375 L -0.875 -4.9375 C -0.488281 -4.695312 -0.207031 -4.40625 -0.03125 -4.0625 C 0.132812 -3.726562 0.21875 -3.34375 0.21875 -2.90625 C 0.21875 -2.207031 -0.0703125 -1.601562 -0.65625 -1.09375 C -1.25 -0.582031 -2.03125 -0.328125 -3 -0.328125 C -3.914062 -0.328125 -4.707031 -0.5625 -5.375 -1.03125 C -6.050781 -1.5 -6.390625 -2.164062 -6.390625 -3.03125 Z \"/>\n",
       "</symbol>\n",
       "<symbol overflow=\"visible\" id=\"glyph0-8\">\n",
       "<path style=\"stroke:none;\" d=\"M -0.6875 -3.265625 C -0.6875 -3.960938 -0.945312 -4.441406 -1.46875 -4.703125 C -2 -4.960938 -2.585938 -5.09375 -3.234375 -5.09375 C -3.828125 -5.09375 -4.304688 -5 -4.671875 -4.8125 C -5.242188 -4.507812 -5.53125 -4 -5.53125 -3.28125 C -5.53125 -2.632812 -5.285156 -2.164062 -4.796875 -1.875 C -4.304688 -1.582031 -3.710938 -1.4375 -3.015625 -1.4375 C -2.347656 -1.4375 -1.789062 -1.582031 -1.34375 -1.875 C -0.90625 -2.164062 -0.6875 -2.628906 -0.6875 -3.265625 Z M -6.453125 -3.3125 C -6.453125 -4.113281 -6.179688 -4.789062 -5.640625 -5.34375 C -5.109375 -5.90625 -4.316406 -6.1875 -3.265625 -6.1875 C -2.253906 -6.1875 -1.414062 -5.941406 -0.75 -5.453125 C -0.09375 -4.960938 0.234375 -4.203125 0.234375 -3.171875 C 0.234375 -2.304688 -0.0546875 -1.617188 -0.640625 -1.109375 C -1.234375 -0.597656 -2.019531 -0.34375 -3 -0.34375 C -4.050781 -0.34375 -4.890625 -0.609375 -5.515625 -1.140625 C -6.140625 -1.679688 -6.453125 -2.40625 -6.453125 -3.3125 Z M -6.421875 -3.265625 Z \"/>\n",
       "</symbol>\n",
       "<symbol overflow=\"visible\" id=\"glyph0-9\">\n",
       "<path style=\"stroke:none;\" d=\"M -6.28125 -0.78125 L -6.28125 -1.78125 L -5.390625 -1.78125 C -5.753906 -2.070312 -6.015625 -2.382812 -6.171875 -2.71875 C -6.335938 -3.050781 -6.421875 -3.421875 -6.421875 -3.828125 C -6.421875 -4.710938 -6.109375 -5.3125 -5.484375 -5.625 C -5.140625 -5.800781 -4.65625 -5.890625 -4.03125 -5.890625 L 0 -5.890625 L 0 -4.8125 L -3.953125 -4.8125 C -4.335938 -4.8125 -4.644531 -4.753906 -4.875 -4.640625 C -5.269531 -4.453125 -5.46875 -4.113281 -5.46875 -3.625 C -5.46875 -3.375 -5.441406 -3.171875 -5.390625 -3.015625 C -5.304688 -2.722656 -5.132812 -2.46875 -4.875 -2.25 C -4.664062 -2.070312 -4.453125 -1.957031 -4.234375 -1.90625 C -4.015625 -1.851562 -3.695312 -1.828125 -3.28125 -1.828125 L 0 -1.828125 L 0 -0.78125 Z M -6.421875 -3.25 Z \"/>\n",
       "</symbol>\n",
       "<symbol overflow=\"visible\" id=\"glyph0-10\">\n",
       "<path style=\"stroke:none;\" d=\"M -6.390625 -2.984375 C -6.390625 -3.484375 -6.269531 -3.914062 -6.03125 -4.28125 C -5.882812 -4.476562 -5.679688 -4.679688 -5.421875 -4.890625 L -6.21875 -4.890625 L -6.21875 -5.859375 L -0.515625 -5.859375 C 0.285156 -5.859375 0.914062 -5.742188 1.375 -5.515625 C 2.226562 -5.078125 2.65625 -4.25 2.65625 -3.03125 C 2.65625 -2.351562 2.503906 -1.785156 2.203125 -1.328125 C 1.898438 -0.867188 1.425781 -0.609375 0.78125 -0.546875 L 0.78125 -1.625 C 1.0625 -1.675781 1.28125 -1.773438 1.4375 -1.921875 C 1.664062 -2.160156 1.78125 -2.535156 1.78125 -3.046875 C 1.78125 -3.859375 1.492188 -4.390625 0.921875 -4.640625 C 0.585938 -4.785156 -0.0078125 -4.851562 -0.875 -4.84375 C -0.550781 -4.632812 -0.3125 -4.378906 -0.15625 -4.078125 C 0 -3.785156 0.078125 -3.394531 0.078125 -2.90625 C 0.078125 -2.226562 -0.160156 -1.632812 -0.640625 -1.125 C -1.128906 -0.613281 -1.929688 -0.359375 -3.046875 -0.359375 C -4.097656 -0.359375 -4.914062 -0.613281 -5.5 -1.125 C -6.09375 -1.644531 -6.390625 -2.265625 -6.390625 -2.984375 Z M -3.171875 -4.890625 C -3.941406 -4.890625 -4.515625 -4.726562 -4.890625 -4.40625 C -5.265625 -4.082031 -5.453125 -3.675781 -5.453125 -3.1875 C -5.453125 -2.4375 -5.101562 -1.925781 -4.40625 -1.65625 C -4.039062 -1.507812 -3.554688 -1.4375 -2.953125 -1.4375 C -2.242188 -1.4375 -1.703125 -1.578125 -1.328125 -1.859375 C -0.960938 -2.148438 -0.78125 -2.539062 -0.78125 -3.03125 C -0.78125 -3.789062 -1.125 -4.320312 -1.8125 -4.625 C -2.195312 -4.800781 -2.648438 -4.890625 -3.171875 -4.890625 Z M -6.421875 -3.109375 Z \"/>\n",
       "</symbol>\n",
       "<symbol overflow=\"visible\" id=\"glyph0-11\">\n",
       "<path style=\"stroke:none;\" d=\"M -8.640625 -0.6875 L -8.640625 -1.71875 L -5.515625 -1.71875 C -5.816406 -1.945312 -6.046875 -2.222656 -6.203125 -2.546875 C -6.359375 -2.867188 -6.4375 -3.21875 -6.4375 -3.59375 C -6.4375 -4.375 -6.164062 -5.003906 -5.625 -5.484375 C -5.09375 -5.972656 -4.304688 -6.21875 -3.265625 -6.21875 C -2.265625 -6.21875 -1.4375 -5.976562 -0.78125 -5.5 C -0.125 -5.019531 0.203125 -4.351562 0.203125 -3.5 C 0.203125 -3.019531 0.0859375 -2.617188 -0.140625 -2.296875 C -0.285156 -2.097656 -0.503906 -1.890625 -0.796875 -1.671875 L 0 -1.671875 L 0 -0.6875 Z M -0.734375 -3.4375 C -0.734375 -4.007812 -0.957031 -4.4375 -1.40625 -4.71875 C -1.863281 -5 -2.460938 -5.140625 -3.203125 -5.140625 C -3.867188 -5.140625 -4.414062 -5 -4.84375 -4.71875 C -5.28125 -4.4375 -5.5 -4.019531 -5.5 -3.46875 C -5.5 -2.988281 -5.320312 -2.566406 -4.96875 -2.203125 C -4.613281 -1.835938 -4.023438 -1.65625 -3.203125 -1.65625 C -2.617188 -1.65625 -2.140625 -1.726562 -1.765625 -1.875 C -1.078125 -2.15625 -0.734375 -2.675781 -0.734375 -3.4375 Z \"/>\n",
       "</symbol>\n",
       "<symbol overflow=\"visible\" id=\"glyph0-12\">\n",
       "<path style=\"stroke:none;\" d=\"M -6.453125 -3.1875 C -6.453125 -3.894531 -6.28125 -4.46875 -5.9375 -4.90625 C -5.59375 -5.351562 -5.003906 -5.625 -4.171875 -5.71875 L -4.171875 -4.6875 C -4.554688 -4.625 -4.875 -4.484375 -5.125 -4.265625 C -5.382812 -4.046875 -5.515625 -3.6875 -5.515625 -3.1875 C -5.515625 -2.519531 -5.1875 -2.039062 -4.53125 -1.75 C -4.101562 -1.5625 -3.578125 -1.46875 -2.953125 -1.46875 C -2.328125 -1.46875 -1.796875 -1.597656 -1.359375 -1.859375 C -0.929688 -2.128906 -0.71875 -2.550781 -0.71875 -3.125 C -0.71875 -3.5625 -0.851562 -3.90625 -1.125 -4.15625 C -1.394531 -4.414062 -1.757812 -4.59375 -2.21875 -4.6875 L -2.21875 -5.71875 C -1.382812 -5.601562 -0.773438 -5.3125 -0.390625 -4.84375 C -0.00390625 -4.375 0.1875 -3.773438 0.1875 -3.046875 C 0.1875 -2.222656 -0.113281 -1.566406 -0.71875 -1.078125 C -1.320312 -0.585938 -2.070312 -0.34375 -2.96875 -0.34375 C -4.070312 -0.34375 -4.925781 -0.609375 -5.53125 -1.140625 C -6.144531 -1.679688 -6.453125 -2.363281 -6.453125 -3.1875 Z M -6.421875 -3.03125 Z \"/>\n",
       "</symbol>\n",
       "<symbol overflow=\"visible\" id=\"glyph0-13\">\n",
       "<path style=\"stroke:none;\" d=\"M -8.609375 -0.75 L -8.609375 -1.765625 L -3.609375 -1.765625 L -6.28125 -4.46875 L -6.28125 -5.8125 L -3.921875 -3.421875 L 0 -5.953125 L 0 -4.609375 L -3.171875 -2.65625 L -2.359375 -1.765625 L 0 -1.765625 L 0 -0.75 Z \"/>\n",
       "</symbol>\n",
       "<symbol overflow=\"visible\" id=\"glyph0-14\">\n",
       "<path style=\"stroke:none;\" d=\"M -6.421875 -3.390625 C -6.421875 -3.835938 -6.316406 -4.269531 -6.109375 -4.6875 C -5.898438 -5.101562 -5.628906 -5.421875 -5.296875 -5.640625 C -4.972656 -5.847656 -4.601562 -5.988281 -4.1875 -6.0625 C -3.894531 -6.125 -3.429688 -6.15625 -2.796875 -6.15625 L -2.796875 -1.546875 C -2.160156 -1.566406 -1.648438 -1.71875 -1.265625 -2 C -0.878906 -2.28125 -0.6875 -2.71875 -0.6875 -3.3125 C -0.6875 -3.863281 -0.867188 -4.300781 -1.234375 -4.625 C -1.441406 -4.8125 -1.6875 -4.945312 -1.96875 -5.03125 L -1.96875 -6.0625 C -1.738281 -6.039062 -1.484375 -5.953125 -1.203125 -5.796875 C -0.921875 -5.640625 -0.6875 -5.46875 -0.5 -5.28125 C -0.1875 -4.957031 0.0195312 -4.554688 0.125 -4.078125 C 0.1875 -3.828125 0.21875 -3.539062 0.21875 -3.21875 C 0.21875 -2.4375 -0.0625 -1.773438 -0.625 -1.234375 C -1.195312 -0.691406 -1.992188 -0.421875 -3.015625 -0.421875 C -4.023438 -0.421875 -4.84375 -0.691406 -5.46875 -1.234375 C -6.101562 -1.785156 -6.421875 -2.503906 -6.421875 -3.390625 Z M -3.640625 -5.0625 C -4.097656 -5.019531 -4.460938 -4.921875 -4.734375 -4.765625 C -5.242188 -4.484375 -5.5 -4.003906 -5.5 -3.328125 C -5.5 -2.835938 -5.320312 -2.425781 -4.96875 -2.09375 C -4.625 -1.769531 -4.179688 -1.597656 -3.640625 -1.578125 Z M -6.421875 -3.28125 Z \"/>\n",
       "</symbol>\n",
       "<symbol overflow=\"visible\" id=\"glyph0-15\">\n",
       "<path style=\"stroke:none;\" d=\"M -6.28125 -0.78125 L -6.28125 -1.8125 L -5.390625 -1.8125 C -5.691406 -2.0625 -5.914062 -2.289062 -6.0625 -2.5 C -6.300781 -2.84375 -6.421875 -3.238281 -6.421875 -3.6875 C -6.421875 -4.1875 -6.296875 -4.585938 -6.046875 -4.890625 C -5.910156 -5.054688 -5.703125 -5.210938 -5.421875 -5.359375 C -5.765625 -5.585938 -6.015625 -5.859375 -6.171875 -6.171875 C -6.335938 -6.492188 -6.421875 -6.851562 -6.421875 -7.25 C -6.421875 -8.09375 -6.113281 -8.664062 -5.5 -8.96875 C -5.175781 -9.132812 -4.734375 -9.21875 -4.171875 -9.21875 L 0 -9.21875 L 0 -8.125 L -4.359375 -8.125 C -4.773438 -8.125 -5.0625 -8.019531 -5.21875 -7.8125 C -5.375 -7.601562 -5.453125 -7.347656 -5.453125 -7.046875 C -5.453125 -6.628906 -5.3125 -6.269531 -5.03125 -5.96875 C -4.757812 -5.675781 -4.300781 -5.53125 -3.65625 -5.53125 L 0 -5.53125 L 0 -4.453125 L -4.09375 -4.453125 C -4.519531 -4.453125 -4.832031 -4.398438 -5.03125 -4.296875 C -5.320312 -4.140625 -5.46875 -3.84375 -5.46875 -3.40625 C -5.46875 -3.007812 -5.3125 -2.644531 -5 -2.3125 C -4.695312 -1.988281 -4.140625 -1.828125 -3.328125 -1.828125 L 0 -1.828125 L 0 -0.78125 Z \"/>\n",
       "</symbol>\n",
       "<symbol overflow=\"visible\" id=\"glyph0-16\">\n",
       "<path style=\"stroke:none;\" d=\"M -0.703125 -3.421875 C -0.703125 -3.910156 -0.910156 -4.316406 -1.328125 -4.640625 C -1.742188 -4.972656 -2.359375 -5.140625 -3.171875 -5.140625 C -3.671875 -5.140625 -4.101562 -5.066406 -4.46875 -4.921875 C -5.15625 -4.648438 -5.5 -4.148438 -5.5 -3.421875 C -5.5 -2.691406 -5.132812 -2.191406 -4.40625 -1.921875 C -4.019531 -1.773438 -3.523438 -1.703125 -2.921875 -1.703125 C -2.429688 -1.703125 -2.019531 -1.773438 -1.6875 -1.921875 C -1.03125 -2.191406 -0.703125 -2.691406 -0.703125 -3.421875 Z M -6.25 -0.6875 L -6.25 -1.71875 L -5.421875 -1.71875 C -5.703125 -1.925781 -5.921875 -2.15625 -6.078125 -2.40625 C -6.304688 -2.757812 -6.421875 -3.175781 -6.421875 -3.65625 C -6.421875 -4.375 -6.148438 -4.976562 -5.609375 -5.46875 C -5.066406 -5.96875 -4.289062 -6.21875 -3.28125 -6.21875 C -1.90625 -6.21875 -0.925781 -5.859375 -0.34375 -5.140625 C 0.03125 -4.691406 0.21875 -4.164062 0.21875 -3.5625 C 0.21875 -3.09375 0.113281 -2.695312 -0.09375 -2.375 C -0.21875 -2.1875 -0.421875 -1.976562 -0.703125 -1.75 L 2.5 -1.75 L 2.5 -0.6875 Z \"/>\n",
       "</symbol>\n",
       "<symbol overflow=\"visible\" id=\"glyph0-17\">\n",
       "<path style=\"stroke:none;\" d=\"M -7.234375 -1.03125 C -7.671875 -1.050781 -7.988281 -1.128906 -8.1875 -1.265625 C -8.550781 -1.515625 -8.734375 -1.988281 -8.734375 -2.6875 C -8.734375 -2.757812 -8.726562 -2.828125 -8.71875 -2.890625 C -8.71875 -2.960938 -8.710938 -3.046875 -8.703125 -3.140625 L -7.75 -3.140625 C -7.757812 -3.023438 -7.765625 -2.941406 -7.765625 -2.890625 C -7.765625 -2.847656 -7.765625 -2.804688 -7.765625 -2.765625 C -7.765625 -2.441406 -7.679688 -2.25 -7.515625 -2.1875 C -7.347656 -2.125 -6.925781 -2.09375 -6.25 -2.09375 L -6.25 -3.140625 L -5.421875 -3.140625 L -5.421875 -2.078125 L 0 -2.078125 L 0 -1.03125 L -5.421875 -1.03125 L -5.421875 -0.171875 L -6.25 -0.171875 L -6.25 -1.03125 Z \"/>\n",
       "</symbol>\n",
       "<symbol overflow=\"visible\" id=\"glyph0-18\">\n",
       "<path style=\"stroke:none;\" d=\"M -8.609375 -0.796875 L -8.609375 -1.859375 L 0 -1.859375 L 0 -0.796875 Z \"/>\n",
       "</symbol>\n",
       "<symbol overflow=\"visible\" id=\"glyph0-19\">\n",
       "<path style=\"stroke:none;\" d=\"M -6.28125 -1.265625 L -1.328125 -2.46875 L -6.28125 -3.6875 L -6.28125 -4.875 L -1.359375 -6.109375 L -6.28125 -7.390625 L -6.28125 -8.4375 L 0 -6.625 L 0 -5.53125 L -4.859375 -4.25 L 0 -3.015625 L 0 -1.921875 L -6.28125 -0.109375 Z \"/>\n",
       "</symbol>\n",
       "<symbol overflow=\"visible\" id=\"glyph0-20\">\n",
       "<path style=\"stroke:none;\" d=\"M -6.28125 -1.828125 L -2.109375 -1.828125 C -1.785156 -1.828125 -1.523438 -1.878906 -1.328125 -1.984375 C -0.953125 -2.171875 -0.765625 -2.519531 -0.765625 -3.03125 C -0.765625 -3.757812 -1.09375 -4.257812 -1.75 -4.53125 C -2.101562 -4.675781 -2.582031 -4.75 -3.1875 -4.75 L -6.28125 -4.75 L -6.28125 -5.796875 L 0 -5.796875 L 0 -4.8125 L -0.921875 -4.8125 C -0.679688 -4.675781 -0.484375 -4.507812 -0.328125 -4.3125 C 0.00390625 -3.90625 0.171875 -3.414062 0.171875 -2.84375 C 0.171875 -1.945312 -0.128906 -1.335938 -0.734375 -1.015625 C -1.046875 -0.835938 -1.472656 -0.75 -2.015625 -0.75 L -6.28125 -0.75 Z M -6.421875 -3.28125 Z \"/>\n",
       "</symbol>\n",
       "<symbol overflow=\"visible\" id=\"glyph0-21\">\n",
       "<path style=\"stroke:none;\" d=\"M -6.28125 -1.296875 L -1.171875 -2.96875 L -6.28125 -4.71875 L -6.28125 -5.875 L 0 -3.5 L 0 -2.375 L -6.28125 -0.0625 Z \"/>\n",
       "</symbol>\n",
       "<symbol overflow=\"visible\" id=\"glyph0-22\">\n",
       "<path style=\"stroke:none;\" d=\"M -8.03125 -0.984375 L -8.03125 -2.046875 L -6.28125 -2.046875 L -6.28125 -3.046875 L -5.421875 -3.046875 L -5.421875 -2.046875 L -1.3125 -2.046875 C -1.09375 -2.046875 -0.945312 -2.125 -0.875 -2.28125 C -0.832031 -2.351562 -0.8125 -2.488281 -0.8125 -2.6875 C -0.8125 -2.738281 -0.8125 -2.789062 -0.8125 -2.84375 C -0.820312 -2.90625 -0.828125 -2.972656 -0.828125 -3.046875 L 0 -3.046875 C 0.03125 -2.929688 0.0507812 -2.804688 0.0625 -2.671875 C 0.0820312 -2.546875 0.09375 -2.40625 0.09375 -2.25 C 0.09375 -1.757812 -0.03125 -1.425781 -0.28125 -1.25 C -0.53125 -1.070312 -0.859375 -0.984375 -1.265625 -0.984375 L -5.421875 -0.984375 L -5.421875 -0.140625 L -6.28125 -0.140625 L -6.28125 -0.984375 Z \"/>\n",
       "</symbol>\n",
       "<symbol overflow=\"visible\" id=\"glyph0-23\">\n",
       "<path style=\"stroke:none;\" d=\"M -3.046875 -1.453125 C -2.503906 -1.453125 -2.050781 -1.53125 -1.6875 -1.6875 C -1.03125 -1.957031 -0.703125 -2.4375 -0.703125 -3.125 C -0.703125 -3.863281 -1.046875 -4.367188 -1.734375 -4.640625 C -2.117188 -4.796875 -2.601562 -4.875 -3.1875 -4.875 C -3.738281 -4.875 -4.191406 -4.789062 -4.546875 -4.625 C -5.171875 -4.34375 -5.484375 -3.84375 -5.484375 -3.125 C -5.484375 -2.664062 -5.285156 -2.269531 -4.890625 -1.9375 C -4.492188 -1.613281 -3.878906 -1.453125 -3.046875 -1.453125 Z M -6.421875 -3.015625 C -6.421875 -3.535156 -6.289062 -3.972656 -6.03125 -4.328125 C -5.882812 -4.523438 -5.675781 -4.710938 -5.40625 -4.890625 L -6.28125 -4.890625 L -6.28125 -5.890625 L 2.5 -5.890625 L 2.5 -4.828125 L -0.71875 -4.828125 C -0.4375 -4.648438 -0.210938 -4.40625 -0.046875 -4.09375 C 0.117188 -3.789062 0.203125 -3.40625 0.203125 -2.9375 C 0.203125 -2.269531 -0.0546875 -1.671875 -0.578125 -1.140625 C -1.109375 -0.617188 -1.910156 -0.359375 -2.984375 -0.359375 C -3.984375 -0.359375 -4.804688 -0.601562 -5.453125 -1.09375 C -6.097656 -1.582031 -6.421875 -2.222656 -6.421875 -3.015625 Z \"/>\n",
       "</symbol>\n",
       "<symbol overflow=\"visible\" id=\"glyph0-24\">\n",
       "<path style=\"stroke:none;\" d=\"M -8.609375 -1.03125 L -8.609375 -7 L -7.546875 -7 L -7.546875 -2.1875 L -4.9375 -2.1875 L -4.9375 -6.421875 L -3.921875 -6.421875 L -3.921875 -2.1875 L 0 -2.1875 L 0 -1.03125 Z \"/>\n",
       "</symbol>\n",
       "<symbol overflow=\"visible\" id=\"glyph1-0\">\n",
       "<path style=\"stroke:none;\" d=\"M 0.390625 0 L 0.390625 -8.609375 L 7.21875 -8.609375 L 7.21875 0 Z M 6.140625 -1.078125 L 6.140625 -7.53125 L 1.46875 -7.53125 L 1.46875 -1.078125 Z \"/>\n",
       "</symbol>\n",
       "<symbol overflow=\"visible\" id=\"glyph1-1\">\n",
       "<path style=\"stroke:none;\" d=\"M 1.484375 -8.609375 L 3.109375 -1.609375 L 5.046875 -8.609375 L 6.3125 -8.609375 L 8.265625 -1.609375 L 9.890625 -8.609375 L 11.15625 -8.609375 L 8.90625 0 L 7.671875 0 L 5.6875 -7.140625 L 3.6875 0 L 2.46875 0 L 0.21875 -8.609375 Z \"/>\n",
       "</symbol>\n",
       "<symbol overflow=\"visible\" id=\"glyph1-2\">\n",
       "<path style=\"stroke:none;\" d=\"M 3.265625 -0.6875 C 3.960938 -0.6875 4.441406 -0.945312 4.703125 -1.46875 C 4.960938 -2 5.09375 -2.585938 5.09375 -3.234375 C 5.09375 -3.828125 5 -4.304688 4.8125 -4.671875 C 4.507812 -5.242188 4 -5.53125 3.28125 -5.53125 C 2.632812 -5.53125 2.164062 -5.285156 1.875 -4.796875 C 1.582031 -4.304688 1.4375 -3.710938 1.4375 -3.015625 C 1.4375 -2.347656 1.582031 -1.789062 1.875 -1.34375 C 2.164062 -0.90625 2.628906 -0.6875 3.265625 -0.6875 Z M 3.3125 -6.453125 C 4.113281 -6.453125 4.789062 -6.179688 5.34375 -5.640625 C 5.90625 -5.109375 6.1875 -4.316406 6.1875 -3.265625 C 6.1875 -2.253906 5.941406 -1.414062 5.453125 -0.75 C 4.960938 -0.09375 4.203125 0.234375 3.171875 0.234375 C 2.304688 0.234375 1.617188 -0.0546875 1.109375 -0.640625 C 0.597656 -1.234375 0.34375 -2.019531 0.34375 -3 C 0.34375 -4.050781 0.609375 -4.890625 1.140625 -5.515625 C 1.679688 -6.140625 2.40625 -6.453125 3.3125 -6.453125 Z M 3.265625 -6.421875 Z \"/>\n",
       "</symbol>\n",
       "<symbol overflow=\"visible\" id=\"glyph1-3\">\n",
       "<path style=\"stroke:none;\" d=\"M 0.796875 -6.28125 L 1.8125 -6.28125 L 1.8125 -5.1875 C 1.882812 -5.40625 2.082031 -5.664062 2.40625 -5.96875 C 2.726562 -6.269531 3.097656 -6.421875 3.515625 -6.421875 C 3.535156 -6.421875 3.566406 -6.414062 3.609375 -6.40625 C 3.660156 -6.40625 3.742188 -6.398438 3.859375 -6.390625 L 3.859375 -5.28125 C 3.796875 -5.289062 3.738281 -5.296875 3.6875 -5.296875 C 3.632812 -5.296875 3.578125 -5.296875 3.515625 -5.296875 C 2.984375 -5.296875 2.570312 -5.125 2.28125 -4.78125 C 2 -4.445312 1.859375 -4.054688 1.859375 -3.609375 L 1.859375 0 L 0.796875 0 Z \"/>\n",
       "</symbol>\n",
       "<symbol overflow=\"visible\" id=\"glyph1-4\">\n",
       "<path style=\"stroke:none;\" d=\"M 1.4375 -3.0625 C 1.4375 -2.394531 1.578125 -1.832031 1.859375 -1.375 C 2.148438 -0.925781 2.609375 -0.703125 3.234375 -0.703125 C 3.722656 -0.703125 4.125 -0.910156 4.4375 -1.328125 C 4.757812 -1.742188 4.921875 -2.347656 4.921875 -3.140625 C 4.921875 -3.929688 4.753906 -4.515625 4.421875 -4.890625 C 4.097656 -5.273438 3.703125 -5.46875 3.234375 -5.46875 C 2.703125 -5.46875 2.269531 -5.265625 1.9375 -4.859375 C 1.601562 -4.453125 1.4375 -3.851562 1.4375 -3.0625 Z M 3.03125 -6.390625 C 3.507812 -6.390625 3.910156 -6.285156 4.234375 -6.078125 C 4.421875 -5.960938 4.632812 -5.757812 4.875 -5.46875 L 4.875 -8.640625 L 5.890625 -8.640625 L 5.890625 0 L 4.9375 0 L 4.9375 -0.875 C 4.695312 -0.488281 4.40625 -0.207031 4.0625 -0.03125 C 3.726562 0.132812 3.34375 0.21875 2.90625 0.21875 C 2.207031 0.21875 1.601562 -0.0703125 1.09375 -0.65625 C 0.582031 -1.25 0.328125 -2.03125 0.328125 -3 C 0.328125 -3.914062 0.5625 -4.707031 1.03125 -5.375 C 1.5 -6.050781 2.164062 -6.390625 3.03125 -6.390625 Z \"/>\n",
       "</symbol>\n",
       "<symbol overflow=\"visible\" id=\"glyph1-5\">\n",
       "<path style=\"stroke:none;\" d=\"M 3.25 -8.390625 C 4.332031 -8.390625 5.117188 -7.941406 5.609375 -7.046875 C 5.984375 -6.359375 6.171875 -5.410156 6.171875 -4.203125 C 6.171875 -3.066406 6 -2.125 5.65625 -1.375 C 5.164062 -0.300781 4.359375 0.234375 3.234375 0.234375 C 2.234375 0.234375 1.484375 -0.203125 0.984375 -1.078125 C 0.578125 -1.816406 0.375 -2.800781 0.375 -4.03125 C 0.375 -4.976562 0.5 -5.796875 0.75 -6.484375 C 1.207031 -7.753906 2.039062 -8.390625 3.25 -8.390625 Z M 3.234375 -0.734375 C 3.785156 -0.734375 4.222656 -0.972656 4.546875 -1.453125 C 4.867188 -1.941406 5.03125 -2.847656 5.03125 -4.171875 C 5.03125 -5.117188 4.910156 -5.898438 4.671875 -6.515625 C 4.441406 -7.128906 3.988281 -7.4375 3.3125 -7.4375 C 2.6875 -7.4375 2.226562 -7.144531 1.9375 -6.5625 C 1.65625 -5.976562 1.515625 -5.117188 1.515625 -3.984375 C 1.515625 -3.128906 1.609375 -2.441406 1.796875 -1.921875 C 2.078125 -1.128906 2.554688 -0.734375 3.234375 -0.734375 Z \"/>\n",
       "</symbol>\n",
       "<symbol overflow=\"visible\" id=\"glyph1-6\">\n",
       "<path style=\"stroke:none;\" d=\"M 0.375 0 C 0.414062 -0.71875 0.566406 -1.34375 0.828125 -1.875 C 1.085938 -2.414062 1.59375 -2.90625 2.34375 -3.34375 L 3.46875 -4 C 3.96875 -4.289062 4.320312 -4.539062 4.53125 -4.75 C 4.851562 -5.070312 5.015625 -5.441406 5.015625 -5.859375 C 5.015625 -6.347656 4.863281 -6.734375 4.5625 -7.015625 C 4.269531 -7.304688 3.882812 -7.453125 3.40625 -7.453125 C 2.675781 -7.453125 2.175781 -7.179688 1.90625 -6.640625 C 1.75 -6.335938 1.664062 -5.929688 1.65625 -5.421875 L 0.578125 -5.421875 C 0.585938 -6.148438 0.722656 -6.742188 0.984375 -7.203125 C 1.441406 -8.015625 2.25 -8.421875 3.40625 -8.421875 C 4.363281 -8.421875 5.0625 -8.160156 5.5 -7.640625 C 5.945312 -7.117188 6.171875 -6.539062 6.171875 -5.90625 C 6.171875 -5.238281 5.9375 -4.664062 5.46875 -4.1875 C 5.195312 -3.90625 4.707031 -3.566406 4 -3.171875 L 3.1875 -2.734375 C 2.8125 -2.523438 2.515625 -2.320312 2.296875 -2.125 C 1.898438 -1.789062 1.648438 -1.414062 1.546875 -1 L 6.140625 -1 L 6.140625 0 Z \"/>\n",
       "</symbol>\n",
       "<symbol overflow=\"visible\" id=\"glyph1-7\">\n",
       "<path style=\"stroke:none;\" d=\"M 3.96875 -2.96875 L 3.96875 -6.78125 L 1.28125 -2.96875 Z M 3.984375 0 L 3.984375 -2.046875 L 0.3125 -2.046875 L 0.3125 -3.078125 L 4.15625 -8.421875 L 5.046875 -8.421875 L 5.046875 -2.96875 L 6.28125 -2.96875 L 6.28125 -2.046875 L 5.046875 -2.046875 L 5.046875 0 Z \"/>\n",
       "</symbol>\n",
       "<symbol overflow=\"visible\" id=\"glyph1-8\">\n",
       "<path style=\"stroke:none;\" d=\"M 3.515625 -8.421875 C 4.453125 -8.421875 5.101562 -8.175781 5.46875 -7.6875 C 5.84375 -7.207031 6.03125 -6.707031 6.03125 -6.1875 L 4.984375 -6.1875 C 4.921875 -6.519531 4.820312 -6.78125 4.6875 -6.96875 C 4.425781 -7.320312 4.039062 -7.5 3.53125 -7.5 C 2.9375 -7.5 2.460938 -7.222656 2.109375 -6.671875 C 1.765625 -6.128906 1.578125 -5.351562 1.546875 -4.34375 C 1.785156 -4.695312 2.085938 -4.960938 2.453125 -5.140625 C 2.785156 -5.296875 3.160156 -5.375 3.578125 -5.375 C 4.285156 -5.375 4.898438 -5.148438 5.421875 -4.703125 C 5.941406 -4.253906 6.203125 -3.582031 6.203125 -2.6875 C 6.203125 -1.925781 5.953125 -1.25 5.453125 -0.65625 C 4.960938 -0.0703125 4.257812 0.21875 3.34375 0.21875 C 2.550781 0.21875 1.867188 -0.078125 1.296875 -0.671875 C 0.734375 -1.273438 0.453125 -2.28125 0.453125 -3.6875 C 0.453125 -4.726562 0.578125 -5.613281 0.828125 -6.34375 C 1.316406 -7.726562 2.210938 -8.421875 3.515625 -8.421875 Z M 3.4375 -0.71875 C 3.988281 -0.71875 4.398438 -0.90625 4.671875 -1.28125 C 4.953125 -1.65625 5.09375 -2.097656 5.09375 -2.609375 C 5.09375 -3.035156 4.96875 -3.441406 4.71875 -3.828125 C 4.476562 -4.210938 4.03125 -4.40625 3.375 -4.40625 C 2.925781 -4.40625 2.53125 -4.253906 2.1875 -3.953125 C 1.84375 -3.660156 1.671875 -3.210938 1.671875 -2.609375 C 1.671875 -2.078125 1.828125 -1.628906 2.140625 -1.265625 C 2.453125 -0.898438 2.882812 -0.71875 3.4375 -0.71875 Z \"/>\n",
       "</symbol>\n",
       "<symbol overflow=\"visible\" id=\"glyph1-9\">\n",
       "<path style=\"stroke:none;\" d=\"M 3.265625 -4.875 C 3.734375 -4.875 4.097656 -5.003906 4.359375 -5.265625 C 4.617188 -5.523438 4.75 -5.832031 4.75 -6.1875 C 4.75 -6.5 4.625 -6.785156 4.375 -7.046875 C 4.125 -7.316406 3.742188 -7.453125 3.234375 -7.453125 C 2.722656 -7.453125 2.351562 -7.316406 2.125 -7.046875 C 1.894531 -6.785156 1.78125 -6.484375 1.78125 -6.140625 C 1.78125 -5.742188 1.925781 -5.429688 2.21875 -5.203125 C 2.519531 -4.984375 2.867188 -4.875 3.265625 -4.875 Z M 3.328125 -0.71875 C 3.816406 -0.71875 4.222656 -0.847656 4.546875 -1.109375 C 4.867188 -1.378906 5.03125 -1.773438 5.03125 -2.296875 C 5.03125 -2.835938 4.863281 -3.25 4.53125 -3.53125 C 4.195312 -3.8125 3.769531 -3.953125 3.25 -3.953125 C 2.75 -3.953125 2.335938 -3.804688 2.015625 -3.515625 C 1.703125 -3.234375 1.546875 -2.835938 1.546875 -2.328125 C 1.546875 -1.890625 1.691406 -1.507812 1.984375 -1.1875 C 2.273438 -0.875 2.722656 -0.71875 3.328125 -0.71875 Z M 1.828125 -4.46875 C 1.535156 -4.59375 1.304688 -4.738281 1.140625 -4.90625 C 0.835938 -5.21875 0.6875 -5.625 0.6875 -6.125 C 0.6875 -6.75 0.910156 -7.285156 1.359375 -7.734375 C 1.816406 -8.191406 2.457031 -8.421875 3.28125 -8.421875 C 4.09375 -8.421875 4.722656 -8.207031 5.171875 -7.78125 C 5.628906 -7.351562 5.859375 -6.859375 5.859375 -6.296875 C 5.859375 -5.773438 5.726562 -5.347656 5.46875 -5.015625 C 5.320312 -4.835938 5.09375 -4.660156 4.78125 -4.484375 C 5.125 -4.328125 5.394531 -4.144531 5.59375 -3.9375 C 5.96875 -3.539062 6.15625 -3.03125 6.15625 -2.40625 C 6.15625 -1.664062 5.90625 -1.039062 5.40625 -0.53125 C 4.914062 -0.0195312 4.21875 0.234375 3.3125 0.234375 C 2.488281 0.234375 1.796875 0.015625 1.234375 -0.421875 C 0.671875 -0.867188 0.390625 -1.515625 0.390625 -2.359375 C 0.390625 -2.847656 0.507812 -3.273438 0.75 -3.640625 C 0.988281 -4.003906 1.347656 -4.28125 1.828125 -4.46875 Z \"/>\n",
       "</symbol>\n",
       "<symbol overflow=\"visible\" id=\"glyph1-10\">\n",
       "<path style=\"stroke:none;\" d=\"M 1.15625 -5.9375 L 1.15625 -6.75 C 1.914062 -6.820312 2.441406 -6.945312 2.734375 -7.125 C 3.035156 -7.300781 3.265625 -7.710938 3.421875 -8.359375 L 4.25 -8.359375 L 4.25 0 L 3.125 0 L 3.125 -5.9375 Z \"/>\n",
       "</symbol>\n",
       "</g>\n",
       "</defs>\n",
       "<g id=\"surface16\">\n",
       "<rect x=\"0\" y=\"0\" width=\"864\" height=\"432\" style=\"fill:rgb(100%,100%,100%);fill-opacity:1;stroke:none;\"/>\n",
       "<path style=\"fill-rule:nonzero;fill:rgb(74.509804%,74.509804%,74.509804%);fill-opacity:1;stroke-width:0.75;stroke-linecap:round;stroke-linejoin:round;stroke:rgb(0%,0%,0%);stroke-opacity:1;stroke-miterlimit:10;\" d=\"M 87.734375 355.59375 L 99.730469 355.59375 L 99.730469 59.039062 L 87.734375 59.039062 Z \"/>\n",
       "<path style=\"fill-rule:nonzero;fill:rgb(74.509804%,74.509804%,74.509804%);fill-opacity:1;stroke-width:0.75;stroke-linecap:round;stroke-linejoin:round;stroke:rgb(0%,0%,0%);stroke-opacity:1;stroke-miterlimit:10;\" d=\"M 102.128906 355.59375 L 114.125 355.59375 L 114.125 156.386719 L 102.128906 156.386719 Z \"/>\n",
       "<path style=\"fill-rule:nonzero;fill:rgb(74.509804%,74.509804%,74.509804%);fill-opacity:1;stroke-width:0.75;stroke-linecap:round;stroke-linejoin:round;stroke:rgb(0%,0%,0%);stroke-opacity:1;stroke-miterlimit:10;\" d=\"M 116.523438 355.59375 L 128.519531 355.59375 L 128.519531 254.484375 L 116.523438 254.484375 Z \"/>\n",
       "<path style=\"fill-rule:nonzero;fill:rgb(74.509804%,74.509804%,74.509804%);fill-opacity:1;stroke-width:0.75;stroke-linecap:round;stroke-linejoin:round;stroke:rgb(0%,0%,0%);stroke-opacity:1;stroke-miterlimit:10;\" d=\"M 130.917969 355.59375 L 142.914062 355.59375 L 142.914062 276.5625 L 130.917969 276.5625 Z \"/>\n",
       "<path style=\"fill-rule:nonzero;fill:rgb(74.509804%,74.509804%,74.509804%);fill-opacity:1;stroke-width:0.75;stroke-linecap:round;stroke-linejoin:round;stroke:rgb(0%,0%,0%);stroke-opacity:1;stroke-miterlimit:10;\" d=\"M 145.3125 355.59375 L 157.308594 355.59375 L 157.308594 293.121094 L 145.3125 293.121094 Z \"/>\n",
       "<path style=\"fill-rule:nonzero;fill:rgb(74.509804%,74.509804%,74.509804%);fill-opacity:1;stroke-width:0.75;stroke-linecap:round;stroke-linejoin:round;stroke:rgb(0%,0%,0%);stroke-opacity:1;stroke-miterlimit:10;\" d=\"M 159.707031 355.59375 L 171.703125 355.59375 L 171.703125 293.875 L 159.707031 293.875 Z \"/>\n",
       "<path style=\"fill-rule:nonzero;fill:rgb(74.509804%,74.509804%,74.509804%);fill-opacity:1;stroke-width:0.75;stroke-linecap:round;stroke-linejoin:round;stroke:rgb(0%,0%,0%);stroke-opacity:1;stroke-miterlimit:10;\" d=\"M 174.101562 355.59375 L 186.097656 355.59375 L 186.097656 311.9375 L 174.101562 311.9375 Z \"/>\n",
       "<path style=\"fill-rule:nonzero;fill:rgb(74.509804%,74.509804%,74.509804%);fill-opacity:1;stroke-width:0.75;stroke-linecap:round;stroke-linejoin:round;stroke:rgb(0%,0%,0%);stroke-opacity:1;stroke-miterlimit:10;\" d=\"M 188.496094 355.59375 L 200.492188 355.59375 L 200.492188 313.191406 L 188.496094 313.191406 Z \"/>\n",
       "<path style=\"fill-rule:nonzero;fill:rgb(74.509804%,74.509804%,74.509804%);fill-opacity:1;stroke-width:0.75;stroke-linecap:round;stroke-linejoin:round;stroke:rgb(0%,0%,0%);stroke-opacity:1;stroke-miterlimit:10;\" d=\"M 202.890625 355.59375 L 214.886719 355.59375 L 214.886719 313.695312 L 202.890625 313.695312 Z \"/>\n",
       "<path style=\"fill-rule:nonzero;fill:rgb(74.509804%,74.509804%,74.509804%);fill-opacity:1;stroke-width:0.75;stroke-linecap:round;stroke-linejoin:round;stroke:rgb(0%,0%,0%);stroke-opacity:1;stroke-miterlimit:10;\" d=\"M 217.285156 355.59375 L 229.28125 355.59375 L 229.28125 314.195312 L 217.285156 314.195312 Z \"/>\n",
       "<path style=\"fill-rule:nonzero;fill:rgb(74.509804%,74.509804%,74.509804%);fill-opacity:1;stroke-width:0.75;stroke-linecap:round;stroke-linejoin:round;stroke:rgb(0%,0%,0%);stroke-opacity:1;stroke-miterlimit:10;\" d=\"M 231.679688 355.59375 L 243.675781 355.59375 L 243.675781 319.214844 L 231.679688 319.214844 Z \"/>\n",
       "<path style=\"fill-rule:nonzero;fill:rgb(74.509804%,74.509804%,74.509804%);fill-opacity:1;stroke-width:0.75;stroke-linecap:round;stroke-linejoin:round;stroke:rgb(0%,0%,0%);stroke-opacity:1;stroke-miterlimit:10;\" d=\"M 246.074219 355.59375 L 258.070312 355.59375 L 258.070312 321.222656 L 246.074219 321.222656 Z \"/>\n",
       "<path style=\"fill-rule:nonzero;fill:rgb(74.509804%,74.509804%,74.509804%);fill-opacity:1;stroke-width:0.75;stroke-linecap:round;stroke-linejoin:round;stroke:rgb(0%,0%,0%);stroke-opacity:1;stroke-miterlimit:10;\" d=\"M 260.46875 355.59375 L 272.464844 355.59375 L 272.464844 321.222656 L 260.46875 321.222656 Z \"/>\n",
       "<path style=\"fill-rule:nonzero;fill:rgb(74.509804%,74.509804%,74.509804%);fill-opacity:1;stroke-width:0.75;stroke-linecap:round;stroke-linejoin:round;stroke:rgb(0%,0%,0%);stroke-opacity:1;stroke-miterlimit:10;\" d=\"M 274.863281 355.59375 L 286.859375 355.59375 L 286.859375 322.976562 L 274.863281 322.976562 Z \"/>\n",
       "<path style=\"fill-rule:nonzero;fill:rgb(74.509804%,74.509804%,74.509804%);fill-opacity:1;stroke-width:0.75;stroke-linecap:round;stroke-linejoin:round;stroke:rgb(0%,0%,0%);stroke-opacity:1;stroke-miterlimit:10;\" d=\"M 289.257812 355.59375 L 301.253906 355.59375 L 301.253906 323.480469 L 289.257812 323.480469 Z \"/>\n",
       "<path style=\"fill-rule:nonzero;fill:rgb(74.509804%,74.509804%,74.509804%);fill-opacity:1;stroke-width:0.75;stroke-linecap:round;stroke-linejoin:round;stroke:rgb(0%,0%,0%);stroke-opacity:1;stroke-miterlimit:10;\" d=\"M 303.652344 355.59375 L 315.648438 355.59375 L 315.648438 324.734375 L 303.652344 324.734375 Z \"/>\n",
       "<path style=\"fill-rule:nonzero;fill:rgb(74.509804%,74.509804%,74.509804%);fill-opacity:1;stroke-width:0.75;stroke-linecap:round;stroke-linejoin:round;stroke:rgb(0%,0%,0%);stroke-opacity:1;stroke-miterlimit:10;\" d=\"M 318.046875 355.59375 L 330.042969 355.59375 L 330.042969 324.734375 L 318.046875 324.734375 Z \"/>\n",
       "<path style=\"fill-rule:nonzero;fill:rgb(74.509804%,74.509804%,74.509804%);fill-opacity:1;stroke-width:0.75;stroke-linecap:round;stroke-linejoin:round;stroke:rgb(0%,0%,0%);stroke-opacity:1;stroke-miterlimit:10;\" d=\"M 332.441406 355.59375 L 344.4375 355.59375 L 344.4375 325.234375 L 332.441406 325.234375 Z \"/>\n",
       "<path style=\"fill-rule:nonzero;fill:rgb(74.509804%,74.509804%,74.509804%);fill-opacity:1;stroke-width:0.75;stroke-linecap:round;stroke-linejoin:round;stroke:rgb(0%,0%,0%);stroke-opacity:1;stroke-miterlimit:10;\" d=\"M 346.835938 355.59375 L 358.832031 355.59375 L 358.832031 325.234375 L 346.835938 325.234375 Z \"/>\n",
       "<path style=\"fill-rule:nonzero;fill:rgb(74.509804%,74.509804%,74.509804%);fill-opacity:1;stroke-width:0.75;stroke-linecap:round;stroke-linejoin:round;stroke:rgb(0%,0%,0%);stroke-opacity:1;stroke-miterlimit:10;\" d=\"M 361.230469 355.59375 L 373.226562 355.59375 L 373.226562 326.492188 L 361.230469 326.492188 Z \"/>\n",
       "<path style=\"fill-rule:nonzero;fill:rgb(74.509804%,74.509804%,74.509804%);fill-opacity:1;stroke-width:0.75;stroke-linecap:round;stroke-linejoin:round;stroke:rgb(0%,0%,0%);stroke-opacity:1;stroke-miterlimit:10;\" d=\"M 375.625 355.59375 L 387.621094 355.59375 L 387.621094 326.992188 L 375.625 326.992188 Z \"/>\n",
       "<path style=\"fill-rule:nonzero;fill:rgb(74.509804%,74.509804%,74.509804%);fill-opacity:1;stroke-width:0.75;stroke-linecap:round;stroke-linejoin:round;stroke:rgb(0%,0%,0%);stroke-opacity:1;stroke-miterlimit:10;\" d=\"M 390.019531 355.59375 L 402.015625 355.59375 L 402.015625 327.242188 L 390.019531 327.242188 Z \"/>\n",
       "<path style=\"fill-rule:nonzero;fill:rgb(74.509804%,74.509804%,74.509804%);fill-opacity:1;stroke-width:0.75;stroke-linecap:round;stroke-linejoin:round;stroke:rgb(0%,0%,0%);stroke-opacity:1;stroke-miterlimit:10;\" d=\"M 404.414062 355.59375 L 416.410156 355.59375 L 416.410156 327.492188 L 404.414062 327.492188 Z \"/>\n",
       "<path style=\"fill-rule:nonzero;fill:rgb(74.509804%,74.509804%,74.509804%);fill-opacity:1;stroke-width:0.75;stroke-linecap:round;stroke-linejoin:round;stroke:rgb(0%,0%,0%);stroke-opacity:1;stroke-miterlimit:10;\" d=\"M 418.808594 355.59375 L 430.804688 355.59375 L 430.804688 327.746094 L 418.808594 327.746094 Z \"/>\n",
       "<path style=\"fill-rule:nonzero;fill:rgb(74.509804%,74.509804%,74.509804%);fill-opacity:1;stroke-width:0.75;stroke-linecap:round;stroke-linejoin:round;stroke:rgb(0%,0%,0%);stroke-opacity:1;stroke-miterlimit:10;\" d=\"M 433.203125 355.59375 L 445.199219 355.59375 L 445.199219 329 L 433.203125 329 Z \"/>\n",
       "<path style=\"fill-rule:nonzero;fill:rgb(74.509804%,74.509804%,74.509804%);fill-opacity:1;stroke-width:0.75;stroke-linecap:round;stroke-linejoin:round;stroke:rgb(0%,0%,0%);stroke-opacity:1;stroke-miterlimit:10;\" d=\"M 447.597656 355.59375 L 459.59375 355.59375 L 459.59375 329.25 L 447.597656 329.25 Z \"/>\n",
       "<path style=\"fill-rule:nonzero;fill:rgb(74.509804%,74.509804%,74.509804%);fill-opacity:1;stroke-width:0.75;stroke-linecap:round;stroke-linejoin:round;stroke:rgb(0%,0%,0%);stroke-opacity:1;stroke-miterlimit:10;\" d=\"M 461.996094 355.59375 L 473.992188 355.59375 L 473.992188 329.25 L 461.996094 329.25 Z \"/>\n",
       "<path style=\"fill-rule:nonzero;fill:rgb(74.509804%,74.509804%,74.509804%);fill-opacity:1;stroke-width:0.75;stroke-linecap:round;stroke-linejoin:round;stroke:rgb(0%,0%,0%);stroke-opacity:1;stroke-miterlimit:10;\" d=\"M 476.390625 355.59375 L 488.386719 355.59375 L 488.386719 329.5 L 476.390625 329.5 Z \"/>\n",
       "<path style=\"fill-rule:nonzero;fill:rgb(74.509804%,74.509804%,74.509804%);fill-opacity:1;stroke-width:0.75;stroke-linecap:round;stroke-linejoin:round;stroke:rgb(0%,0%,0%);stroke-opacity:1;stroke-miterlimit:10;\" d=\"M 490.785156 355.59375 L 502.78125 355.59375 L 502.78125 329.5 L 490.785156 329.5 Z \"/>\n",
       "<path style=\"fill-rule:nonzero;fill:rgb(74.509804%,74.509804%,74.509804%);fill-opacity:1;stroke-width:0.75;stroke-linecap:round;stroke-linejoin:round;stroke:rgb(0%,0%,0%);stroke-opacity:1;stroke-miterlimit:10;\" d=\"M 505.179688 355.59375 L 517.175781 355.59375 L 517.175781 329.75 L 505.179688 329.75 Z \"/>\n",
       "<path style=\"fill-rule:nonzero;fill:rgb(74.509804%,74.509804%,74.509804%);fill-opacity:1;stroke-width:0.75;stroke-linecap:round;stroke-linejoin:round;stroke:rgb(0%,0%,0%);stroke-opacity:1;stroke-miterlimit:10;\" d=\"M 519.574219 355.59375 L 531.570312 355.59375 L 531.570312 330.503906 L 519.574219 330.503906 Z \"/>\n",
       "<path style=\"fill-rule:nonzero;fill:rgb(74.509804%,74.509804%,74.509804%);fill-opacity:1;stroke-width:0.75;stroke-linecap:round;stroke-linejoin:round;stroke:rgb(0%,0%,0%);stroke-opacity:1;stroke-miterlimit:10;\" d=\"M 533.96875 355.59375 L 545.964844 355.59375 L 545.964844 330.503906 L 533.96875 330.503906 Z \"/>\n",
       "<path style=\"fill-rule:nonzero;fill:rgb(74.509804%,74.509804%,74.509804%);fill-opacity:1;stroke-width:0.75;stroke-linecap:round;stroke-linejoin:round;stroke:rgb(0%,0%,0%);stroke-opacity:1;stroke-miterlimit:10;\" d=\"M 548.363281 355.59375 L 560.359375 355.59375 L 560.359375 330.753906 L 548.363281 330.753906 Z \"/>\n",
       "<path style=\"fill-rule:nonzero;fill:rgb(74.509804%,74.509804%,74.509804%);fill-opacity:1;stroke-width:0.75;stroke-linecap:round;stroke-linejoin:round;stroke:rgb(0%,0%,0%);stroke-opacity:1;stroke-miterlimit:10;\" d=\"M 562.757812 355.59375 L 574.753906 355.59375 L 574.753906 331.007812 L 562.757812 331.007812 Z \"/>\n",
       "<path style=\"fill-rule:nonzero;fill:rgb(74.509804%,74.509804%,74.509804%);fill-opacity:1;stroke-width:0.75;stroke-linecap:round;stroke-linejoin:round;stroke:rgb(0%,0%,0%);stroke-opacity:1;stroke-miterlimit:10;\" d=\"M 577.152344 355.59375 L 589.148438 355.59375 L 589.148438 331.757812 L 577.152344 331.757812 Z \"/>\n",
       "<path style=\"fill-rule:nonzero;fill:rgb(74.509804%,74.509804%,74.509804%);fill-opacity:1;stroke-width:0.75;stroke-linecap:round;stroke-linejoin:round;stroke:rgb(0%,0%,0%);stroke-opacity:1;stroke-miterlimit:10;\" d=\"M 591.546875 355.59375 L 603.542969 355.59375 L 603.542969 332.011719 L 591.546875 332.011719 Z \"/>\n",
       "<path style=\"fill-rule:nonzero;fill:rgb(74.509804%,74.509804%,74.509804%);fill-opacity:1;stroke-width:0.75;stroke-linecap:round;stroke-linejoin:round;stroke:rgb(0%,0%,0%);stroke-opacity:1;stroke-miterlimit:10;\" d=\"M 605.941406 355.59375 L 617.9375 355.59375 L 617.9375 332.261719 L 605.941406 332.261719 Z \"/>\n",
       "<path style=\"fill-rule:nonzero;fill:rgb(74.509804%,74.509804%,74.509804%);fill-opacity:1;stroke-width:0.75;stroke-linecap:round;stroke-linejoin:round;stroke:rgb(0%,0%,0%);stroke-opacity:1;stroke-miterlimit:10;\" d=\"M 620.335938 355.59375 L 632.332031 355.59375 L 632.332031 332.261719 L 620.335938 332.261719 Z \"/>\n",
       "<path style=\"fill-rule:nonzero;fill:rgb(74.509804%,74.509804%,74.509804%);fill-opacity:1;stroke-width:0.75;stroke-linecap:round;stroke-linejoin:round;stroke:rgb(0%,0%,0%);stroke-opacity:1;stroke-miterlimit:10;\" d=\"M 634.730469 355.59375 L 646.726562 355.59375 L 646.726562 332.511719 L 634.730469 332.511719 Z \"/>\n",
       "<path style=\"fill-rule:nonzero;fill:rgb(74.509804%,74.509804%,74.509804%);fill-opacity:1;stroke-width:0.75;stroke-linecap:round;stroke-linejoin:round;stroke:rgb(0%,0%,0%);stroke-opacity:1;stroke-miterlimit:10;\" d=\"M 649.125 355.59375 L 661.121094 355.59375 L 661.121094 332.511719 L 649.125 332.511719 Z \"/>\n",
       "<path style=\"fill-rule:nonzero;fill:rgb(74.509804%,74.509804%,74.509804%);fill-opacity:1;stroke-width:0.75;stroke-linecap:round;stroke-linejoin:round;stroke:rgb(0%,0%,0%);stroke-opacity:1;stroke-miterlimit:10;\" d=\"M 663.519531 355.59375 L 675.515625 355.59375 L 675.515625 332.761719 L 663.519531 332.761719 Z \"/>\n",
       "<path style=\"fill-rule:nonzero;fill:rgb(74.509804%,74.509804%,74.509804%);fill-opacity:1;stroke-width:0.75;stroke-linecap:round;stroke-linejoin:round;stroke:rgb(0%,0%,0%);stroke-opacity:1;stroke-miterlimit:10;\" d=\"M 677.914062 355.59375 L 689.910156 355.59375 L 689.910156 332.761719 L 677.914062 332.761719 Z \"/>\n",
       "<path style=\"fill-rule:nonzero;fill:rgb(74.509804%,74.509804%,74.509804%);fill-opacity:1;stroke-width:0.75;stroke-linecap:round;stroke-linejoin:round;stroke:rgb(0%,0%,0%);stroke-opacity:1;stroke-miterlimit:10;\" d=\"M 692.308594 355.59375 L 704.304688 355.59375 L 704.304688 333.011719 L 692.308594 333.011719 Z \"/>\n",
       "<path style=\"fill-rule:nonzero;fill:rgb(74.509804%,74.509804%,74.509804%);fill-opacity:1;stroke-width:0.75;stroke-linecap:round;stroke-linejoin:round;stroke:rgb(0%,0%,0%);stroke-opacity:1;stroke-miterlimit:10;\" d=\"M 706.703125 355.59375 L 718.699219 355.59375 L 718.699219 333.765625 L 706.703125 333.765625 Z \"/>\n",
       "<path style=\"fill-rule:nonzero;fill:rgb(74.509804%,74.509804%,74.509804%);fill-opacity:1;stroke-width:0.75;stroke-linecap:round;stroke-linejoin:round;stroke:rgb(0%,0%,0%);stroke-opacity:1;stroke-miterlimit:10;\" d=\"M 721.097656 355.59375 L 733.09375 355.59375 L 733.09375 333.765625 L 721.097656 333.765625 Z \"/>\n",
       "<path style=\"fill-rule:nonzero;fill:rgb(74.509804%,74.509804%,74.509804%);fill-opacity:1;stroke-width:0.75;stroke-linecap:round;stroke-linejoin:round;stroke:rgb(0%,0%,0%);stroke-opacity:1;stroke-miterlimit:10;\" d=\"M 735.492188 355.59375 L 747.488281 355.59375 L 747.488281 333.765625 L 735.492188 333.765625 Z \"/>\n",
       "<path style=\"fill-rule:nonzero;fill:rgb(74.509804%,74.509804%,74.509804%);fill-opacity:1;stroke-width:0.75;stroke-linecap:round;stroke-linejoin:round;stroke:rgb(0%,0%,0%);stroke-opacity:1;stroke-miterlimit:10;\" d=\"M 749.886719 355.59375 L 761.882812 355.59375 L 761.882812 333.765625 L 749.886719 333.765625 Z \"/>\n",
       "<path style=\"fill-rule:nonzero;fill:rgb(74.509804%,74.509804%,74.509804%);fill-opacity:1;stroke-width:0.75;stroke-linecap:round;stroke-linejoin:round;stroke:rgb(0%,0%,0%);stroke-opacity:1;stroke-miterlimit:10;\" d=\"M 764.28125 355.59375 L 776.277344 355.59375 L 776.277344 334.015625 L 764.28125 334.015625 Z \"/>\n",
       "<path style=\"fill-rule:nonzero;fill:rgb(74.509804%,74.509804%,74.509804%);fill-opacity:1;stroke-width:0.75;stroke-linecap:round;stroke-linejoin:round;stroke:rgb(0%,0%,0%);stroke-opacity:1;stroke-miterlimit:10;\" d=\"M 778.675781 355.59375 L 790.671875 355.59375 L 790.671875 334.769531 L 778.675781 334.769531 Z \"/>\n",
       "<path style=\"fill-rule:nonzero;fill:rgb(74.509804%,74.509804%,74.509804%);fill-opacity:1;stroke-width:0.75;stroke-linecap:round;stroke-linejoin:round;stroke:rgb(0%,0%,0%);stroke-opacity:1;stroke-miterlimit:10;\" d=\"M 793.070312 355.59375 L 805.066406 355.59375 L 805.066406 335.019531 L 793.070312 335.019531 Z \"/>\n",
       "<g style=\"fill:rgb(0%,0%,0%);fill-opacity:1;\">\n",
       "  <use xlink:href=\"#glyph0-1\" x=\"98.035156\" y=\"400.300781\"/>\n",
       "  <use xlink:href=\"#glyph0-2\" x=\"98.035156\" y=\"393.626953\"/>\n",
       "  <use xlink:href=\"#glyph0-3\" x=\"98.035156\" y=\"386.953125\"/>\n",
       "  <use xlink:href=\"#glyph0-3\" x=\"98.035156\" y=\"382.957031\"/>\n",
       "  <use xlink:href=\"#glyph0-4\" x=\"98.035156\" y=\"378.960938\"/>\n",
       "</g>\n",
       "<g style=\"fill:rgb(0%,0%,0%);fill-opacity:1;\">\n",
       "  <use xlink:href=\"#glyph0-5\" x=\"112.429688\" y=\"394.976562\"/>\n",
       "  <use xlink:href=\"#glyph0-2\" x=\"112.429688\" y=\"388.976562\"/>\n",
       "  <use xlink:href=\"#glyph0-6\" x=\"112.429688\" y=\"382.302734\"/>\n",
       "  <use xlink:href=\"#glyph0-7\" x=\"112.429688\" y=\"379.636719\"/>\n",
       "</g>\n",
       "<g style=\"fill:rgb(0%,0%,0%);fill-opacity:1;\">\n",
       "  <use xlink:href=\"#glyph0-3\" x=\"126.824219\" y=\"390.304688\"/>\n",
       "  <use xlink:href=\"#glyph0-8\" x=\"126.824219\" y=\"386.308594\"/>\n",
       "  <use xlink:href=\"#glyph0-9\" x=\"126.824219\" y=\"379.634766\"/>\n",
       "</g>\n",
       "<g style=\"fill:rgb(0%,0%,0%);fill-opacity:1;\">\n",
       "  <use xlink:href=\"#glyph0-1\" x=\"141.21875\" y=\"406.320312\"/>\n",
       "  <use xlink:href=\"#glyph0-2\" x=\"141.21875\" y=\"399.646484\"/>\n",
       "  <use xlink:href=\"#glyph0-10\" x=\"141.21875\" y=\"392.972656\"/>\n",
       "  <use xlink:href=\"#glyph0-3\" x=\"141.21875\" y=\"386.298828\"/>\n",
       "  <use xlink:href=\"#glyph0-6\" x=\"141.21875\" y=\"382.302734\"/>\n",
       "  <use xlink:href=\"#glyph0-7\" x=\"141.21875\" y=\"379.636719\"/>\n",
       "</g>\n",
       "<g style=\"fill:rgb(0%,0%,0%);fill-opacity:1;\">\n",
       "  <use xlink:href=\"#glyph0-11\" x=\"155.613281\" y=\"398.308594\"/>\n",
       "  <use xlink:href=\"#glyph0-2\" x=\"155.613281\" y=\"391.634766\"/>\n",
       "  <use xlink:href=\"#glyph0-12\" x=\"155.613281\" y=\"384.960938\"/>\n",
       "  <use xlink:href=\"#glyph0-13\" x=\"155.613281\" y=\"378.960938\"/>\n",
       "</g>\n",
       "<g style=\"fill:rgb(0%,0%,0%);fill-opacity:1;\">\n",
       "  <use xlink:href=\"#glyph0-1\" x=\"170.007812\" y=\"422.988281\"/>\n",
       "  <use xlink:href=\"#glyph0-14\" x=\"170.007812\" y=\"416.314453\"/>\n",
       "  <use xlink:href=\"#glyph0-3\" x=\"170.007812\" y=\"409.640625\"/>\n",
       "  <use xlink:href=\"#glyph0-15\" x=\"170.007812\" y=\"405.644531\"/>\n",
       "  <use xlink:href=\"#glyph0-6\" x=\"170.007812\" y=\"395.648438\"/>\n",
       "  <use xlink:href=\"#glyph0-8\" x=\"170.007812\" y=\"392.982422\"/>\n",
       "  <use xlink:href=\"#glyph0-9\" x=\"170.007812\" y=\"386.308594\"/>\n",
       "  <use xlink:href=\"#glyph0-14\" x=\"170.007812\" y=\"379.634766\"/>\n",
       "</g>\n",
       "<g style=\"fill:rgb(0%,0%,0%);fill-opacity:1;\">\n",
       "  <use xlink:href=\"#glyph0-16\" x=\"184.402344\" y=\"422.984375\"/>\n",
       "  <use xlink:href=\"#glyph0-3\" x=\"184.402344\" y=\"416.310547\"/>\n",
       "  <use xlink:href=\"#glyph0-8\" x=\"184.402344\" y=\"412.314453\"/>\n",
       "  <use xlink:href=\"#glyph0-17\" x=\"184.402344\" y=\"405.640625\"/>\n",
       "  <use xlink:href=\"#glyph0-14\" x=\"184.402344\" y=\"402.306641\"/>\n",
       "  <use xlink:href=\"#glyph0-5\" x=\"184.402344\" y=\"395.632812\"/>\n",
       "  <use xlink:href=\"#glyph0-5\" x=\"184.402344\" y=\"389.632812\"/>\n",
       "  <use xlink:href=\"#glyph0-8\" x=\"184.402344\" y=\"383.632812\"/>\n",
       "  <use xlink:href=\"#glyph0-3\" x=\"184.402344\" y=\"376.958984\"/>\n",
       "</g>\n",
       "<g style=\"fill:rgb(0%,0%,0%);fill-opacity:1;\">\n",
       "  <use xlink:href=\"#glyph0-18\" x=\"198.796875\" y=\"408.320312\"/>\n",
       "  <use xlink:href=\"#glyph0-8\" x=\"198.796875\" y=\"405.654297\"/>\n",
       "  <use xlink:href=\"#glyph0-8\" x=\"198.796875\" y=\"398.980469\"/>\n",
       "  <use xlink:href=\"#glyph0-13\" x=\"198.796875\" y=\"392.306641\"/>\n",
       "  <use xlink:href=\"#glyph0-14\" x=\"198.796875\" y=\"386.306641\"/>\n",
       "  <use xlink:href=\"#glyph0-7\" x=\"198.796875\" y=\"379.632812\"/>\n",
       "</g>\n",
       "<g style=\"fill:rgb(0%,0%,0%);fill-opacity:1;\">\n",
       "  <use xlink:href=\"#glyph0-13\" x=\"213.191406\" y=\"400.976562\"/>\n",
       "  <use xlink:href=\"#glyph0-9\" x=\"213.191406\" y=\"394.976562\"/>\n",
       "  <use xlink:href=\"#glyph0-8\" x=\"213.191406\" y=\"388.302734\"/>\n",
       "  <use xlink:href=\"#glyph0-19\" x=\"213.191406\" y=\"381.628906\"/>\n",
       "</g>\n",
       "<g style=\"fill:rgb(0%,0%,0%);fill-opacity:1;\">\n",
       "  <use xlink:href=\"#glyph0-5\" x=\"227.585938\" y=\"392.308594\"/>\n",
       "  <use xlink:href=\"#glyph0-14\" x=\"227.585938\" y=\"386.308594\"/>\n",
       "  <use xlink:href=\"#glyph0-14\" x=\"227.585938\" y=\"379.634766\"/>\n",
       "</g>\n",
       "<g style=\"fill:rgb(0%,0%,0%);fill-opacity:1;\">\n",
       "  <use xlink:href=\"#glyph0-9\" x=\"241.980469\" y=\"394.976562\"/>\n",
       "  <use xlink:href=\"#glyph0-8\" x=\"241.980469\" y=\"388.302734\"/>\n",
       "  <use xlink:href=\"#glyph0-19\" x=\"241.980469\" y=\"381.628906\"/>\n",
       "</g>\n",
       "<g style=\"fill:rgb(0%,0%,0%);fill-opacity:1;\">\n",
       "  <use xlink:href=\"#glyph0-1\" x=\"256.375\" y=\"392.984375\"/>\n",
       "  <use xlink:href=\"#glyph0-14\" x=\"256.375\" y=\"386.310547\"/>\n",
       "  <use xlink:href=\"#glyph0-7\" x=\"256.375\" y=\"379.636719\"/>\n",
       "</g>\n",
       "<g style=\"fill:rgb(0%,0%,0%);fill-opacity:1;\">\n",
       "  <use xlink:href=\"#glyph0-5\" x=\"270.773438\" y=\"405.65625\"/>\n",
       "  <use xlink:href=\"#glyph0-9\" x=\"270.773438\" y=\"399.65625\"/>\n",
       "  <use xlink:href=\"#glyph0-2\" x=\"270.773438\" y=\"392.982422\"/>\n",
       "  <use xlink:href=\"#glyph0-16\" x=\"270.773438\" y=\"386.308594\"/>\n",
       "  <use xlink:href=\"#glyph0-14\" x=\"270.773438\" y=\"379.634766\"/>\n",
       "</g>\n",
       "<g style=\"fill:rgb(0%,0%,0%);fill-opacity:1;\">\n",
       "  <use xlink:href=\"#glyph0-10\" x=\"285.167969\" y=\"402.320312\"/>\n",
       "  <use xlink:href=\"#glyph0-8\" x=\"285.167969\" y=\"395.646484\"/>\n",
       "  <use xlink:href=\"#glyph0-6\" x=\"285.167969\" y=\"388.972656\"/>\n",
       "  <use xlink:href=\"#glyph0-9\" x=\"285.167969\" y=\"386.306641\"/>\n",
       "  <use xlink:href=\"#glyph0-10\" x=\"285.167969\" y=\"379.632812\"/>\n",
       "</g>\n",
       "<g style=\"fill:rgb(0%,0%,0%);fill-opacity:1;\">\n",
       "  <use xlink:href=\"#glyph0-7\" x=\"299.5625\" y=\"436.335938\"/>\n",
       "  <use xlink:href=\"#glyph0-20\" x=\"299.5625\" y=\"429.662109\"/>\n",
       "  <use xlink:href=\"#glyph0-15\" x=\"299.5625\" y=\"422.988281\"/>\n",
       "  <use xlink:href=\"#glyph0-11\" x=\"299.5625\" y=\"412.992188\"/>\n",
       "  <use xlink:href=\"#glyph0-18\" x=\"299.5625\" y=\"406.318359\"/>\n",
       "  <use xlink:href=\"#glyph0-14\" x=\"299.5625\" y=\"403.652344\"/>\n",
       "  <use xlink:href=\"#glyph0-7\" x=\"299.5625\" y=\"396.978516\"/>\n",
       "  <use xlink:href=\"#glyph0-8\" x=\"299.5625\" y=\"390.304688\"/>\n",
       "  <use xlink:href=\"#glyph0-3\" x=\"299.5625\" y=\"383.630859\"/>\n",
       "  <use xlink:href=\"#glyph0-14\" x=\"299.5625\" y=\"379.634766\"/>\n",
       "</g>\n",
       "<g style=\"fill:rgb(0%,0%,0%);fill-opacity:1;\">\n",
       "  <use xlink:href=\"#glyph0-9\" x=\"313.957031\" y=\"402.976562\"/>\n",
       "  <use xlink:href=\"#glyph0-14\" x=\"313.957031\" y=\"396.302734\"/>\n",
       "  <use xlink:href=\"#glyph0-21\" x=\"313.957031\" y=\"389.628906\"/>\n",
       "  <use xlink:href=\"#glyph0-14\" x=\"313.957031\" y=\"383.628906\"/>\n",
       "  <use xlink:href=\"#glyph0-3\" x=\"313.957031\" y=\"376.955078\"/>\n",
       "</g>\n",
       "<g style=\"fill:rgb(0%,0%,0%);fill-opacity:1;\">\n",
       "  <use xlink:href=\"#glyph0-19\" x=\"328.351562\" y=\"393.632812\"/>\n",
       "  <use xlink:href=\"#glyph0-14\" x=\"328.351562\" y=\"384.966797\"/>\n",
       "  <use xlink:href=\"#glyph0-18\" x=\"328.351562\" y=\"378.292969\"/>\n",
       "  <use xlink:href=\"#glyph0-18\" x=\"328.351562\" y=\"375.626953\"/>\n",
       "</g>\n",
       "<g style=\"fill:rgb(0%,0%,0%);fill-opacity:1;\">\n",
       "  <use xlink:href=\"#glyph0-22\" x=\"342.746094\" y=\"398.308594\"/>\n",
       "  <use xlink:href=\"#glyph0-1\" x=\"342.746094\" y=\"394.974609\"/>\n",
       "  <use xlink:href=\"#glyph0-6\" x=\"342.746094\" y=\"388.300781\"/>\n",
       "  <use xlink:href=\"#glyph0-9\" x=\"342.746094\" y=\"385.634766\"/>\n",
       "  <use xlink:href=\"#glyph0-13\" x=\"342.746094\" y=\"378.960938\"/>\n",
       "</g>\n",
       "<g style=\"fill:rgb(0%,0%,0%);fill-opacity:1;\">\n",
       "  <use xlink:href=\"#glyph0-20\" x=\"357.140625\" y=\"401.648438\"/>\n",
       "  <use xlink:href=\"#glyph0-9\" x=\"357.140625\" y=\"394.974609\"/>\n",
       "  <use xlink:href=\"#glyph0-12\" x=\"357.140625\" y=\"388.300781\"/>\n",
       "  <use xlink:href=\"#glyph0-18\" x=\"357.140625\" y=\"382.300781\"/>\n",
       "  <use xlink:href=\"#glyph0-14\" x=\"357.140625\" y=\"379.634766\"/>\n",
       "</g>\n",
       "<g style=\"fill:rgb(0%,0%,0%);fill-opacity:1;\">\n",
       "  <use xlink:href=\"#glyph0-18\" x=\"371.535156\" y=\"394.976562\"/>\n",
       "  <use xlink:href=\"#glyph0-8\" x=\"371.535156\" y=\"392.310547\"/>\n",
       "  <use xlink:href=\"#glyph0-8\" x=\"371.535156\" y=\"385.636719\"/>\n",
       "  <use xlink:href=\"#glyph0-13\" x=\"371.535156\" y=\"378.962891\"/>\n",
       "</g>\n",
       "<g style=\"fill:rgb(0%,0%,0%);fill-opacity:1;\">\n",
       "  <use xlink:href=\"#glyph0-22\" x=\"385.929688\" y=\"395.632812\"/>\n",
       "  <use xlink:href=\"#glyph0-6\" x=\"385.929688\" y=\"392.298828\"/>\n",
       "  <use xlink:href=\"#glyph0-15\" x=\"385.929688\" y=\"389.632812\"/>\n",
       "  <use xlink:href=\"#glyph0-14\" x=\"385.929688\" y=\"379.636719\"/>\n",
       "</g>\n",
       "<g style=\"fill:rgb(0%,0%,0%);fill-opacity:1;\">\n",
       "  <use xlink:href=\"#glyph0-5\" x=\"400.324219\" y=\"428.328125\"/>\n",
       "  <use xlink:href=\"#glyph0-8\" x=\"400.324219\" y=\"422.328125\"/>\n",
       "  <use xlink:href=\"#glyph0-15\" x=\"400.324219\" y=\"415.654297\"/>\n",
       "  <use xlink:href=\"#glyph0-14\" x=\"400.324219\" y=\"405.658203\"/>\n",
       "  <use xlink:href=\"#glyph0-22\" x=\"400.324219\" y=\"398.984375\"/>\n",
       "  <use xlink:href=\"#glyph0-1\" x=\"400.324219\" y=\"395.650391\"/>\n",
       "  <use xlink:href=\"#glyph0-6\" x=\"400.324219\" y=\"388.976562\"/>\n",
       "  <use xlink:href=\"#glyph0-9\" x=\"400.324219\" y=\"386.310547\"/>\n",
       "  <use xlink:href=\"#glyph0-10\" x=\"400.324219\" y=\"379.636719\"/>\n",
       "</g>\n",
       "<g style=\"fill:rgb(0%,0%,0%);fill-opacity:1;\">\n",
       "  <use xlink:href=\"#glyph0-1\" x=\"414.71875\" y=\"406.300781\"/>\n",
       "  <use xlink:href=\"#glyph0-2\" x=\"414.71875\" y=\"399.626953\"/>\n",
       "  <use xlink:href=\"#glyph0-3\" x=\"414.71875\" y=\"392.953125\"/>\n",
       "  <use xlink:href=\"#glyph0-3\" x=\"414.71875\" y=\"388.957031\"/>\n",
       "  <use xlink:href=\"#glyph0-4\" x=\"414.71875\" y=\"384.960938\"/>\n",
       "  <use xlink:href=\"#glyph0-5\" x=\"414.71875\" y=\"378.960938\"/>\n",
       "</g>\n",
       "<g style=\"fill:rgb(0%,0%,0%);fill-opacity:1;\">\n",
       "  <use xlink:href=\"#glyph0-7\" x=\"429.113281\" y=\"408.320312\"/>\n",
       "  <use xlink:href=\"#glyph0-20\" x=\"429.113281\" y=\"401.646484\"/>\n",
       "  <use xlink:href=\"#glyph0-7\" x=\"429.113281\" y=\"394.972656\"/>\n",
       "  <use xlink:href=\"#glyph0-18\" x=\"429.113281\" y=\"388.298828\"/>\n",
       "  <use xlink:href=\"#glyph0-14\" x=\"429.113281\" y=\"385.632812\"/>\n",
       "  <use xlink:href=\"#glyph0-4\" x=\"429.113281\" y=\"378.958984\"/>\n",
       "</g>\n",
       "<g style=\"fill:rgb(0%,0%,0%);fill-opacity:1;\">\n",
       "  <use xlink:href=\"#glyph0-17\" x=\"443.507812\" y=\"392.289062\"/>\n",
       "  <use xlink:href=\"#glyph0-6\" x=\"443.507812\" y=\"388.955078\"/>\n",
       "  <use xlink:href=\"#glyph0-3\" x=\"443.507812\" y=\"386.289062\"/>\n",
       "  <use xlink:href=\"#glyph0-5\" x=\"443.507812\" y=\"382.292969\"/>\n",
       "  <use xlink:href=\"#glyph0-22\" x=\"443.507812\" y=\"376.292969\"/>\n",
       "</g>\n",
       "<g style=\"fill:rgb(0%,0%,0%);fill-opacity:1;\">\n",
       "  <use xlink:href=\"#glyph0-12\" x=\"457.902344\" y=\"411.65625\"/>\n",
       "  <use xlink:href=\"#glyph0-8\" x=\"457.902344\" y=\"405.65625\"/>\n",
       "  <use xlink:href=\"#glyph0-20\" x=\"457.902344\" y=\"398.982422\"/>\n",
       "  <use xlink:href=\"#glyph0-18\" x=\"457.902344\" y=\"392.308594\"/>\n",
       "  <use xlink:href=\"#glyph0-7\" x=\"457.902344\" y=\"389.642578\"/>\n",
       "  <use xlink:href=\"#glyph0-9\" x=\"457.902344\" y=\"382.96875\"/>\n",
       "  <use xlink:href=\"#glyph0-22\" x=\"457.902344\" y=\"376.294922\"/>\n",
       "</g>\n",
       "<g style=\"fill:rgb(0%,0%,0%);fill-opacity:1;\">\n",
       "  <use xlink:href=\"#glyph0-14\" x=\"472.296875\" y=\"398.984375\"/>\n",
       "  <use xlink:href=\"#glyph0-21\" x=\"472.296875\" y=\"392.310547\"/>\n",
       "  <use xlink:href=\"#glyph0-14\" x=\"472.296875\" y=\"386.310547\"/>\n",
       "  <use xlink:href=\"#glyph0-9\" x=\"472.296875\" y=\"379.636719\"/>\n",
       "</g>\n",
       "<g style=\"fill:rgb(0%,0%,0%);fill-opacity:1;\">\n",
       "  <use xlink:href=\"#glyph0-7\" x=\"486.691406\" y=\"396.976562\"/>\n",
       "  <use xlink:href=\"#glyph0-8\" x=\"486.691406\" y=\"390.302734\"/>\n",
       "  <use xlink:href=\"#glyph0-8\" x=\"486.691406\" y=\"383.628906\"/>\n",
       "  <use xlink:href=\"#glyph0-3\" x=\"486.691406\" y=\"376.955078\"/>\n",
       "</g>\n",
       "<g style=\"fill:rgb(0%,0%,0%);fill-opacity:1;\">\n",
       "  <use xlink:href=\"#glyph0-14\" x=\"501.085938\" y=\"398.308594\"/>\n",
       "  <use xlink:href=\"#glyph0-4\" x=\"501.085938\" y=\"391.634766\"/>\n",
       "  <use xlink:href=\"#glyph0-14\" x=\"501.085938\" y=\"385.634766\"/>\n",
       "  <use xlink:href=\"#glyph0-5\" x=\"501.085938\" y=\"378.960938\"/>\n",
       "</g>\n",
       "<g style=\"fill:rgb(0%,0%,0%);fill-opacity:1;\">\n",
       "  <use xlink:href=\"#glyph0-15\" x=\"515.480469\" y=\"408.304688\"/>\n",
       "  <use xlink:href=\"#glyph0-2\" x=\"515.480469\" y=\"398.308594\"/>\n",
       "  <use xlink:href=\"#glyph0-18\" x=\"515.480469\" y=\"391.634766\"/>\n",
       "  <use xlink:href=\"#glyph0-17\" x=\"515.480469\" y=\"388.96875\"/>\n",
       "  <use xlink:href=\"#glyph0-8\" x=\"515.480469\" y=\"385.634766\"/>\n",
       "  <use xlink:href=\"#glyph0-4\" x=\"515.480469\" y=\"378.960938\"/>\n",
       "</g>\n",
       "<g style=\"fill:rgb(0%,0%,0%);fill-opacity:1;\">\n",
       "  <use xlink:href=\"#glyph0-3\" x=\"529.875\" y=\"396.304688\"/>\n",
       "  <use xlink:href=\"#glyph0-6\" x=\"529.875\" y=\"392.308594\"/>\n",
       "  <use xlink:href=\"#glyph0-10\" x=\"529.875\" y=\"389.642578\"/>\n",
       "  <use xlink:href=\"#glyph0-1\" x=\"529.875\" y=\"382.96875\"/>\n",
       "  <use xlink:href=\"#glyph0-22\" x=\"529.875\" y=\"376.294922\"/>\n",
       "</g>\n",
       "<g style=\"fill:rgb(0%,0%,0%);fill-opacity:1;\">\n",
       "  <use xlink:href=\"#glyph0-21\" x=\"544.269531\" y=\"409.652344\"/>\n",
       "  <use xlink:href=\"#glyph0-14\" x=\"544.269531\" y=\"403.652344\"/>\n",
       "  <use xlink:href=\"#glyph0-3\" x=\"544.269531\" y=\"396.978516\"/>\n",
       "  <use xlink:href=\"#glyph0-9\" x=\"544.269531\" y=\"392.982422\"/>\n",
       "  <use xlink:href=\"#glyph0-8\" x=\"544.269531\" y=\"386.308594\"/>\n",
       "  <use xlink:href=\"#glyph0-9\" x=\"544.269531\" y=\"379.634766\"/>\n",
       "</g>\n",
       "<g style=\"fill:rgb(0%,0%,0%);fill-opacity:1;\">\n",
       "  <use xlink:href=\"#glyph0-1\" x=\"558.664062\" y=\"399.65625\"/>\n",
       "  <use xlink:href=\"#glyph0-14\" x=\"558.664062\" y=\"392.982422\"/>\n",
       "  <use xlink:href=\"#glyph0-2\" x=\"558.664062\" y=\"386.308594\"/>\n",
       "  <use xlink:href=\"#glyph0-7\" x=\"558.664062\" y=\"379.634766\"/>\n",
       "</g>\n",
       "<g style=\"fill:rgb(0%,0%,0%);fill-opacity:1;\">\n",
       "  <use xlink:href=\"#glyph0-18\" x=\"573.058594\" y=\"410.988281\"/>\n",
       "  <use xlink:href=\"#glyph0-8\" x=\"573.058594\" y=\"408.322266\"/>\n",
       "  <use xlink:href=\"#glyph0-8\" x=\"573.058594\" y=\"401.648438\"/>\n",
       "  <use xlink:href=\"#glyph0-13\" x=\"573.058594\" y=\"394.974609\"/>\n",
       "  <use xlink:href=\"#glyph0-6\" x=\"573.058594\" y=\"388.974609\"/>\n",
       "  <use xlink:href=\"#glyph0-9\" x=\"573.058594\" y=\"386.308594\"/>\n",
       "  <use xlink:href=\"#glyph0-10\" x=\"573.058594\" y=\"379.634766\"/>\n",
       "</g>\n",
       "<g style=\"fill:rgb(0%,0%,0%);fill-opacity:1;\">\n",
       "  <use xlink:href=\"#glyph0-22\" x=\"587.453125\" y=\"413\"/>\n",
       "  <use xlink:href=\"#glyph0-1\" x=\"587.453125\" y=\"409.666016\"/>\n",
       "  <use xlink:href=\"#glyph0-8\" x=\"587.453125\" y=\"402.992188\"/>\n",
       "  <use xlink:href=\"#glyph0-20\" x=\"587.453125\" y=\"396.318359\"/>\n",
       "  <use xlink:href=\"#glyph0-10\" x=\"587.453125\" y=\"389.644531\"/>\n",
       "  <use xlink:href=\"#glyph0-1\" x=\"587.453125\" y=\"382.970703\"/>\n",
       "  <use xlink:href=\"#glyph0-22\" x=\"587.453125\" y=\"376.296875\"/>\n",
       "</g>\n",
       "<g style=\"fill:rgb(0%,0%,0%);fill-opacity:1;\">\n",
       "  <use xlink:href=\"#glyph0-22\" x=\"601.847656\" y=\"391.632812\"/>\n",
       "  <use xlink:href=\"#glyph0-19\" x=\"601.847656\" y=\"388.298828\"/>\n",
       "  <use xlink:href=\"#glyph0-8\" x=\"601.847656\" y=\"379.632812\"/>\n",
       "</g>\n",
       "<g style=\"fill:rgb(0%,0%,0%);fill-opacity:1;\">\n",
       "  <use xlink:href=\"#glyph0-9\" x=\"616.242188\" y=\"406.980469\"/>\n",
       "  <use xlink:href=\"#glyph0-14\" x=\"616.242188\" y=\"400.306641\"/>\n",
       "  <use xlink:href=\"#glyph0-21\" x=\"616.242188\" y=\"393.632812\"/>\n",
       "  <use xlink:href=\"#glyph0-6\" x=\"616.242188\" y=\"387.632812\"/>\n",
       "  <use xlink:href=\"#glyph0-18\" x=\"616.242188\" y=\"384.966797\"/>\n",
       "  <use xlink:href=\"#glyph0-18\" x=\"616.242188\" y=\"382.300781\"/>\n",
       "  <use xlink:href=\"#glyph0-14\" x=\"616.242188\" y=\"379.634766\"/>\n",
       "</g>\n",
       "<g style=\"fill:rgb(0%,0%,0%);fill-opacity:1;\">\n",
       "  <use xlink:href=\"#glyph0-22\" x=\"630.636719\" y=\"392.308594\"/>\n",
       "  <use xlink:href=\"#glyph0-8\" x=\"630.636719\" y=\"388.974609\"/>\n",
       "  <use xlink:href=\"#glyph0-18\" x=\"630.636719\" y=\"382.300781\"/>\n",
       "  <use xlink:href=\"#glyph0-7\" x=\"630.636719\" y=\"379.634766\"/>\n",
       "</g>\n",
       "<g style=\"fill:rgb(0%,0%,0%);fill-opacity:1;\">\n",
       "  <use xlink:href=\"#glyph0-12\" x=\"645.03125\" y=\"402.304688\"/>\n",
       "  <use xlink:href=\"#glyph0-8\" x=\"645.03125\" y=\"396.304688\"/>\n",
       "  <use xlink:href=\"#glyph0-15\" x=\"645.03125\" y=\"389.630859\"/>\n",
       "  <use xlink:href=\"#glyph0-14\" x=\"645.03125\" y=\"379.634766\"/>\n",
       "</g>\n",
       "<g style=\"fill:rgb(0%,0%,0%);fill-opacity:1;\">\n",
       "  <use xlink:href=\"#glyph0-5\" x=\"659.425781\" y=\"390.292969\"/>\n",
       "  <use xlink:href=\"#glyph0-22\" x=\"659.425781\" y=\"384.292969\"/>\n",
       "  <use xlink:href=\"#glyph0-6\" x=\"659.425781\" y=\"380.958984\"/>\n",
       "  <use xlink:href=\"#glyph0-18\" x=\"659.425781\" y=\"378.292969\"/>\n",
       "  <use xlink:href=\"#glyph0-18\" x=\"659.425781\" y=\"375.626953\"/>\n",
       "</g>\n",
       "<g style=\"fill:rgb(0%,0%,0%);fill-opacity:1;\">\n",
       "  <use xlink:href=\"#glyph0-16\" x=\"673.820312\" y=\"408.996094\"/>\n",
       "  <use xlink:href=\"#glyph0-14\" x=\"673.820312\" y=\"402.322266\"/>\n",
       "  <use xlink:href=\"#glyph0-8\" x=\"673.820312\" y=\"395.648438\"/>\n",
       "  <use xlink:href=\"#glyph0-16\" x=\"673.820312\" y=\"388.974609\"/>\n",
       "  <use xlink:href=\"#glyph0-18\" x=\"673.820312\" y=\"382.300781\"/>\n",
       "  <use xlink:href=\"#glyph0-14\" x=\"673.820312\" y=\"379.634766\"/>\n",
       "</g>\n",
       "<g style=\"fill:rgb(0%,0%,0%);fill-opacity:1;\">\n",
       "  <use xlink:href=\"#glyph0-4\" x=\"688.214844\" y=\"392.308594\"/>\n",
       "  <use xlink:href=\"#glyph0-14\" x=\"688.214844\" y=\"386.308594\"/>\n",
       "  <use xlink:href=\"#glyph0-1\" x=\"688.214844\" y=\"379.634766\"/>\n",
       "</g>\n",
       "<g style=\"fill:rgb(0%,0%,0%);fill-opacity:1;\">\n",
       "  <use xlink:href=\"#glyph0-15\" x=\"702.609375\" y=\"434.332031\"/>\n",
       "  <use xlink:href=\"#glyph0-12\" x=\"702.609375\" y=\"424.335938\"/>\n",
       "  <use xlink:href=\"#glyph0-10\" x=\"702.609375\" y=\"418.335938\"/>\n",
       "  <use xlink:href=\"#glyph0-8\" x=\"702.609375\" y=\"411.662109\"/>\n",
       "  <use xlink:href=\"#glyph0-9\" x=\"702.609375\" y=\"404.988281\"/>\n",
       "  <use xlink:href=\"#glyph0-2\" x=\"702.609375\" y=\"398.314453\"/>\n",
       "  <use xlink:href=\"#glyph0-10\" x=\"702.609375\" y=\"391.640625\"/>\n",
       "  <use xlink:href=\"#glyph0-2\" x=\"702.609375\" y=\"384.966797\"/>\n",
       "  <use xlink:href=\"#glyph0-18\" x=\"702.609375\" y=\"378.292969\"/>\n",
       "  <use xlink:href=\"#glyph0-18\" x=\"702.609375\" y=\"375.626953\"/>\n",
       "</g>\n",
       "<g style=\"fill:rgb(0%,0%,0%);fill-opacity:1;\">\n",
       "  <use xlink:href=\"#glyph0-17\" x=\"717.003906\" y=\"395.640625\"/>\n",
       "  <use xlink:href=\"#glyph0-2\" x=\"717.003906\" y=\"392.306641\"/>\n",
       "  <use xlink:href=\"#glyph0-12\" x=\"717.003906\" y=\"385.632812\"/>\n",
       "  <use xlink:href=\"#glyph0-14\" x=\"717.003906\" y=\"379.632812\"/>\n",
       "</g>\n",
       "<g style=\"fill:rgb(0%,0%,0%);fill-opacity:1;\">\n",
       "  <use xlink:href=\"#glyph0-3\" x=\"731.398438\" y=\"400.300781\"/>\n",
       "  <use xlink:href=\"#glyph0-8\" x=\"731.398438\" y=\"396.304688\"/>\n",
       "  <use xlink:href=\"#glyph0-8\" x=\"731.398438\" y=\"389.630859\"/>\n",
       "  <use xlink:href=\"#glyph0-15\" x=\"731.398438\" y=\"382.957031\"/>\n",
       "</g>\n",
       "<g style=\"fill:rgb(0%,0%,0%);fill-opacity:1;\">\n",
       "  <use xlink:href=\"#glyph0-19\" x=\"745.796875\" y=\"394.300781\"/>\n",
       "  <use xlink:href=\"#glyph0-2\" x=\"745.796875\" y=\"385.634766\"/>\n",
       "  <use xlink:href=\"#glyph0-4\" x=\"745.796875\" y=\"378.960938\"/>\n",
       "</g>\n",
       "<g style=\"fill:rgb(0%,0%,0%);fill-opacity:1;\">\n",
       "  <use xlink:href=\"#glyph0-19\" x=\"760.191406\" y=\"389.625\"/>\n",
       "  <use xlink:href=\"#glyph0-6\" x=\"760.191406\" y=\"380.958984\"/>\n",
       "  <use xlink:href=\"#glyph0-18\" x=\"760.191406\" y=\"378.292969\"/>\n",
       "  <use xlink:href=\"#glyph0-18\" x=\"760.191406\" y=\"375.626953\"/>\n",
       "</g>\n",
       "<g style=\"fill:rgb(0%,0%,0%);fill-opacity:1;\">\n",
       "  <use xlink:href=\"#glyph0-23\" x=\"774.585938\" y=\"408.972656\"/>\n",
       "  <use xlink:href=\"#glyph0-20\" x=\"774.585938\" y=\"402.298828\"/>\n",
       "  <use xlink:href=\"#glyph0-6\" x=\"774.585938\" y=\"395.625\"/>\n",
       "  <use xlink:href=\"#glyph0-3\" x=\"774.585938\" y=\"392.958984\"/>\n",
       "  <use xlink:href=\"#glyph0-3\" x=\"774.585938\" y=\"388.962891\"/>\n",
       "  <use xlink:href=\"#glyph0-14\" x=\"774.585938\" y=\"384.966797\"/>\n",
       "  <use xlink:href=\"#glyph0-18\" x=\"774.585938\" y=\"378.292969\"/>\n",
       "  <use xlink:href=\"#glyph0-18\" x=\"774.585938\" y=\"375.626953\"/>\n",
       "</g>\n",
       "<g style=\"fill:rgb(0%,0%,0%);fill-opacity:1;\">\n",
       "  <use xlink:href=\"#glyph0-12\" x=\"788.980469\" y=\"392.308594\"/>\n",
       "  <use xlink:href=\"#glyph0-2\" x=\"788.980469\" y=\"386.308594\"/>\n",
       "  <use xlink:href=\"#glyph0-9\" x=\"788.980469\" y=\"379.634766\"/>\n",
       "</g>\n",
       "<g style=\"fill:rgb(0%,0%,0%);fill-opacity:1;\">\n",
       "  <use xlink:href=\"#glyph0-18\" x=\"803.375\" y=\"388.96875\"/>\n",
       "  <use xlink:href=\"#glyph0-14\" x=\"803.375\" y=\"386.302734\"/>\n",
       "  <use xlink:href=\"#glyph0-17\" x=\"803.375\" y=\"379.628906\"/>\n",
       "  <use xlink:href=\"#glyph0-22\" x=\"803.375\" y=\"376.294922\"/>\n",
       "</g>\n",
       "<g style=\"fill:rgb(0%,0%,0%);fill-opacity:1;\">\n",
       "  <use xlink:href=\"#glyph1-1\" x=\"432.0625\" y=\"413.28125\"/>\n",
       "  <use xlink:href=\"#glyph1-2\" x=\"443.388672\" y=\"413.28125\"/>\n",
       "  <use xlink:href=\"#glyph1-3\" x=\"450.0625\" y=\"413.28125\"/>\n",
       "  <use xlink:href=\"#glyph1-4\" x=\"454.058594\" y=\"413.28125\"/>\n",
       "</g>\n",
       "<g style=\"fill:rgb(0%,0%,0%);fill-opacity:1;\">\n",
       "  <use xlink:href=\"#glyph0-24\" x=\"12.960938\" y=\"237.148438\"/>\n",
       "  <use xlink:href=\"#glyph0-3\" x=\"12.960938\" y=\"229.818359\"/>\n",
       "  <use xlink:href=\"#glyph0-14\" x=\"12.960938\" y=\"225.822266\"/>\n",
       "  <use xlink:href=\"#glyph0-23\" x=\"12.960938\" y=\"219.148438\"/>\n",
       "  <use xlink:href=\"#glyph0-20\" x=\"12.960938\" y=\"212.474609\"/>\n",
       "  <use xlink:href=\"#glyph0-14\" x=\"12.960938\" y=\"205.800781\"/>\n",
       "  <use xlink:href=\"#glyph0-9\" x=\"12.960938\" y=\"199.126953\"/>\n",
       "  <use xlink:href=\"#glyph0-12\" x=\"12.960938\" y=\"192.453125\"/>\n",
       "  <use xlink:href=\"#glyph0-4\" x=\"12.960938\" y=\"186.453125\"/>\n",
       "</g>\n",
       "<path style=\"fill:none;stroke-width:0.75;stroke-linecap:round;stroke-linejoin:round;stroke:rgb(0%,0%,0%);stroke-opacity:1;stroke-miterlimit:10;\" d=\"M 59.039062 355.59375 L 59.039062 104.703125 \"/>\n",
       "<path style=\"fill:none;stroke-width:0.75;stroke-linecap:round;stroke-linejoin:round;stroke:rgb(0%,0%,0%);stroke-opacity:1;stroke-miterlimit:10;\" d=\"M 59.039062 355.59375 L 51.839844 355.59375 \"/>\n",
       "<path style=\"fill:none;stroke-width:0.75;stroke-linecap:round;stroke-linejoin:round;stroke:rgb(0%,0%,0%);stroke-opacity:1;stroke-miterlimit:10;\" d=\"M 59.039062 305.417969 L 51.839844 305.417969 \"/>\n",
       "<path style=\"fill:none;stroke-width:0.75;stroke-linecap:round;stroke-linejoin:round;stroke:rgb(0%,0%,0%);stroke-opacity:1;stroke-miterlimit:10;\" d=\"M 59.039062 255.238281 L 51.839844 255.238281 \"/>\n",
       "<path style=\"fill:none;stroke-width:0.75;stroke-linecap:round;stroke-linejoin:round;stroke:rgb(0%,0%,0%);stroke-opacity:1;stroke-miterlimit:10;\" d=\"M 59.039062 205.058594 L 51.839844 205.058594 \"/>\n",
       "<path style=\"fill:none;stroke-width:0.75;stroke-linecap:round;stroke-linejoin:round;stroke:rgb(0%,0%,0%);stroke-opacity:1;stroke-miterlimit:10;\" d=\"M 59.039062 154.878906 L 51.839844 154.878906 \"/>\n",
       "<path style=\"fill:none;stroke-width:0.75;stroke-linecap:round;stroke-linejoin:round;stroke:rgb(0%,0%,0%);stroke-opacity:1;stroke-miterlimit:10;\" d=\"M 59.039062 104.703125 L 51.839844 104.703125 \"/>\n",
       "<g style=\"fill:rgb(0%,0%,0%);fill-opacity:1;\">\n",
       "  <use xlink:href=\"#glyph1-5\" x=\"37.96875\" y=\"359.898438\"/>\n",
       "</g>\n",
       "<g style=\"fill:rgb(0%,0%,0%);fill-opacity:1;\">\n",
       "  <use xlink:href=\"#glyph1-6\" x=\"24.617188\" y=\"309.722656\"/>\n",
       "  <use xlink:href=\"#glyph1-5\" x=\"31.291016\" y=\"309.722656\"/>\n",
       "  <use xlink:href=\"#glyph1-5\" x=\"37.964844\" y=\"309.722656\"/>\n",
       "</g>\n",
       "<g style=\"fill:rgb(0%,0%,0%);fill-opacity:1;\">\n",
       "  <use xlink:href=\"#glyph1-7\" x=\"24.617188\" y=\"259.542969\"/>\n",
       "  <use xlink:href=\"#glyph1-5\" x=\"31.291016\" y=\"259.542969\"/>\n",
       "  <use xlink:href=\"#glyph1-5\" x=\"37.964844\" y=\"259.542969\"/>\n",
       "</g>\n",
       "<g style=\"fill:rgb(0%,0%,0%);fill-opacity:1;\">\n",
       "  <use xlink:href=\"#glyph1-8\" x=\"24.617188\" y=\"209.363281\"/>\n",
       "  <use xlink:href=\"#glyph1-5\" x=\"31.291016\" y=\"209.363281\"/>\n",
       "  <use xlink:href=\"#glyph1-5\" x=\"37.964844\" y=\"209.363281\"/>\n",
       "</g>\n",
       "<g style=\"fill:rgb(0%,0%,0%);fill-opacity:1;\">\n",
       "  <use xlink:href=\"#glyph1-9\" x=\"24.617188\" y=\"159.183594\"/>\n",
       "  <use xlink:href=\"#glyph1-5\" x=\"31.291016\" y=\"159.183594\"/>\n",
       "  <use xlink:href=\"#glyph1-5\" x=\"37.964844\" y=\"159.183594\"/>\n",
       "</g>\n",
       "<g style=\"fill:rgb(0%,0%,0%);fill-opacity:1;\">\n",
       "  <use xlink:href=\"#glyph1-10\" x=\"17.945312\" y=\"109.007812\"/>\n",
       "  <use xlink:href=\"#glyph1-5\" x=\"24.619141\" y=\"109.007812\"/>\n",
       "  <use xlink:href=\"#glyph1-5\" x=\"31.292969\" y=\"109.007812\"/>\n",
       "  <use xlink:href=\"#glyph1-5\" x=\"37.966797\" y=\"109.007812\"/>\n",
       "</g>\n",
       "</g>\n",
       "</svg>\n"
      ],
      "text/plain": [
       "plot without title"
      ]
     },
     "metadata": {
      "image/svg+xml": {
       "isolated": true
      }
     },
     "output_type": "display_data"
    }
   ],
   "source": [
    "barplot(hp.freq.sw2.sorted[1:50], xlab=\"Word\", ylab=\"Frequency\", las=2)"
   ]
  },
  {
   "cell_type": "markdown",
   "metadata": {
    "slideshow": {
     "slide_type": "subslide"
    }
   },
   "source": [
    "## Simple visualization\n",
    "\n",
    "- barplot\n",
    "- **word cloud**\n",
    "- concordancer"
   ]
  },
  {
   "cell_type": "markdown",
   "metadata": {
    "slideshow": {
     "slide_type": "subslide"
    }
   },
   "source": [
    "<img src=\"img/wordcloud.png\" style='height: 500px'/>"
   ]
  },
  {
   "cell_type": "markdown",
   "metadata": {
    "slideshow": {
     "slide_type": "subslide"
    }
   },
   "source": [
    "## Simple visualization\n",
    "\n",
    "- barplot\n",
    "- word cloud\n",
    "- **concordancer**"
   ]
  },
  {
   "cell_type": "markdown",
   "metadata": {
    "slideshow": {
     "slide_type": "subslide"
    }
   },
   "source": [
    "Since the XIIIe century, a **concordance** is an alphabetical list of the principal words used in a book or body of work, listing **every instance** of each word with its **immediate context**. \n",
    "\n",
    "<img src=\"img/concordance.jpg\" style='height: 400px'/>\n",
    "\n",
    "*Cruden's Concordance (concordance of the King James Bible that was single-handedly created by Alexander Cruden)*"
   ]
  },
  {
   "cell_type": "code",
   "execution_count": 57,
   "metadata": {
    "collapsed": false,
    "slideshow": {
     "slide_type": "subslide"
    }
   },
   "outputs": [
    {
     "data": {
      "text/html": [
       "<table>\n",
       "<thead><tr><th></th><th scope=col>context.left</th><th scope=col>t</th><th scope=col>context.right</th></tr></thead>\n",
       "<tbody>\n",
       "\t<tr><th scope=row>1</th><td>smelled strongly of seaweed, the wind </td><td>whistle</td><td>d through the gaps in the wooden walls,</td></tr>\n",
       "\t<tr><th scope=row>2</th><td>railway tracks on the floor. Griphook </td><td>whistle</td><td>d and a small cart came hurtling up the</td></tr>\n",
       "\t<tr><th scope=row>3</th><td>ool.<U+201D>\"All right, keep your hair on.<U+201D>A </td><td>whistle</td><td> sounded.\"Hurry up!<U+201D> their mother said,</td></tr>\n",
       "\t<tr><th scope=row>4</th><td> wrong for years.\"Now, when I blow my </td><td>whistle</td><td>, you kick off from the ground, hard,<U+201D> </td></tr>\n",
       "\t<tr><th scope=row>5</th><td>wn by leaning forward slightly. On my </td><td>whistle</td><td> - three - two -<U+201D>But Neville, nervous a</td></tr>\n",
       "\t<tr><th scope=row>6</th><td>he ground, pushed off hard before the </td><td>whistle</td><td> had touched Madam Hooch's lips.\"Come b</td></tr>\n",
       "\t<tr><th scope=row>7</th><td> a steep dive, racing the ball - wind </td><td>whistle</td><td>d in his ears, mingled with the screams</td></tr>\n",
       "\t<tr><th scope=row>8</th><td>Hooch gave a loud blast on her silver </td><td>whistle</td><td>.Fifteen brooms rose up, high, high int</td></tr>\n",
       "</tbody>\n",
       "</table>\n"
      ],
      "text/latex": [
       "\\begin{tabular}{r|lll}\n",
       "  & context.left & t & context.right\\\\\n",
       "\\hline\n",
       "\t1 & smelled strongly of seaweed, the wind  & whistle & d through the gaps in the wooden walls,\\\\\n",
       "\t2 & railway tracks on the floor. Griphook  & whistle & d and a small cart came hurtling up the\\\\\n",
       "\t3 & ool.<U+201D>\"All right, keep your hair on.<U+201D>A  & whistle &  sounded.\"Hurry up!<U+201D> their mother said,\\\\\n",
       "\t4 &  wrong for years.\"Now, when I blow my  & whistle & , you kick off from the ground, hard,<U+201D> \\\\\n",
       "\t5 & wn by leaning forward slightly. On my  & whistle &  - three - two -<U+201D>But Neville, nervous a\\\\\n",
       "\t6 & he ground, pushed off hard before the  & whistle &  had touched Madam Hooch's lips.\"Come b\\\\\n",
       "\t7 &  a steep dive, racing the ball - wind  & whistle & d in his ears, mingled with the screams\\\\\n",
       "\t8 & Hooch gave a loud blast on her silver  & whistle & .Fifteen brooms rose up, high, high int\\\\\n",
       "\\end{tabular}\n"
      ],
      "text/plain": [
       "                                          context.left       t\n",
       "1               smelled strongly of seaweed, the wind  whistle\n",
       "2               railway tracks on the floor. Griphook  whistle\n",
       "3 ool.<U+201D>\"All right, keep your hair on.<U+201D>A  whistle\n",
       "4                wrong for years.\"Now, when I blow my  whistle\n",
       "5               wn by leaning forward slightly. On my  whistle\n",
       "6               he ground, pushed off hard before the  whistle\n",
       "7                a steep dive, racing the ball - wind  whistle\n",
       "8               Hooch gave a loud blast on her silver  whistle\n",
       "                                   context.right\n",
       "1        d through the gaps in the wooden walls,\n",
       "2        d and a small cart came hurtling up the\n",
       "3  sounded.\"Hurry up!<U+201D> their mother said,\n",
       "4 , you kick off from the ground, hard,<U+201D> \n",
       "5  - three - two -<U+201D>But Neville, nervous a\n",
       "6         had touched Madam Hooch's lips.\"Come b\n",
       "7        d in his ears, mingled with the screams\n",
       "8        .Fifteen brooms rose up, high, high int"
      ]
     },
     "execution_count": 57,
     "metadata": {},
     "output_type": "execute_result"
    }
   ],
   "source": [
    "window <- 38\n",
    "concord(\"whistle\")"
   ]
  },
  {
   "cell_type": "markdown",
   "metadata": {
    "slideshow": {
     "slide_type": "fragment"
    }
   },
   "source": [
    "This can be *really* useful for getting a better understanding of the real word usage."
   ]
  },
  {
   "cell_type": "markdown",
   "metadata": {
    "slideshow": {
     "slide_type": "slide"
    }
   },
   "source": [
    "## Basic search engine\n",
    "\n",
    "- **comparing two texts**\n",
    "- term weighting\n",
    "- text ranking\n",
    "- evaluation"
   ]
  },
  {
   "cell_type": "markdown",
   "metadata": {
    "slideshow": {
     "slide_type": "subslide"
    }
   },
   "source": [
    "### How to make pairwise comparison?\n",
    "\n",
    "With BoW / VSM, we can leverage usual measures based on vector: euclidean distance, Mahalanobis, Minkowski, Jaccard, etc.\n",
    "\n",
    "For instance, $d_2(\\vec{x}, \\vec{y}) = \\sqrt{\\sum_{i=1}^n (x_i - y_i)^2}$"
   ]
  },
  {
   "cell_type": "code",
   "execution_count": 63,
   "metadata": {
    "collapsed": false,
    "slideshow": {
     "slide_type": "subslide"
    }
   },
   "outputs": [
    {
     "name": "stderr",
     "output_type": "stream",
     "text": [
      "Vocabulary:\n"
     ]
    },
    {
     "name": "stdout",
     "output_type": "stream",
     "text": [
      " [1] \"alongside\"  \"are\"        \"bank\"       \"banks\"      \"bed\"       \n",
      " [6] \"body\"       \"creek\"      \"different\"  \"fields\"     \"generally\" \n",
      "[11] \"geography\"  \"inland\"     \"land\"       \"limnology\"  \"referred\"  \n",
      "[16] \"refers\"     \"river\"      \"stream\"     \"structures\" \"study\"     \n",
      "[21] \"terrain\"    \"the\"        \"various\"    \"water\"      \"waters\"    \n"
     ]
    },
    {
     "name": "stderr",
     "output_type": "stream",
     "text": [
      "VSM representations of the three sentences:\n"
     ]
    },
    {
     "name": "stdout",
     "output_type": "stream",
     "text": [
      " [1] 1 0 1 0 0 1 0 0 0 1 1 0 1 0 0 1 0 0 0 0 0 1 0 1 0\n",
      " [1] 0 1 0 1 0 0 0 1 1 0 1 0 0 0 1 0 0 0 1 0 0 0 1 0 0\n",
      " [1] 1 0 2 0 1 0 1 0 0 0 0 1 0 1 0 0 2 2 0 1 1 3 0 0 1\n"
     ]
    }
   ],
   "source": [
    "ch1 <- \"In geography a bank generally refers to the land alongside\n",
    "        a body of water\"\n",
    "ch2 <- \"Various structures are referred to as banks in different fields\n",
    "        of geography.\"\n",
    "ch3 <- \"In limnology, the study of inland waters, a stream bank or river bank\n",
    "        is the terrain alongside the bed of a river, creek, or stream.\"\n",
    "message(\"Vocabulary:\")\n",
    "vocab <- print(build_vocab(paste(ch1, ch2, ch3)))\n",
    "message(\"VSM representations of the three sentences:\")\n",
    "v1 <- print(embed(ch1, vocab))\n",
    "v2 <- print(embed(ch2, vocab))\n",
    "v3 <- print(embed(ch3, vocab))"
   ]
  },
  {
   "cell_type": "code",
   "execution_count": 192,
   "metadata": {
    "collapsed": false,
    "slideshow": {
     "slide_type": "subslide"
    }
   },
   "outputs": [
    {
     "name": "stderr",
     "output_type": "stream",
     "text": [
      "v1 vs. v2\n"
     ]
    },
    {
     "data": {
      "text/html": [
       "'v1.v2 = 1'"
      ],
      "text/latex": [
       "'v1.v2 = 1'"
      ],
      "text/markdown": [
       "'v1.v2 = 1'"
      ],
      "text/plain": [
       "[1] \"v1.v2 = 1\""
      ]
     },
     "execution_count": 192,
     "metadata": {},
     "output_type": "execute_result"
    },
    {
     "data": {
      "text/html": [
       "'d(v1,v2) = 3.872983'"
      ],
      "text/latex": [
       "'d(v1,v2) = 3.872983'"
      ],
      "text/markdown": [
       "'d(v1,v2) = 3.872983'"
      ],
      "text/plain": [
       "[1] \"d(v1,v2) = 3.872983\""
      ]
     },
     "execution_count": 192,
     "metadata": {},
     "output_type": "execute_result"
    },
    {
     "name": "stderr",
     "output_type": "stream",
     "text": [
      "v1 vs. v3\n"
     ]
    },
    {
     "data": {
      "text/html": [
       "'v1.v3 = 6'"
      ],
      "text/latex": [
       "'v1.v3 = 6'"
      ],
      "text/markdown": [
       "'v1.v3 = 6'"
      ],
      "text/plain": [
       "[1] \"v1.v3 = 6\""
      ]
     },
     "execution_count": 192,
     "metadata": {},
     "output_type": "execute_result"
    },
    {
     "data": {
      "text/html": [
       "'d(v1,v3) = 5.099020'"
      ],
      "text/latex": [
       "'d(v1,v3) = 5.099020'"
      ],
      "text/markdown": [
       "'d(v1,v3) = 5.099020'"
      ],
      "text/plain": [
       "[1] \"d(v1,v3) = 5.099020\""
      ]
     },
     "execution_count": 192,
     "metadata": {},
     "output_type": "execute_result"
    },
    {
     "name": "stderr",
     "output_type": "stream",
     "text": [
      "v2 vs. v3\n"
     ]
    },
    {
     "data": {
      "text/html": [
       "'v2.v3 = 0'"
      ],
      "text/latex": [
       "'v2.v3 = 0'"
      ],
      "text/markdown": [
       "'v2.v3 = 0'"
      ],
      "text/plain": [
       "[1] \"v2.v3 = 0\""
      ]
     },
     "execution_count": 192,
     "metadata": {},
     "output_type": "execute_result"
    },
    {
     "data": {
      "text/html": [
       "'d(v2,v3) = 6.082763'"
      ],
      "text/latex": [
       "'d(v2,v3) = 6.082763'"
      ],
      "text/markdown": [
       "'d(v2,v3) = 6.082763'"
      ],
      "text/plain": [
       "[1] \"d(v2,v3) = 6.082763\""
      ]
     },
     "execution_count": 192,
     "metadata": {},
     "output_type": "execute_result"
    }
   ],
   "source": [
    "message(\"v1 vs. v2\")\n",
    "sprintf(\"v1.v2 = %i\", v1%*%v2)\n",
    "sprintf(\"d(v1,v2) = %f\", sqrt(sum((v1-v2)^2)))\n",
    "message(\"v1 vs. v3\")\n",
    "sprintf(\"v1.v3 = %i\", v1%*%v3)\n",
    "sprintf(\"d(v1,v3) = %f\", sqrt(sum((v1-v3)^2)))\n",
    "message(\"v2 vs. v3\")\n",
    "sprintf(\"v2.v3 = %i\", v2%*%v3)\n",
    "sprintf(\"d(v2,v3) = %f\", sqrt(sum((v2-v3)^2)))"
   ]
  },
  {
   "cell_type": "markdown",
   "metadata": {
    "slideshow": {
     "slide_type": "subslide"
    }
   },
   "source": [
    "$v2$ seems closer to $v1$ than $v3$, but they only share 1 word.\n",
    "\n",
    "We can see that the euclidean distance seems inappropriate for **sparse data** described in high dimension."
   ]
  },
  {
   "cell_type": "markdown",
   "metadata": {
    "slideshow": {
     "slide_type": "fragment"
    }
   },
   "source": [
    "It is related to what is called the **curse of dimensionality**."
   ]
  },
  {
   "cell_type": "markdown",
   "metadata": {
    "slideshow": {
     "slide_type": "subslide"
    }
   },
   "source": [
    "If we take a closer look to the terms x documents matrix:"
   ]
  },
  {
   "cell_type": "code",
   "execution_count": 188,
   "metadata": {
    "collapsed": false,
    "slideshow": {
     "slide_type": "fragment"
    }
   },
   "outputs": [
    {
     "data": {
      "text/plain": [
       "<<TermDocumentMatrix (terms: 6842, documents: 3219)>>\n",
       "Non-/sparse entries: 56264/21968134\n",
       "Sparsity           : 100%\n",
       "Maximal term length: 21\n",
       "Weighting          : term frequency (tf)"
      ]
     },
     "execution_count": 188,
     "metadata": {},
     "output_type": "execute_result"
    }
   ],
   "source": [
    "hp.dtm"
   ]
  },
  {
   "cell_type": "code",
   "execution_count": 197,
   "metadata": {
    "collapsed": false,
    "slideshow": {
     "slide_type": "fragment"
    }
   },
   "outputs": [
    {
     "data": {
      "text/html": [
       "'Rate of non-empty cells: 0.002561'"
      ],
      "text/latex": [
       "'Rate of non-empty cells: 0.002561'"
      ],
      "text/markdown": [
       "'Rate of non-empty cells: 0.002561'"
      ],
      "text/plain": [
       "[1] \"Rate of non-empty cells: 0.002561\""
      ]
     },
     "execution_count": 197,
     "metadata": {},
     "output_type": "execute_result"
    }
   ],
   "source": [
    "sprintf(\"Rate of non-empty cells: %f\", (56264/21968134))"
   ]
  },
  {
   "cell_type": "markdown",
   "metadata": {
    "slideshow": {
     "slide_type": "subslide"
    }
   },
   "source": [
    "Dans les espaces à **beaucoup de dimensions** :\n",
    "\n",
    "Pourquoi les banquiers n'ont jamais de lingots sphériques ?\n",
    "\n",
    "Pourquoi les marchands d'oranges occupent beaucoup de place pour empiler peu d'oranges ?\n",
    "\n",
    "http://www.brouty.fr/Maths/sphere.html (see \"Curiosités du calcul\")"
   ]
  },
  {
   "cell_type": "markdown",
   "metadata": {
    "slideshow": {
     "slide_type": "subslide"
    }
   },
   "source": [
    "## Curse of dimensionality\n",
    "\n",
    "Richard E. Bellman (1920-1984): hypervolumes are almost empty!\n",
    "\n",
    "<img src=\"img/curse.png\" style='height: 400px'/>\n",
    "\n",
    "A volume with $dim=d$ needs $10^d$ data to populate it with $d$ evenly-spaced sample points."
   ]
  },
  {
   "cell_type": "markdown",
   "metadata": {
    "slideshow": {
     "slide_type": "subslide"
    }
   },
   "source": [
    "Volume of the hyperball for $dim=d$:\n",
    "\n",
    "$V_1 = 2R$\n",
    "\n",
    "$V_2 = \\pi R^2$\n",
    "\n",
    "$\\forall d > 2, V_d = V_{d-2} \\frac{2\\pi}{d} R^2$\n",
    "\n",
    "Volume of Hypercube: $(2R)^d$\n"
   ]
  },
  {
   "cell_type": "code",
   "execution_count": 130,
   "metadata": {
    "collapsed": false,
    "scrolled": true,
    "slideshow": {
     "slide_type": "subslide"
    }
   },
   "outputs": [
    {
     "data": {
      "text/html": [
       "<table>\n",
       "<tbody>\n",
       "\t<tr><th scope=row>d</th><td> 1</td><td> 2</td><td> 3</td><td> 4</td><td> 5</td><td> 6</td><td> 7</td><td> 8</td><td> 9</td><td>10</td></tr>\n",
       "\t<tr><th scope=row>ball</th><td>2.00</td><td>3.14</td><td>4.19</td><td>4.93</td><td>5.26</td><td>5.17</td><td>4.72</td><td>4.06</td><td>3.30</td><td>2.55</td></tr>\n",
       "\t<tr><th scope=row>cube</th><td>   2</td><td>   4</td><td>   8</td><td>  16</td><td>  32</td><td>  64</td><td> 128</td><td> 256</td><td> 512</td><td>1024</td></tr>\n",
       "</tbody>\n",
       "</table>\n"
      ],
      "text/latex": [
       "\\begin{tabular}{r|llllllllll}\n",
       "\td &  1 &  2 &  3 &  4 &  5 &  6 &  7 &  8 &  9 & 10\\\\\n",
       "\tball & 2.00 & 3.14 & 4.19 & 4.93 & 5.26 & 5.17 & 4.72 & 4.06 & 3.30 & 2.55\\\\\n",
       "\tcube &    2 &    4 &    8 &   16 &   32 &   64 &  128 &  256 &  512 & 1024\\\\\n",
       "\\end{tabular}\n"
      ],
      "text/markdown": [
       "1. 1\n",
       "2. 2\n",
       "3. 2\n",
       "4. 2\n",
       "5. 3.14159265358979\n",
       "6. 4\n",
       "7. 3\n",
       "8. 4.18879020478639\n",
       "9. 8\n",
       "10. 4\n",
       "11. 4.93480220054468\n",
       "12. 16\n",
       "13. 5\n",
       "14. 5.26378901391432\n",
       "15. 32\n",
       "16. 6\n",
       "17. 5.16771278004997\n",
       "18. 64\n",
       "19. 7\n",
       "20. 4.7247659703314\n",
       "21. 128\n",
       "22. 8\n",
       "23. 4.05871212641677\n",
       "24. 256\n",
       "25. 9\n",
       "26. 3.29850890273871\n",
       "27. 512\n",
       "28. 10\n",
       "29. 2.55016403987735\n",
       "30. 1024\n",
       "\n",
       "\n"
      ],
      "text/plain": [
       "     [,1] [,2] [,3]  [,4]  [,5]  [,6]   [,7]   [,8]  [,9]   [,10]\n",
       "d       1 2.00 3.00  4.00  5.00  6.00   7.00   8.00   9.0   10.00\n",
       "ball    2 3.14 4.19  4.93  5.26  5.17   4.72   4.06   3.3    2.55\n",
       "cube    2 4.00 8.00 16.00 32.00 64.00 128.00 256.00 512.0 1024.00"
      ]
     },
     "execution_count": 130,
     "metadata": {},
     "output_type": "execute_result"
    }
   ],
   "source": [
    "R <- 1; maxx <- 10; maxy <- 10; x <- 1:maxx\n",
    "v <- c(2*R, pi*R^2)\n",
    "for (i in 3:maxx) v <- c(v, v[i-2]*R^2*2*pi/i)\n",
    "t(data.frame(d=x, ball=v, cube=(2*R)^x))"
   ]
  },
  {
   "cell_type": "code",
   "execution_count": 131,
   "metadata": {
    "collapsed": false,
    "slideshow": {
     "slide_type": "fragment"
    }
   },
   "outputs": [
    {
     "data": {
      "image/png": "[encoded data removed]",
      "image/svg+xml": [
       "<?xml version=\"1.0\" encoding=\"UTF-8\"?>\n",
       "<svg xmlns=\"http://www.w3.org/2000/svg\" xmlns:xlink=\"http://www.w3.org/1999/xlink\" width=\"720pt\" height=\"576pt\" viewBox=\"0 0 720 576\" version=\"1.1\">\n",
       "<defs>\n",
       "<g>\n",
       "<symbol overflow=\"visible\" id=\"glyph0-0\">\n",
       "<path style=\"stroke:none;\" d=\"M 0.390625 0 L 0.390625 -8.609375 L 7.21875 -8.609375 L 7.21875 0 Z M 6.140625 -1.078125 L 6.140625 -7.53125 L 1.46875 -7.53125 L 1.46875 -1.078125 Z \"/>\n",
       "</symbol>\n",
       "<symbol overflow=\"visible\" id=\"glyph0-1\">\n",
       "<path style=\"stroke:none;\" d=\"M 0.375 0 C 0.414062 -0.71875 0.566406 -1.34375 0.828125 -1.875 C 1.085938 -2.414062 1.59375 -2.90625 2.34375 -3.34375 L 3.46875 -4 C 3.96875 -4.289062 4.320312 -4.539062 4.53125 -4.75 C 4.851562 -5.070312 5.015625 -5.441406 5.015625 -5.859375 C 5.015625 -6.347656 4.863281 -6.734375 4.5625 -7.015625 C 4.269531 -7.304688 3.882812 -7.453125 3.40625 -7.453125 C 2.675781 -7.453125 2.175781 -7.179688 1.90625 -6.640625 C 1.75 -6.335938 1.664062 -5.929688 1.65625 -5.421875 L 0.578125 -5.421875 C 0.585938 -6.148438 0.722656 -6.742188 0.984375 -7.203125 C 1.441406 -8.015625 2.25 -8.421875 3.40625 -8.421875 C 4.363281 -8.421875 5.0625 -8.160156 5.5 -7.640625 C 5.945312 -7.117188 6.171875 -6.539062 6.171875 -5.90625 C 6.171875 -5.238281 5.9375 -4.664062 5.46875 -4.1875 C 5.195312 -3.90625 4.707031 -3.566406 4 -3.171875 L 3.1875 -2.734375 C 2.8125 -2.523438 2.515625 -2.320312 2.296875 -2.125 C 1.898438 -1.789062 1.648438 -1.414062 1.546875 -1 L 6.140625 -1 L 6.140625 0 Z \"/>\n",
       "</symbol>\n",
       "<symbol overflow=\"visible\" id=\"glyph0-2\">\n",
       "<path style=\"stroke:none;\" d=\"M 3.96875 -2.96875 L 3.96875 -6.78125 L 1.28125 -2.96875 Z M 3.984375 0 L 3.984375 -2.046875 L 0.3125 -2.046875 L 0.3125 -3.078125 L 4.15625 -8.421875 L 5.046875 -8.421875 L 5.046875 -2.96875 L 6.28125 -2.96875 L 6.28125 -2.046875 L 5.046875 -2.046875 L 5.046875 0 Z \"/>\n",
       "</symbol>\n",
       "<symbol overflow=\"visible\" id=\"glyph0-3\">\n",
       "<path style=\"stroke:none;\" d=\"M 3.515625 -8.421875 C 4.453125 -8.421875 5.101562 -8.175781 5.46875 -7.6875 C 5.84375 -7.207031 6.03125 -6.707031 6.03125 -6.1875 L 4.984375 -6.1875 C 4.921875 -6.519531 4.820312 -6.78125 4.6875 -6.96875 C 4.425781 -7.320312 4.039062 -7.5 3.53125 -7.5 C 2.9375 -7.5 2.460938 -7.222656 2.109375 -6.671875 C 1.765625 -6.128906 1.578125 -5.351562 1.546875 -4.34375 C 1.785156 -4.695312 2.085938 -4.960938 2.453125 -5.140625 C 2.785156 -5.296875 3.160156 -5.375 3.578125 -5.375 C 4.285156 -5.375 4.898438 -5.148438 5.421875 -4.703125 C 5.941406 -4.253906 6.203125 -3.582031 6.203125 -2.6875 C 6.203125 -1.925781 5.953125 -1.25 5.453125 -0.65625 C 4.960938 -0.0703125 4.257812 0.21875 3.34375 0.21875 C 2.550781 0.21875 1.867188 -0.078125 1.296875 -0.671875 C 0.734375 -1.273438 0.453125 -2.28125 0.453125 -3.6875 C 0.453125 -4.726562 0.578125 -5.613281 0.828125 -6.34375 C 1.316406 -7.726562 2.210938 -8.421875 3.515625 -8.421875 Z M 3.4375 -0.71875 C 3.988281 -0.71875 4.398438 -0.90625 4.671875 -1.28125 C 4.953125 -1.65625 5.09375 -2.097656 5.09375 -2.609375 C 5.09375 -3.035156 4.96875 -3.441406 4.71875 -3.828125 C 4.476562 -4.210938 4.03125 -4.40625 3.375 -4.40625 C 2.925781 -4.40625 2.53125 -4.253906 2.1875 -3.953125 C 1.84375 -3.660156 1.671875 -3.210938 1.671875 -2.609375 C 1.671875 -2.078125 1.828125 -1.628906 2.140625 -1.265625 C 2.453125 -0.898438 2.882812 -0.71875 3.4375 -0.71875 Z \"/>\n",
       "</symbol>\n",
       "<symbol overflow=\"visible\" id=\"glyph0-4\">\n",
       "<path style=\"stroke:none;\" d=\"M 3.265625 -4.875 C 3.734375 -4.875 4.097656 -5.003906 4.359375 -5.265625 C 4.617188 -5.523438 4.75 -5.832031 4.75 -6.1875 C 4.75 -6.5 4.625 -6.785156 4.375 -7.046875 C 4.125 -7.316406 3.742188 -7.453125 3.234375 -7.453125 C 2.722656 -7.453125 2.351562 -7.316406 2.125 -7.046875 C 1.894531 -6.785156 1.78125 -6.484375 1.78125 -6.140625 C 1.78125 -5.742188 1.925781 -5.429688 2.21875 -5.203125 C 2.519531 -4.984375 2.867188 -4.875 3.265625 -4.875 Z M 3.328125 -0.71875 C 3.816406 -0.71875 4.222656 -0.847656 4.546875 -1.109375 C 4.867188 -1.378906 5.03125 -1.773438 5.03125 -2.296875 C 5.03125 -2.835938 4.863281 -3.25 4.53125 -3.53125 C 4.195312 -3.8125 3.769531 -3.953125 3.25 -3.953125 C 2.75 -3.953125 2.335938 -3.804688 2.015625 -3.515625 C 1.703125 -3.234375 1.546875 -2.835938 1.546875 -2.328125 C 1.546875 -1.890625 1.691406 -1.507812 1.984375 -1.1875 C 2.273438 -0.875 2.722656 -0.71875 3.328125 -0.71875 Z M 1.828125 -4.46875 C 1.535156 -4.59375 1.304688 -4.738281 1.140625 -4.90625 C 0.835938 -5.21875 0.6875 -5.625 0.6875 -6.125 C 0.6875 -6.75 0.910156 -7.285156 1.359375 -7.734375 C 1.816406 -8.191406 2.457031 -8.421875 3.28125 -8.421875 C 4.09375 -8.421875 4.722656 -8.207031 5.171875 -7.78125 C 5.628906 -7.351562 5.859375 -6.859375 5.859375 -6.296875 C 5.859375 -5.773438 5.726562 -5.347656 5.46875 -5.015625 C 5.320312 -4.835938 5.09375 -4.660156 4.78125 -4.484375 C 5.125 -4.328125 5.394531 -4.144531 5.59375 -3.9375 C 5.96875 -3.539062 6.15625 -3.03125 6.15625 -2.40625 C 6.15625 -1.664062 5.90625 -1.039062 5.40625 -0.53125 C 4.914062 -0.0195312 4.21875 0.234375 3.3125 0.234375 C 2.488281 0.234375 1.796875 0.015625 1.234375 -0.421875 C 0.671875 -0.867188 0.390625 -1.515625 0.390625 -2.359375 C 0.390625 -2.847656 0.507812 -3.273438 0.75 -3.640625 C 0.988281 -4.003906 1.347656 -4.28125 1.828125 -4.46875 Z \"/>\n",
       "</symbol>\n",
       "<symbol overflow=\"visible\" id=\"glyph0-5\">\n",
       "<path style=\"stroke:none;\" d=\"M 1.15625 -5.9375 L 1.15625 -6.75 C 1.914062 -6.820312 2.441406 -6.945312 2.734375 -7.125 C 3.035156 -7.300781 3.265625 -7.710938 3.421875 -8.359375 L 4.25 -8.359375 L 4.25 0 L 3.125 0 L 3.125 -5.9375 Z \"/>\n",
       "</symbol>\n",
       "<symbol overflow=\"visible\" id=\"glyph0-6\">\n",
       "<path style=\"stroke:none;\" d=\"M 3.25 -8.390625 C 4.332031 -8.390625 5.117188 -7.941406 5.609375 -7.046875 C 5.984375 -6.359375 6.171875 -5.410156 6.171875 -4.203125 C 6.171875 -3.066406 6 -2.125 5.65625 -1.375 C 5.164062 -0.300781 4.359375 0.234375 3.234375 0.234375 C 2.234375 0.234375 1.484375 -0.203125 0.984375 -1.078125 C 0.578125 -1.816406 0.375 -2.800781 0.375 -4.03125 C 0.375 -4.976562 0.5 -5.796875 0.75 -6.484375 C 1.207031 -7.753906 2.039062 -8.390625 3.25 -8.390625 Z M 3.234375 -0.734375 C 3.785156 -0.734375 4.222656 -0.972656 4.546875 -1.453125 C 4.867188 -1.941406 5.03125 -2.847656 5.03125 -4.171875 C 5.03125 -5.117188 4.910156 -5.898438 4.671875 -6.515625 C 4.441406 -7.128906 3.988281 -7.4375 3.3125 -7.4375 C 2.6875 -7.4375 2.226562 -7.144531 1.9375 -6.5625 C 1.65625 -5.976562 1.515625 -5.117188 1.515625 -3.984375 C 1.515625 -3.128906 1.609375 -2.441406 1.796875 -1.921875 C 2.078125 -1.128906 2.554688 -0.734375 3.234375 -0.734375 Z \"/>\n",
       "</symbol>\n",
       "<symbol overflow=\"visible\" id=\"glyph0-7\">\n",
       "<path style=\"stroke:none;\" d=\"M 1.4375 -3.0625 C 1.4375 -2.394531 1.578125 -1.832031 1.859375 -1.375 C 2.148438 -0.925781 2.609375 -0.703125 3.234375 -0.703125 C 3.722656 -0.703125 4.125 -0.910156 4.4375 -1.328125 C 4.757812 -1.742188 4.921875 -2.347656 4.921875 -3.140625 C 4.921875 -3.929688 4.753906 -4.515625 4.421875 -4.890625 C 4.097656 -5.273438 3.703125 -5.46875 3.234375 -5.46875 C 2.703125 -5.46875 2.269531 -5.265625 1.9375 -4.859375 C 1.601562 -4.453125 1.4375 -3.851562 1.4375 -3.0625 Z M 3.03125 -6.390625 C 3.507812 -6.390625 3.910156 -6.285156 4.234375 -6.078125 C 4.421875 -5.960938 4.632812 -5.757812 4.875 -5.46875 L 4.875 -8.640625 L 5.890625 -8.640625 L 5.890625 0 L 4.9375 0 L 4.9375 -0.875 C 4.695312 -0.488281 4.40625 -0.207031 4.0625 -0.03125 C 3.726562 0.132812 3.34375 0.21875 2.90625 0.21875 C 2.207031 0.21875 1.601562 -0.0703125 1.09375 -0.65625 C 0.582031 -1.25 0.328125 -2.03125 0.328125 -3 C 0.328125 -3.914062 0.5625 -4.707031 1.03125 -5.375 C 1.5 -6.050781 2.164062 -6.390625 3.03125 -6.390625 Z \"/>\n",
       "</symbol>\n",
       "<symbol overflow=\"visible\" id=\"glyph1-0\">\n",
       "<path style=\"stroke:none;\" d=\"M 0 -0.390625 L -8.609375 -0.390625 L -8.609375 -7.21875 L 0 -7.21875 Z M -1.078125 -6.140625 L -7.53125 -6.140625 L -7.53125 -1.46875 L -1.078125 -1.46875 Z \"/>\n",
       "</symbol>\n",
       "<symbol overflow=\"visible\" id=\"glyph1-1\">\n",
       "<path style=\"stroke:none;\" d=\"M -8.390625 -3.25 C -8.390625 -4.332031 -7.941406 -5.117188 -7.046875 -5.609375 C -6.359375 -5.984375 -5.410156 -6.171875 -4.203125 -6.171875 C -3.066406 -6.171875 -2.125 -6 -1.375 -5.65625 C -0.300781 -5.164062 0.234375 -4.359375 0.234375 -3.234375 C 0.234375 -2.234375 -0.203125 -1.484375 -1.078125 -0.984375 C -1.816406 -0.578125 -2.800781 -0.375 -4.03125 -0.375 C -4.976562 -0.375 -5.796875 -0.5 -6.484375 -0.75 C -7.753906 -1.207031 -8.390625 -2.039062 -8.390625 -3.25 Z M -0.734375 -3.234375 C -0.734375 -3.785156 -0.972656 -4.222656 -1.453125 -4.546875 C -1.941406 -4.867188 -2.847656 -5.03125 -4.171875 -5.03125 C -5.117188 -5.03125 -5.898438 -4.910156 -6.515625 -4.671875 C -7.128906 -4.441406 -7.4375 -3.988281 -7.4375 -3.3125 C -7.4375 -2.6875 -7.144531 -2.226562 -6.5625 -1.9375 C -5.976562 -1.65625 -5.117188 -1.515625 -3.984375 -1.515625 C -3.128906 -1.515625 -2.441406 -1.609375 -1.921875 -1.796875 C -1.128906 -2.078125 -0.734375 -2.554688 -0.734375 -3.234375 Z \"/>\n",
       "</symbol>\n",
       "<symbol overflow=\"visible\" id=\"glyph1-2\">\n",
       "<path style=\"stroke:none;\" d=\"M 0 -0.375 C -0.71875 -0.414062 -1.34375 -0.566406 -1.875 -0.828125 C -2.414062 -1.085938 -2.90625 -1.59375 -3.34375 -2.34375 L -4 -3.46875 C -4.289062 -3.96875 -4.539062 -4.320312 -4.75 -4.53125 C -5.070312 -4.851562 -5.441406 -5.015625 -5.859375 -5.015625 C -6.347656 -5.015625 -6.734375 -4.863281 -7.015625 -4.5625 C -7.304688 -4.269531 -7.453125 -3.882812 -7.453125 -3.40625 C -7.453125 -2.675781 -7.179688 -2.175781 -6.640625 -1.90625 C -6.335938 -1.75 -5.929688 -1.664062 -5.421875 -1.65625 L -5.421875 -0.578125 C -6.148438 -0.585938 -6.742188 -0.722656 -7.203125 -0.984375 C -8.015625 -1.441406 -8.421875 -2.25 -8.421875 -3.40625 C -8.421875 -4.363281 -8.160156 -5.0625 -7.640625 -5.5 C -7.117188 -5.945312 -6.539062 -6.171875 -5.90625 -6.171875 C -5.238281 -6.171875 -4.664062 -5.9375 -4.1875 -5.46875 C -3.90625 -5.195312 -3.566406 -4.707031 -3.171875 -4 L -2.734375 -3.1875 C -2.523438 -2.8125 -2.320312 -2.515625 -2.125 -2.296875 C -1.789062 -1.898438 -1.414062 -1.648438 -1 -1.546875 L -1 -6.140625 L 0 -6.140625 Z \"/>\n",
       "</symbol>\n",
       "<symbol overflow=\"visible\" id=\"glyph1-3\">\n",
       "<path style=\"stroke:none;\" d=\"M -2.96875 -3.96875 L -6.78125 -3.96875 L -2.96875 -1.28125 Z M 0 -3.984375 L -2.046875 -3.984375 L -2.046875 -0.3125 L -3.078125 -0.3125 L -8.421875 -4.15625 L -8.421875 -5.046875 L -2.96875 -5.046875 L -2.96875 -6.28125 L -2.046875 -6.28125 L -2.046875 -5.046875 L 0 -5.046875 Z \"/>\n",
       "</symbol>\n",
       "<symbol overflow=\"visible\" id=\"glyph1-4\">\n",
       "<path style=\"stroke:none;\" d=\"M -8.421875 -3.515625 C -8.421875 -4.453125 -8.175781 -5.101562 -7.6875 -5.46875 C -7.207031 -5.84375 -6.707031 -6.03125 -6.1875 -6.03125 L -6.1875 -4.984375 C -6.519531 -4.921875 -6.78125 -4.820312 -6.96875 -4.6875 C -7.320312 -4.425781 -7.5 -4.039062 -7.5 -3.53125 C -7.5 -2.9375 -7.222656 -2.460938 -6.671875 -2.109375 C -6.128906 -1.765625 -5.351562 -1.578125 -4.34375 -1.546875 C -4.695312 -1.785156 -4.960938 -2.085938 -5.140625 -2.453125 C -5.296875 -2.785156 -5.375 -3.160156 -5.375 -3.578125 C -5.375 -4.285156 -5.148438 -4.898438 -4.703125 -5.421875 C -4.253906 -5.941406 -3.582031 -6.203125 -2.6875 -6.203125 C -1.925781 -6.203125 -1.25 -5.953125 -0.65625 -5.453125 C -0.0703125 -4.960938 0.21875 -4.257812 0.21875 -3.34375 C 0.21875 -2.550781 -0.078125 -1.867188 -0.671875 -1.296875 C -1.273438 -0.734375 -2.28125 -0.453125 -3.6875 -0.453125 C -4.726562 -0.453125 -5.613281 -0.578125 -6.34375 -0.828125 C -7.726562 -1.316406 -8.421875 -2.210938 -8.421875 -3.515625 Z M -0.71875 -3.4375 C -0.71875 -3.988281 -0.90625 -4.398438 -1.28125 -4.671875 C -1.65625 -4.953125 -2.097656 -5.09375 -2.609375 -5.09375 C -3.035156 -5.09375 -3.441406 -4.96875 -3.828125 -4.71875 C -4.210938 -4.476562 -4.40625 -4.03125 -4.40625 -3.375 C -4.40625 -2.925781 -4.253906 -2.53125 -3.953125 -2.1875 C -3.660156 -1.84375 -3.210938 -1.671875 -2.609375 -1.671875 C -2.078125 -1.671875 -1.628906 -1.828125 -1.265625 -2.140625 C -0.898438 -2.453125 -0.71875 -2.882812 -0.71875 -3.4375 Z \"/>\n",
       "</symbol>\n",
       "<symbol overflow=\"visible\" id=\"glyph1-5\">\n",
       "<path style=\"stroke:none;\" d=\"M -4.875 -3.265625 C -4.875 -3.734375 -5.003906 -4.097656 -5.265625 -4.359375 C -5.523438 -4.617188 -5.832031 -4.75 -6.1875 -4.75 C -6.5 -4.75 -6.785156 -4.625 -7.046875 -4.375 C -7.316406 -4.125 -7.453125 -3.742188 -7.453125 -3.234375 C -7.453125 -2.722656 -7.316406 -2.351562 -7.046875 -2.125 C -6.785156 -1.894531 -6.484375 -1.78125 -6.140625 -1.78125 C -5.742188 -1.78125 -5.429688 -1.925781 -5.203125 -2.21875 C -4.984375 -2.519531 -4.875 -2.867188 -4.875 -3.265625 Z M -0.71875 -3.328125 C -0.71875 -3.816406 -0.847656 -4.222656 -1.109375 -4.546875 C -1.378906 -4.867188 -1.773438 -5.03125 -2.296875 -5.03125 C -2.835938 -5.03125 -3.25 -4.863281 -3.53125 -4.53125 C -3.8125 -4.195312 -3.953125 -3.769531 -3.953125 -3.25 C -3.953125 -2.75 -3.804688 -2.335938 -3.515625 -2.015625 C -3.234375 -1.703125 -2.835938 -1.546875 -2.328125 -1.546875 C -1.890625 -1.546875 -1.507812 -1.691406 -1.1875 -1.984375 C -0.875 -2.273438 -0.71875 -2.722656 -0.71875 -3.328125 Z M -4.46875 -1.828125 C -4.59375 -1.535156 -4.738281 -1.304688 -4.90625 -1.140625 C -5.21875 -0.835938 -5.625 -0.6875 -6.125 -0.6875 C -6.75 -0.6875 -7.285156 -0.910156 -7.734375 -1.359375 C -8.191406 -1.816406 -8.421875 -2.457031 -8.421875 -3.28125 C -8.421875 -4.09375 -8.207031 -4.722656 -7.78125 -5.171875 C -7.351562 -5.628906 -6.859375 -5.859375 -6.296875 -5.859375 C -5.773438 -5.859375 -5.347656 -5.726562 -5.015625 -5.46875 C -4.835938 -5.320312 -4.660156 -5.09375 -4.484375 -4.78125 C -4.328125 -5.125 -4.144531 -5.394531 -3.9375 -5.59375 C -3.539062 -5.96875 -3.03125 -6.15625 -2.40625 -6.15625 C -1.664062 -6.15625 -1.039062 -5.90625 -0.53125 -5.40625 C -0.0195312 -4.914062 0.234375 -4.21875 0.234375 -3.3125 C 0.234375 -2.488281 0.015625 -1.796875 -0.421875 -1.234375 C -0.867188 -0.671875 -1.515625 -0.390625 -2.359375 -0.390625 C -2.847656 -0.390625 -3.273438 -0.507812 -3.640625 -0.75 C -4.003906 -0.988281 -4.28125 -1.347656 -4.46875 -1.828125 Z \"/>\n",
       "</symbol>\n",
       "<symbol overflow=\"visible\" id=\"glyph1-6\">\n",
       "<path style=\"stroke:none;\" d=\"M -5.9375 -1.15625 L -6.75 -1.15625 C -6.820312 -1.914062 -6.945312 -2.441406 -7.125 -2.734375 C -7.300781 -3.035156 -7.710938 -3.265625 -8.359375 -3.421875 L -8.359375 -4.25 L 0 -4.25 L 0 -3.125 L -5.9375 -3.125 Z \"/>\n",
       "</symbol>\n",
       "<symbol overflow=\"visible\" id=\"glyph1-7\">\n",
       "<path style=\"stroke:none;\" d=\"M -6.28125 -1.296875 L -1.171875 -2.96875 L -6.28125 -4.71875 L -6.28125 -5.875 L 0 -3.5 L 0 -2.375 L -6.28125 -0.0625 Z \"/>\n",
       "</symbol>\n",
       "<symbol overflow=\"visible\" id=\"glyph1-8\">\n",
       "<path style=\"stroke:none;\" d=\"M -0.6875 -3.265625 C -0.6875 -3.960938 -0.945312 -4.441406 -1.46875 -4.703125 C -2 -4.960938 -2.585938 -5.09375 -3.234375 -5.09375 C -3.828125 -5.09375 -4.304688 -5 -4.671875 -4.8125 C -5.242188 -4.507812 -5.53125 -4 -5.53125 -3.28125 C -5.53125 -2.632812 -5.285156 -2.164062 -4.796875 -1.875 C -4.304688 -1.582031 -3.710938 -1.4375 -3.015625 -1.4375 C -2.347656 -1.4375 -1.789062 -1.582031 -1.34375 -1.875 C -0.90625 -2.164062 -0.6875 -2.628906 -0.6875 -3.265625 Z M -6.453125 -3.3125 C -6.453125 -4.113281 -6.179688 -4.789062 -5.640625 -5.34375 C -5.109375 -5.90625 -4.316406 -6.1875 -3.265625 -6.1875 C -2.253906 -6.1875 -1.414062 -5.941406 -0.75 -5.453125 C -0.09375 -4.960938 0.234375 -4.203125 0.234375 -3.171875 C 0.234375 -2.304688 -0.0546875 -1.617188 -0.640625 -1.109375 C -1.234375 -0.597656 -2.019531 -0.34375 -3 -0.34375 C -4.050781 -0.34375 -4.890625 -0.609375 -5.515625 -1.140625 C -6.140625 -1.679688 -6.453125 -2.40625 -6.453125 -3.3125 Z M -6.421875 -3.265625 Z \"/>\n",
       "</symbol>\n",
       "<symbol overflow=\"visible\" id=\"glyph1-9\">\n",
       "<path style=\"stroke:none;\" d=\"M -8.609375 -0.796875 L -8.609375 -1.859375 L 0 -1.859375 L 0 -0.796875 Z \"/>\n",
       "</symbol>\n",
       "<symbol overflow=\"visible\" id=\"glyph1-10\">\n",
       "<path style=\"stroke:none;\" d=\"M -6.28125 -1.828125 L -2.109375 -1.828125 C -1.785156 -1.828125 -1.523438 -1.878906 -1.328125 -1.984375 C -0.953125 -2.171875 -0.765625 -2.519531 -0.765625 -3.03125 C -0.765625 -3.757812 -1.09375 -4.257812 -1.75 -4.53125 C -2.101562 -4.675781 -2.582031 -4.75 -3.1875 -4.75 L -6.28125 -4.75 L -6.28125 -5.796875 L 0 -5.796875 L 0 -4.8125 L -0.921875 -4.8125 C -0.679688 -4.675781 -0.484375 -4.507812 -0.328125 -4.3125 C 0.00390625 -3.90625 0.171875 -3.414062 0.171875 -2.84375 C 0.171875 -1.945312 -0.128906 -1.335938 -0.734375 -1.015625 C -1.046875 -0.835938 -1.472656 -0.75 -2.015625 -0.75 L -6.28125 -0.75 Z M -6.421875 -3.28125 Z \"/>\n",
       "</symbol>\n",
       "<symbol overflow=\"visible\" id=\"glyph1-11\">\n",
       "<path style=\"stroke:none;\" d=\"M -6.28125 -0.78125 L -6.28125 -1.8125 L -5.390625 -1.8125 C -5.691406 -2.0625 -5.914062 -2.289062 -6.0625 -2.5 C -6.300781 -2.84375 -6.421875 -3.238281 -6.421875 -3.6875 C -6.421875 -4.1875 -6.296875 -4.585938 -6.046875 -4.890625 C -5.910156 -5.054688 -5.703125 -5.210938 -5.421875 -5.359375 C -5.765625 -5.585938 -6.015625 -5.859375 -6.171875 -6.171875 C -6.335938 -6.492188 -6.421875 -6.851562 -6.421875 -7.25 C -6.421875 -8.09375 -6.113281 -8.664062 -5.5 -8.96875 C -5.175781 -9.132812 -4.734375 -9.21875 -4.171875 -9.21875 L 0 -9.21875 L 0 -8.125 L -4.359375 -8.125 C -4.773438 -8.125 -5.0625 -8.019531 -5.21875 -7.8125 C -5.375 -7.601562 -5.453125 -7.347656 -5.453125 -7.046875 C -5.453125 -6.628906 -5.3125 -6.269531 -5.03125 -5.96875 C -4.757812 -5.675781 -4.300781 -5.53125 -3.65625 -5.53125 L 0 -5.53125 L 0 -4.453125 L -4.09375 -4.453125 C -4.519531 -4.453125 -4.832031 -4.398438 -5.03125 -4.296875 C -5.320312 -4.140625 -5.46875 -3.84375 -5.46875 -3.40625 C -5.46875 -3.007812 -5.3125 -2.644531 -5 -2.3125 C -4.695312 -1.988281 -4.140625 -1.828125 -3.328125 -1.828125 L 0 -1.828125 L 0 -0.78125 Z \"/>\n",
       "</symbol>\n",
       "<symbol overflow=\"visible\" id=\"glyph1-12\">\n",
       "<path style=\"stroke:none;\" d=\"M -6.421875 -3.390625 C -6.421875 -3.835938 -6.316406 -4.269531 -6.109375 -4.6875 C -5.898438 -5.101562 -5.628906 -5.421875 -5.296875 -5.640625 C -4.972656 -5.847656 -4.601562 -5.988281 -4.1875 -6.0625 C -3.894531 -6.125 -3.429688 -6.15625 -2.796875 -6.15625 L -2.796875 -1.546875 C -2.160156 -1.566406 -1.648438 -1.71875 -1.265625 -2 C -0.878906 -2.28125 -0.6875 -2.71875 -0.6875 -3.3125 C -0.6875 -3.863281 -0.867188 -4.300781 -1.234375 -4.625 C -1.441406 -4.8125 -1.6875 -4.945312 -1.96875 -5.03125 L -1.96875 -6.0625 C -1.738281 -6.039062 -1.484375 -5.953125 -1.203125 -5.796875 C -0.921875 -5.640625 -0.6875 -5.46875 -0.5 -5.28125 C -0.1875 -4.957031 0.0195312 -4.554688 0.125 -4.078125 C 0.1875 -3.828125 0.21875 -3.539062 0.21875 -3.21875 C 0.21875 -2.4375 -0.0625 -1.773438 -0.625 -1.234375 C -1.195312 -0.691406 -1.992188 -0.421875 -3.015625 -0.421875 C -4.023438 -0.421875 -4.84375 -0.691406 -5.46875 -1.234375 C -6.101562 -1.785156 -6.421875 -2.503906 -6.421875 -3.390625 Z M -3.640625 -5.0625 C -4.097656 -5.019531 -4.460938 -4.921875 -4.734375 -4.765625 C -5.242188 -4.484375 -5.5 -4.003906 -5.5 -3.328125 C -5.5 -2.835938 -5.320312 -2.425781 -4.96875 -2.09375 C -4.625 -1.769531 -4.179688 -1.597656 -3.640625 -1.578125 Z M -6.421875 -3.28125 Z \"/>\n",
       "</symbol>\n",
       "</g>\n",
       "<clipPath id=\"clip1\">\n",
       "  <path d=\"M 213 59.039062 L 244 59.039062 L 244 151 L 213 151 Z \"/>\n",
       "</clipPath>\n",
       "</defs>\n",
       "<g id=\"surface256\">\n",
       "<rect x=\"0\" y=\"0\" width=\"720\" height=\"576\" style=\"fill:rgb(100%,100%,100%);fill-opacity:1;stroke:none;\"/>\n",
       "<path style=\"fill:none;stroke-width:0.75;stroke-linecap:round;stroke-linejoin:round;stroke:rgb(100%,0%,0%);stroke-opacity:1;stroke-miterlimit:10;\" d=\"M 86.863281 398.351562 L 142.824219 327.515625 \"/>\n",
       "<path style=\"fill:none;stroke-width:0.75;stroke-linecap:round;stroke-linejoin:round;stroke:rgb(100%,0%,0%);stroke-opacity:1;stroke-miterlimit:10;\" d=\"M 149.933594 315.171875 L 209.53125 164.296875 \"/>\n",
       "<g clip-path=\"url(#clip1)\" clip-rule=\"nonzero\">\n",
       "<path style=\"fill:none;stroke-width:0.75;stroke-linecap:round;stroke-linejoin:round;stroke:rgb(100%,0%,0%);stroke-opacity:1;stroke-miterlimit:10;\" d=\"M 213.574219 150.535156 L 243.304688 0 \"/>\n",
       "</g>\n",
       "<path style=\" stroke:none;fill-rule:nonzero;fill:rgb(100%,0%,0%);fill-opacity:1;\" d=\"M 79.699219 404 L 82.398438 401.300781 L 85.101562 404 L 82.398438 406.699219 Z \"/>\n",
       "<path style=\" stroke:none;fill-rule:nonzero;fill:rgb(100%,0%,0%);fill-opacity:1;\" d=\"M 144.589844 321.867188 L 147.289062 319.167969 L 149.988281 321.867188 L 147.289062 324.566406 Z \"/>\n",
       "<path style=\" stroke:none;fill-rule:nonzero;fill:rgb(100%,0%,0%);fill-opacity:1;\" d=\"M 209.476562 157.601562 L 212.179688 154.898438 L 214.878906 157.601562 L 212.179688 160.300781 Z \"/>\n",
       "<path style=\"fill:none;stroke-width:0.75;stroke-linecap:round;stroke-linejoin:round;stroke:rgb(0%,0%,0%);stroke-opacity:1;stroke-miterlimit:10;\" d=\"M 147.289062 502.558594 L 666.398438 502.558594 \"/>\n",
       "<path style=\"fill:none;stroke-width:0.75;stroke-linecap:round;stroke-linejoin:round;stroke:rgb(0%,0%,0%);stroke-opacity:1;stroke-miterlimit:10;\" d=\"M 147.289062 502.558594 L 147.289062 509.761719 \"/>\n",
       "<path style=\"fill:none;stroke-width:0.75;stroke-linecap:round;stroke-linejoin:round;stroke:rgb(0%,0%,0%);stroke-opacity:1;stroke-miterlimit:10;\" d=\"M 277.066406 502.558594 L 277.066406 509.761719 \"/>\n",
       "<path style=\"fill:none;stroke-width:0.75;stroke-linecap:round;stroke-linejoin:round;stroke:rgb(0%,0%,0%);stroke-opacity:1;stroke-miterlimit:10;\" d=\"M 406.84375 502.558594 L 406.84375 509.761719 \"/>\n",
       "<path style=\"fill:none;stroke-width:0.75;stroke-linecap:round;stroke-linejoin:round;stroke:rgb(0%,0%,0%);stroke-opacity:1;stroke-miterlimit:10;\" d=\"M 536.621094 502.558594 L 536.621094 509.761719 \"/>\n",
       "<path style=\"fill:none;stroke-width:0.75;stroke-linecap:round;stroke-linejoin:round;stroke:rgb(0%,0%,0%);stroke-opacity:1;stroke-miterlimit:10;\" d=\"M 666.398438 502.558594 L 666.398438 509.761719 \"/>\n",
       "<g style=\"fill:rgb(0%,0%,0%);fill-opacity:1;\">\n",
       "  <use xlink:href=\"#glyph0-1\" x=\"143.953125\" y=\"528.480469\"/>\n",
       "</g>\n",
       "<g style=\"fill:rgb(0%,0%,0%);fill-opacity:1;\">\n",
       "  <use xlink:href=\"#glyph0-2\" x=\"273.730469\" y=\"528.480469\"/>\n",
       "</g>\n",
       "<g style=\"fill:rgb(0%,0%,0%);fill-opacity:1;\">\n",
       "  <use xlink:href=\"#glyph0-3\" x=\"403.507812\" y=\"528.480469\"/>\n",
       "</g>\n",
       "<g style=\"fill:rgb(0%,0%,0%);fill-opacity:1;\">\n",
       "  <use xlink:href=\"#glyph0-4\" x=\"533.285156\" y=\"528.480469\"/>\n",
       "</g>\n",
       "<g style=\"fill:rgb(0%,0%,0%);fill-opacity:1;\">\n",
       "  <use xlink:href=\"#glyph0-5\" x=\"659.726562\" y=\"528.480469\"/>\n",
       "  <use xlink:href=\"#glyph0-6\" x=\"666.400391\" y=\"528.480469\"/>\n",
       "</g>\n",
       "<path style=\"fill:none;stroke-width:0.75;stroke-linecap:round;stroke-linejoin:round;stroke:rgb(0%,0%,0%);stroke-opacity:1;stroke-miterlimit:10;\" d=\"M 59.039062 486.132812 L 59.039062 75.464844 \"/>\n",
       "<path style=\"fill:none;stroke-width:0.75;stroke-linecap:round;stroke-linejoin:round;stroke:rgb(0%,0%,0%);stroke-opacity:1;stroke-miterlimit:10;\" d=\"M 59.039062 486.132812 L 51.839844 486.132812 \"/>\n",
       "<path style=\"fill:none;stroke-width:0.75;stroke-linecap:round;stroke-linejoin:round;stroke:rgb(0%,0%,0%);stroke-opacity:1;stroke-miterlimit:10;\" d=\"M 59.039062 404 L 51.839844 404 \"/>\n",
       "<path style=\"fill:none;stroke-width:0.75;stroke-linecap:round;stroke-linejoin:round;stroke:rgb(0%,0%,0%);stroke-opacity:1;stroke-miterlimit:10;\" d=\"M 59.039062 321.867188 L 51.839844 321.867188 \"/>\n",
       "<path style=\"fill:none;stroke-width:0.75;stroke-linecap:round;stroke-linejoin:round;stroke:rgb(0%,0%,0%);stroke-opacity:1;stroke-miterlimit:10;\" d=\"M 59.039062 239.734375 L 51.839844 239.734375 \"/>\n",
       "<path style=\"fill:none;stroke-width:0.75;stroke-linecap:round;stroke-linejoin:round;stroke:rgb(0%,0%,0%);stroke-opacity:1;stroke-miterlimit:10;\" d=\"M 59.039062 157.601562 L 51.839844 157.601562 \"/>\n",
       "<path style=\"fill:none;stroke-width:0.75;stroke-linecap:round;stroke-linejoin:round;stroke:rgb(0%,0%,0%);stroke-opacity:1;stroke-miterlimit:10;\" d=\"M 59.039062 75.464844 L 51.839844 75.464844 \"/>\n",
       "<g style=\"fill:rgb(0%,0%,0%);fill-opacity:1;\">\n",
       "  <use xlink:href=\"#glyph1-1\" x=\"41.761719\" y=\"489.46875\"/>\n",
       "</g>\n",
       "<g style=\"fill:rgb(0%,0%,0%);fill-opacity:1;\">\n",
       "  <use xlink:href=\"#glyph1-2\" x=\"41.761719\" y=\"407.335938\"/>\n",
       "</g>\n",
       "<g style=\"fill:rgb(0%,0%,0%);fill-opacity:1;\">\n",
       "  <use xlink:href=\"#glyph1-3\" x=\"41.761719\" y=\"325.203125\"/>\n",
       "</g>\n",
       "<g style=\"fill:rgb(0%,0%,0%);fill-opacity:1;\">\n",
       "  <use xlink:href=\"#glyph1-4\" x=\"41.761719\" y=\"243.070312\"/>\n",
       "</g>\n",
       "<g style=\"fill:rgb(0%,0%,0%);fill-opacity:1;\">\n",
       "  <use xlink:href=\"#glyph1-5\" x=\"41.761719\" y=\"160.9375\"/>\n",
       "</g>\n",
       "<g style=\"fill:rgb(0%,0%,0%);fill-opacity:1;\">\n",
       "  <use xlink:href=\"#glyph1-6\" x=\"41.761719\" y=\"82.136719\"/>\n",
       "  <use xlink:href=\"#glyph1-1\" x=\"41.761719\" y=\"75.462891\"/>\n",
       "</g>\n",
       "<path style=\"fill:none;stroke-width:0.75;stroke-linecap:round;stroke-linejoin:round;stroke:rgb(0%,0%,0%);stroke-opacity:1;stroke-miterlimit:10;\" d=\"M 59.039062 502.558594 L 689.761719 502.558594 L 689.761719 59.039062 L 59.039062 59.039062 L 59.039062 502.558594 \"/>\n",
       "<g style=\"fill:rgb(0%,0%,0%);fill-opacity:1;\">\n",
       "  <use xlink:href=\"#glyph0-7\" x=\"371.0625\" y=\"557.28125\"/>\n",
       "</g>\n",
       "<g style=\"fill:rgb(0%,0%,0%);fill-opacity:1;\">\n",
       "  <use xlink:href=\"#glyph1-7\" x=\"12.960938\" y=\"300.144531\"/>\n",
       "  <use xlink:href=\"#glyph1-8\" x=\"12.960938\" y=\"294.144531\"/>\n",
       "  <use xlink:href=\"#glyph1-9\" x=\"12.960938\" y=\"287.470703\"/>\n",
       "  <use xlink:href=\"#glyph1-10\" x=\"12.960938\" y=\"284.804688\"/>\n",
       "  <use xlink:href=\"#glyph1-11\" x=\"12.960938\" y=\"278.130859\"/>\n",
       "  <use xlink:href=\"#glyph1-12\" x=\"12.960938\" y=\"268.134766\"/>\n",
       "</g>\n",
       "<path style=\"fill:none;stroke-width:0.75;stroke-linecap:round;stroke-linejoin:round;stroke:rgb(0%,0%,100%);stroke-opacity:1;stroke-miterlimit:10;\" d=\"M 88.234375 399.785156 L 141.453125 361.335938 \"/>\n",
       "<path style=\"fill:none;stroke-width:0.75;stroke-linecap:round;stroke-linejoin:round;stroke:rgb(0%,0%,100%);stroke-opacity:1;stroke-miterlimit:10;\" d=\"M 153.289062 353.140625 L 206.175781 318.089844 \"/>\n",
       "<path style=\"fill:none;stroke-width:0.75;stroke-linecap:round;stroke-linejoin:round;stroke:rgb(0%,0%,100%);stroke-opacity:1;stroke-miterlimit:10;\" d=\"M 218.6875 311.039062 L 270.554688 286.550781 \"/>\n",
       "<path style=\"fill:none;stroke-width:0.75;stroke-linecap:round;stroke-linejoin:round;stroke:rgb(0%,0%,100%);stroke-opacity:1;stroke-miterlimit:10;\" d=\"M 284.117188 282.011719 L 334.90625 271.433594 \"/>\n",
       "<path style=\"fill:none;stroke-width:0.75;stroke-linecap:round;stroke-linejoin:round;stroke:rgb(0%,0%,100%);stroke-opacity:1;stroke-miterlimit:10;\" d=\"M 349.140625 270.402344 L 399.65625 273.476562 \"/>\n",
       "<path style=\"fill:none;stroke-width:0.75;stroke-linecap:round;stroke-linejoin:round;stroke:rgb(0%,0%,100%);stroke-opacity:1;stroke-miterlimit:10;\" d=\"M 413.777344 275.855469 L 464.800781 290.160156 \"/>\n",
       "<path style=\"fill:none;stroke-width:0.75;stroke-linecap:round;stroke-linejoin:round;stroke:rgb(0%,0%,100%);stroke-opacity:1;stroke-miterlimit:10;\" d=\"M 478.367188 294.898438 L 529.988281 316.660156 \"/>\n",
       "<path style=\"fill:none;stroke-width:0.75;stroke-linecap:round;stroke-linejoin:round;stroke:rgb(0%,0%,100%);stroke-opacity:1;stroke-miterlimit:10;\" d=\"M 543.109375 322.578125 L 595.023438 347.554688 \"/>\n",
       "<path style=\"fill:none;stroke-width:0.75;stroke-linecap:round;stroke-linejoin:round;stroke:rgb(0%,0%,100%);stroke-opacity:1;stroke-miterlimit:10;\" d=\"M 608.019531 353.757812 L 659.894531 378.324219 \"/>\n",
       "<path style=\"fill-rule:nonzero;fill:rgb(0%,0%,100%);fill-opacity:1;stroke-width:0.75;stroke-linecap:round;stroke-linejoin:round;stroke:rgb(0%,0%,100%);stroke-opacity:1;stroke-miterlimit:10;\" d=\"M 84.199219 404 C 84.199219 406.398438 80.601562 406.398438 80.601562 404 C 80.601562 401.601562 84.199219 401.601562 84.199219 404 \"/>\n",
       "<path style=\"fill-rule:nonzero;fill:rgb(0%,0%,100%);fill-opacity:1;stroke-width:0.75;stroke-linecap:round;stroke-linejoin:round;stroke:rgb(0%,0%,100%);stroke-opacity:1;stroke-miterlimit:10;\" d=\"M 149.089844 357.117188 C 149.089844 359.519531 145.488281 359.519531 145.488281 357.117188 C 145.488281 354.71875 149.089844 354.71875 149.089844 357.117188 \"/>\n",
       "<path style=\"fill-rule:nonzero;fill:rgb(0%,0%,100%);fill-opacity:1;stroke-width:0.75;stroke-linecap:round;stroke-linejoin:round;stroke:rgb(0%,0%,100%);stroke-opacity:1;stroke-miterlimit:10;\" d=\"M 213.976562 314.113281 C 213.976562 316.515625 210.378906 316.515625 210.378906 314.113281 C 210.378906 311.714844 213.976562 311.714844 213.976562 314.113281 \"/>\n",
       "<path style=\"fill-rule:nonzero;fill:rgb(0%,0%,100%);fill-opacity:1;stroke-width:0.75;stroke-linecap:round;stroke-linejoin:round;stroke:rgb(0%,0%,100%);stroke-opacity:1;stroke-miterlimit:10;\" d=\"M 278.867188 283.476562 C 278.867188 285.878906 275.265625 285.878906 275.265625 283.476562 C 275.265625 281.078125 278.867188 281.078125 278.867188 283.476562 \"/>\n",
       "<path style=\"fill-rule:nonzero;fill:rgb(0%,0%,100%);fill-opacity:1;stroke-width:0.75;stroke-linecap:round;stroke-linejoin:round;stroke:rgb(0%,0%,100%);stroke-opacity:1;stroke-miterlimit:10;\" d=\"M 343.753906 269.96875 C 343.753906 272.367188 340.15625 272.367188 340.15625 269.96875 C 340.15625 267.566406 343.753906 267.566406 343.753906 269.96875 \"/>\n",
       "<path style=\"fill-rule:nonzero;fill:rgb(0%,0%,100%);fill-opacity:1;stroke-width:0.75;stroke-linecap:round;stroke-linejoin:round;stroke:rgb(0%,0%,100%);stroke-opacity:1;stroke-miterlimit:10;\" d=\"M 408.644531 273.914062 C 408.644531 276.3125 405.042969 276.3125 405.042969 273.914062 C 405.042969 271.511719 408.644531 271.511719 408.644531 273.914062 \"/>\n",
       "<path style=\"fill-rule:nonzero;fill:rgb(0%,0%,100%);fill-opacity:1;stroke-width:0.75;stroke-linecap:round;stroke-linejoin:round;stroke:rgb(0%,0%,100%);stroke-opacity:1;stroke-miterlimit:10;\" d=\"M 473.535156 292.101562 C 473.535156 294.503906 469.933594 294.503906 469.933594 292.101562 C 469.933594 289.703125 473.535156 289.703125 473.535156 292.101562 \"/>\n",
       "<path style=\"fill-rule:nonzero;fill:rgb(0%,0%,100%);fill-opacity:1;stroke-width:0.75;stroke-linecap:round;stroke-linejoin:round;stroke:rgb(0%,0%,100%);stroke-opacity:1;stroke-miterlimit:10;\" d=\"M 538.421875 319.457031 C 538.421875 321.855469 534.820312 321.855469 534.820312 319.457031 C 534.820312 317.054688 538.421875 317.054688 538.421875 319.457031 \"/>\n",
       "<path style=\"fill-rule:nonzero;fill:rgb(0%,0%,100%);fill-opacity:1;stroke-width:0.75;stroke-linecap:round;stroke-linejoin:round;stroke:rgb(0%,0%,100%);stroke-opacity:1;stroke-miterlimit:10;\" d=\"M 603.3125 350.675781 C 603.3125 353.074219 599.710938 353.074219 599.710938 350.675781 C 599.710938 348.273438 603.3125 348.273438 603.3125 350.675781 \"/>\n",
       "<path style=\"fill-rule:nonzero;fill:rgb(0%,0%,100%);fill-opacity:1;stroke-width:0.75;stroke-linecap:round;stroke-linejoin:round;stroke:rgb(0%,0%,100%);stroke-opacity:1;stroke-miterlimit:10;\" d=\"M 668.199219 381.40625 C 668.199219 383.804688 664.601562 383.804688 664.601562 381.40625 C 664.601562 379.007812 668.199219 379.007812 668.199219 381.40625 \"/>\n",
       "<path style=\"fill:none;stroke-width:0.75;stroke-linecap:round;stroke-linejoin:round;stroke:rgb(0%,0%,0%);stroke-opacity:1;stroke-miterlimit:10;\" d=\"M 147.289062 502.558594 L 666.398438 502.558594 \"/>\n",
       "<path style=\"fill:none;stroke-width:0.75;stroke-linecap:round;stroke-linejoin:round;stroke:rgb(0%,0%,0%);stroke-opacity:1;stroke-miterlimit:10;\" d=\"M 147.289062 502.558594 L 147.289062 509.761719 \"/>\n",
       "<path style=\"fill:none;stroke-width:0.75;stroke-linecap:round;stroke-linejoin:round;stroke:rgb(0%,0%,0%);stroke-opacity:1;stroke-miterlimit:10;\" d=\"M 277.066406 502.558594 L 277.066406 509.761719 \"/>\n",
       "<path style=\"fill:none;stroke-width:0.75;stroke-linecap:round;stroke-linejoin:round;stroke:rgb(0%,0%,0%);stroke-opacity:1;stroke-miterlimit:10;\" d=\"M 406.84375 502.558594 L 406.84375 509.761719 \"/>\n",
       "<path style=\"fill:none;stroke-width:0.75;stroke-linecap:round;stroke-linejoin:round;stroke:rgb(0%,0%,0%);stroke-opacity:1;stroke-miterlimit:10;\" d=\"M 536.621094 502.558594 L 536.621094 509.761719 \"/>\n",
       "<path style=\"fill:none;stroke-width:0.75;stroke-linecap:round;stroke-linejoin:round;stroke:rgb(0%,0%,0%);stroke-opacity:1;stroke-miterlimit:10;\" d=\"M 666.398438 502.558594 L 666.398438 509.761719 \"/>\n",
       "<g style=\"fill:rgb(0%,0%,0%);fill-opacity:1;\">\n",
       "  <use xlink:href=\"#glyph0-1\" x=\"143.953125\" y=\"528.480469\"/>\n",
       "</g>\n",
       "<g style=\"fill:rgb(0%,0%,0%);fill-opacity:1;\">\n",
       "  <use xlink:href=\"#glyph0-2\" x=\"273.730469\" y=\"528.480469\"/>\n",
       "</g>\n",
       "<g style=\"fill:rgb(0%,0%,0%);fill-opacity:1;\">\n",
       "  <use xlink:href=\"#glyph0-3\" x=\"403.507812\" y=\"528.480469\"/>\n",
       "</g>\n",
       "<g style=\"fill:rgb(0%,0%,0%);fill-opacity:1;\">\n",
       "  <use xlink:href=\"#glyph0-4\" x=\"533.285156\" y=\"528.480469\"/>\n",
       "</g>\n",
       "<g style=\"fill:rgb(0%,0%,0%);fill-opacity:1;\">\n",
       "  <use xlink:href=\"#glyph0-5\" x=\"659.726562\" y=\"528.480469\"/>\n",
       "  <use xlink:href=\"#glyph0-6\" x=\"666.400391\" y=\"528.480469\"/>\n",
       "</g>\n",
       "<path style=\"fill:none;stroke-width:0.75;stroke-linecap:round;stroke-linejoin:round;stroke:rgb(0%,0%,0%);stroke-opacity:1;stroke-miterlimit:10;\" d=\"M 59.039062 486.132812 L 59.039062 75.464844 \"/>\n",
       "<path style=\"fill:none;stroke-width:0.75;stroke-linecap:round;stroke-linejoin:round;stroke:rgb(0%,0%,0%);stroke-opacity:1;stroke-miterlimit:10;\" d=\"M 59.039062 486.132812 L 51.839844 486.132812 \"/>\n",
       "<path style=\"fill:none;stroke-width:0.75;stroke-linecap:round;stroke-linejoin:round;stroke:rgb(0%,0%,0%);stroke-opacity:1;stroke-miterlimit:10;\" d=\"M 59.039062 404 L 51.839844 404 \"/>\n",
       "<path style=\"fill:none;stroke-width:0.75;stroke-linecap:round;stroke-linejoin:round;stroke:rgb(0%,0%,0%);stroke-opacity:1;stroke-miterlimit:10;\" d=\"M 59.039062 321.867188 L 51.839844 321.867188 \"/>\n",
       "<path style=\"fill:none;stroke-width:0.75;stroke-linecap:round;stroke-linejoin:round;stroke:rgb(0%,0%,0%);stroke-opacity:1;stroke-miterlimit:10;\" d=\"M 59.039062 239.734375 L 51.839844 239.734375 \"/>\n",
       "<path style=\"fill:none;stroke-width:0.75;stroke-linecap:round;stroke-linejoin:round;stroke:rgb(0%,0%,0%);stroke-opacity:1;stroke-miterlimit:10;\" d=\"M 59.039062 157.601562 L 51.839844 157.601562 \"/>\n",
       "<path style=\"fill:none;stroke-width:0.75;stroke-linecap:round;stroke-linejoin:round;stroke:rgb(0%,0%,0%);stroke-opacity:1;stroke-miterlimit:10;\" d=\"M 59.039062 75.464844 L 51.839844 75.464844 \"/>\n",
       "<g style=\"fill:rgb(0%,0%,0%);fill-opacity:1;\">\n",
       "  <use xlink:href=\"#glyph1-1\" x=\"41.761719\" y=\"489.46875\"/>\n",
       "</g>\n",
       "<g style=\"fill:rgb(0%,0%,0%);fill-opacity:1;\">\n",
       "  <use xlink:href=\"#glyph1-2\" x=\"41.761719\" y=\"407.335938\"/>\n",
       "</g>\n",
       "<g style=\"fill:rgb(0%,0%,0%);fill-opacity:1;\">\n",
       "  <use xlink:href=\"#glyph1-3\" x=\"41.761719\" y=\"325.203125\"/>\n",
       "</g>\n",
       "<g style=\"fill:rgb(0%,0%,0%);fill-opacity:1;\">\n",
       "  <use xlink:href=\"#glyph1-4\" x=\"41.761719\" y=\"243.070312\"/>\n",
       "</g>\n",
       "<g style=\"fill:rgb(0%,0%,0%);fill-opacity:1;\">\n",
       "  <use xlink:href=\"#glyph1-5\" x=\"41.761719\" y=\"160.9375\"/>\n",
       "</g>\n",
       "<g style=\"fill:rgb(0%,0%,0%);fill-opacity:1;\">\n",
       "  <use xlink:href=\"#glyph1-6\" x=\"41.761719\" y=\"82.136719\"/>\n",
       "  <use xlink:href=\"#glyph1-1\" x=\"41.761719\" y=\"75.462891\"/>\n",
       "</g>\n",
       "<path style=\"fill:none;stroke-width:0.75;stroke-linecap:round;stroke-linejoin:round;stroke:rgb(0%,0%,0%);stroke-opacity:1;stroke-miterlimit:10;\" d=\"M 59.039062 502.558594 L 689.761719 502.558594 L 689.761719 59.039062 L 59.039062 59.039062 L 59.039062 502.558594 \"/>\n",
       "</g>\n",
       "</svg>\n"
      ],
      "text/plain": [
       "plot without title"
      ]
     },
     "metadata": {
      "image/svg+xml": {
       "isolated": true
      }
     },
     "output_type": "display_data"
    }
   ],
   "source": [
    "plot((2*R)^x,type='b',pch=18,col='red',ylim=c(0,maxy),xlab='d',ylab='volume')\n",
    "par(new=T)\n",
    "plot(v,type='b',pch=20,col='blue',ylim=c(0,maxy),xlab='',ylab='')"
   ]
  },
  {
   "cell_type": "markdown",
   "metadata": {
    "slideshow": {
     "slide_type": "subslide"
    }
   },
   "source": [
    "The \"curse\" is mainly caused by irrelevant attributes.\n",
    "\n",
    "Data lie \"on the corner\" of the description space and we quickly loose contrast in the pairwise distance matrix, which **misleads** usual machine learning algorithms.\n",
    "\n",
    "Hopefully, using appropriate preprocessing (feature selection) and distance/similarity often solves the problem.\n",
    "\n",
    "Be **extremely careful** on which metrics you use (in general, but with text in particular).\n"
   ]
  },
  {
   "cell_type": "markdown",
   "metadata": {
    "slideshow": {
     "slide_type": "subslide"
    }
   },
   "source": [
    "## Dot product and cosine\n",
    "\n",
    "$\\vec{x}$ and $\\vec{y}$ are both vectors in the VSM.\n",
    "\n",
    "Cosine is a **similarity** calculated on the angle between the two vectors:\n",
    "\n",
    "$$cos(\\vec{x},\\vec{y}) = \\frac{\\vec{x}.\\vec{y}}{||\\vec{x}||_2 \\times ||\\vec{y}||_2}$$\n",
    "\n",
    "It ranges from 0 (no commonality) to 1 (same vector times a constant factor)."
   ]
  },
  {
   "cell_type": "code",
   "execution_count": 211,
   "metadata": {
    "collapsed": false,
    "slideshow": {
     "slide_type": "subslide"
    }
   },
   "outputs": [
    {
     "data": {
      "text/html": [
       "<ol class=list-inline>\n",
       "\t<li>1</li>\n",
       "\t<li>0</li>\n",
       "\t<li>1</li>\n",
       "\t<li>0</li>\n",
       "\t<li>0</li>\n",
       "\t<li>1</li>\n",
       "\t<li>0</li>\n",
       "\t<li>0</li>\n",
       "\t<li>0</li>\n",
       "\t<li>1</li>\n",
       "\t<li>1</li>\n",
       "\t<li>0</li>\n",
       "\t<li>1</li>\n",
       "\t<li>0</li>\n",
       "\t<li>0</li>\n",
       "\t<li>1</li>\n",
       "\t<li>0</li>\n",
       "\t<li>0</li>\n",
       "\t<li>0</li>\n",
       "\t<li>0</li>\n",
       "\t<li>0</li>\n",
       "\t<li>1</li>\n",
       "\t<li>0</li>\n",
       "\t<li>1</li>\n",
       "\t<li>0</li>\n",
       "</ol>\n"
      ],
      "text/latex": [
       "\\begin{enumerate*}\n",
       "\\item 1\n",
       "\\item 0\n",
       "\\item 1\n",
       "\\item 0\n",
       "\\item 0\n",
       "\\item 1\n",
       "\\item 0\n",
       "\\item 0\n",
       "\\item 0\n",
       "\\item 1\n",
       "\\item 1\n",
       "\\item 0\n",
       "\\item 1\n",
       "\\item 0\n",
       "\\item 0\n",
       "\\item 1\n",
       "\\item 0\n",
       "\\item 0\n",
       "\\item 0\n",
       "\\item 0\n",
       "\\item 0\n",
       "\\item 1\n",
       "\\item 0\n",
       "\\item 1\n",
       "\\item 0\n",
       "\\end{enumerate*}\n"
      ],
      "text/markdown": [
       "1. 1\n",
       "2. 0\n",
       "3. 1\n",
       "4. 0\n",
       "5. 0\n",
       "6. 1\n",
       "7. 0\n",
       "8. 0\n",
       "9. 0\n",
       "10. 1\n",
       "11. 1\n",
       "12. 0\n",
       "13. 1\n",
       "14. 0\n",
       "15. 0\n",
       "16. 1\n",
       "17. 0\n",
       "18. 0\n",
       "19. 0\n",
       "20. 0\n",
       "21. 0\n",
       "22. 1\n",
       "23. 0\n",
       "24. 1\n",
       "25. 0\n",
       "\n",
       "\n"
      ],
      "text/plain": [
       " [1] 1 0 1 0 0 1 0 0 0 1 1 0 1 0 0 1 0 0 0 0 0 1 0 1 0"
      ]
     },
     "execution_count": 211,
     "metadata": {},
     "output_type": "execute_result"
    },
    {
     "data": {
      "text/html": [
       "<ol class=list-inline>\n",
       "\t<li>0</li>\n",
       "\t<li>1</li>\n",
       "\t<li>0</li>\n",
       "\t<li>1</li>\n",
       "\t<li>0</li>\n",
       "\t<li>0</li>\n",
       "\t<li>0</li>\n",
       "\t<li>1</li>\n",
       "\t<li>1</li>\n",
       "\t<li>0</li>\n",
       "\t<li>1</li>\n",
       "\t<li>0</li>\n",
       "\t<li>0</li>\n",
       "\t<li>0</li>\n",
       "\t<li>1</li>\n",
       "\t<li>0</li>\n",
       "\t<li>0</li>\n",
       "\t<li>0</li>\n",
       "\t<li>1</li>\n",
       "\t<li>0</li>\n",
       "\t<li>0</li>\n",
       "\t<li>0</li>\n",
       "\t<li>1</li>\n",
       "\t<li>0</li>\n",
       "\t<li>0</li>\n",
       "</ol>\n"
      ],
      "text/latex": [
       "\\begin{enumerate*}\n",
       "\\item 0\n",
       "\\item 1\n",
       "\\item 0\n",
       "\\item 1\n",
       "\\item 0\n",
       "\\item 0\n",
       "\\item 0\n",
       "\\item 1\n",
       "\\item 1\n",
       "\\item 0\n",
       "\\item 1\n",
       "\\item 0\n",
       "\\item 0\n",
       "\\item 0\n",
       "\\item 1\n",
       "\\item 0\n",
       "\\item 0\n",
       "\\item 0\n",
       "\\item 1\n",
       "\\item 0\n",
       "\\item 0\n",
       "\\item 0\n",
       "\\item 1\n",
       "\\item 0\n",
       "\\item 0\n",
       "\\end{enumerate*}\n"
      ],
      "text/markdown": [
       "1. 0\n",
       "2. 1\n",
       "3. 0\n",
       "4. 1\n",
       "5. 0\n",
       "6. 0\n",
       "7. 0\n",
       "8. 1\n",
       "9. 1\n",
       "10. 0\n",
       "11. 1\n",
       "12. 0\n",
       "13. 0\n",
       "14. 0\n",
       "15. 1\n",
       "16. 0\n",
       "17. 0\n",
       "18. 0\n",
       "19. 1\n",
       "20. 0\n",
       "21. 0\n",
       "22. 0\n",
       "23. 1\n",
       "24. 0\n",
       "25. 0\n",
       "\n",
       "\n"
      ],
      "text/plain": [
       " [1] 0 1 0 1 0 0 0 1 1 0 1 0 0 0 1 0 0 0 1 0 0 0 1 0 0"
      ]
     },
     "execution_count": 211,
     "metadata": {},
     "output_type": "execute_result"
    },
    {
     "data": {
      "text/html": [
       "<ol class=list-inline>\n",
       "\t<li>1</li>\n",
       "\t<li>0</li>\n",
       "\t<li>2</li>\n",
       "\t<li>0</li>\n",
       "\t<li>1</li>\n",
       "\t<li>0</li>\n",
       "\t<li>1</li>\n",
       "\t<li>0</li>\n",
       "\t<li>0</li>\n",
       "\t<li>0</li>\n",
       "\t<li>0</li>\n",
       "\t<li>1</li>\n",
       "\t<li>0</li>\n",
       "\t<li>1</li>\n",
       "\t<li>0</li>\n",
       "\t<li>0</li>\n",
       "\t<li>2</li>\n",
       "\t<li>2</li>\n",
       "\t<li>0</li>\n",
       "\t<li>1</li>\n",
       "\t<li>1</li>\n",
       "\t<li>3</li>\n",
       "\t<li>0</li>\n",
       "\t<li>0</li>\n",
       "\t<li>1</li>\n",
       "</ol>\n"
      ],
      "text/latex": [
       "\\begin{enumerate*}\n",
       "\\item 1\n",
       "\\item 0\n",
       "\\item 2\n",
       "\\item 0\n",
       "\\item 1\n",
       "\\item 0\n",
       "\\item 1\n",
       "\\item 0\n",
       "\\item 0\n",
       "\\item 0\n",
       "\\item 0\n",
       "\\item 1\n",
       "\\item 0\n",
       "\\item 1\n",
       "\\item 0\n",
       "\\item 0\n",
       "\\item 2\n",
       "\\item 2\n",
       "\\item 0\n",
       "\\item 1\n",
       "\\item 1\n",
       "\\item 3\n",
       "\\item 0\n",
       "\\item 0\n",
       "\\item 1\n",
       "\\end{enumerate*}\n"
      ],
      "text/markdown": [
       "1. 1\n",
       "2. 0\n",
       "3. 2\n",
       "4. 0\n",
       "5. 1\n",
       "6. 0\n",
       "7. 1\n",
       "8. 0\n",
       "9. 0\n",
       "10. 0\n",
       "11. 0\n",
       "12. 1\n",
       "13. 0\n",
       "14. 1\n",
       "15. 0\n",
       "16. 0\n",
       "17. 2\n",
       "18. 2\n",
       "19. 0\n",
       "20. 1\n",
       "21. 1\n",
       "22. 3\n",
       "23. 0\n",
       "24. 0\n",
       "25. 1\n",
       "\n",
       "\n"
      ],
      "text/plain": [
       " [1] 1 0 2 0 1 0 1 0 0 0 0 1 0 1 0 0 2 2 0 1 1 3 0 0 1"
      ]
     },
     "execution_count": 211,
     "metadata": {},
     "output_type": "execute_result"
    },
    {
     "name": "stderr",
     "output_type": "stream",
     "text": [
      "v1 vs. v2\n"
     ]
    },
    {
     "data": {
      "text/html": [
       "'cos(v1,v2) = 0.117851'"
      ],
      "text/latex": [
       "'cos(v1,v2) = 0.117851'"
      ],
      "text/markdown": [
       "'cos(v1,v2) = 0.117851'"
      ],
      "text/plain": [
       "[1] \"cos(v1,v2) = 0.117851\""
      ]
     },
     "execution_count": 211,
     "metadata": {},
     "output_type": "execute_result"
    },
    {
     "data": {
      "text/html": [
       "'d(v1,v2) = 3.872983'"
      ],
      "text/latex": [
       "'d(v1,v2) = 3.872983'"
      ],
      "text/markdown": [
       "'d(v1,v2) = 3.872983'"
      ],
      "text/plain": [
       "[1] \"d(v1,v2) = 3.872983\""
      ]
     },
     "execution_count": 211,
     "metadata": {},
     "output_type": "execute_result"
    },
    {
     "name": "stderr",
     "output_type": "stream",
     "text": [
      "v1 vs. v3\n"
     ]
    },
    {
     "data": {
      "text/html": [
       "'cos(v1,v3) = 0.371391'"
      ],
      "text/latex": [
       "'cos(v1,v3) = 0.371391'"
      ],
      "text/markdown": [
       "'cos(v1,v3) = 0.371391'"
      ],
      "text/plain": [
       "[1] \"cos(v1,v3) = 0.371391\""
      ]
     },
     "execution_count": 211,
     "metadata": {},
     "output_type": "execute_result"
    },
    {
     "data": {
      "text/html": [
       "'d(v1,v3) = 5.099020'"
      ],
      "text/latex": [
       "'d(v1,v3) = 5.099020'"
      ],
      "text/markdown": [
       "'d(v1,v3) = 5.099020'"
      ],
      "text/plain": [
       "[1] \"d(v1,v3) = 5.099020\""
      ]
     },
     "execution_count": 211,
     "metadata": {},
     "output_type": "execute_result"
    },
    {
     "name": "stderr",
     "output_type": "stream",
     "text": [
      "v2 vs. v3\n"
     ]
    },
    {
     "data": {
      "text/html": [
       "'cos(v2,v3) = 0.000000'"
      ],
      "text/latex": [
       "'cos(v2,v3) = 0.000000'"
      ],
      "text/markdown": [
       "'cos(v2,v3) = 0.000000'"
      ],
      "text/plain": [
       "[1] \"cos(v2,v3) = 0.000000\""
      ]
     },
     "execution_count": 211,
     "metadata": {},
     "output_type": "execute_result"
    },
    {
     "data": {
      "text/html": [
       "'d(v2,v3) = 6.082763'"
      ],
      "text/latex": [
       "'d(v2,v3) = 6.082763'"
      ],
      "text/markdown": [
       "'d(v2,v3) = 6.082763'"
      ],
      "text/plain": [
       "[1] \"d(v2,v3) = 6.082763\""
      ]
     },
     "execution_count": 211,
     "metadata": {},
     "output_type": "execute_result"
    }
   ],
   "source": [
    "v1\n",
    "v2\n",
    "v3\n",
    "message(\"v1 vs. v2\")\n",
    "sprintf(\"cos(v1,v2) = %f\", cosine(v1,v2))\n",
    "sprintf(\"d(v1,v2) = %f\", sqrt(sum((v1-v2)^2)))\n",
    "message(\"v1 vs. v3\")\n",
    "sprintf(\"cos(v1,v3) = %f\", cosine(v1,v3))\n",
    "sprintf(\"d(v1,v3) = %f\",sqrt(sum((v1-v3)^2)))\n",
    "message(\"v2 vs. v3\")\n",
    "sprintf(\"cos(v2,v3) = %f\", cosine(v2,v3))\n",
    "sprintf(\"d(v2,v3) = %f\", sqrt(sum((v2-v3)^2)))"
   ]
  },
  {
   "cell_type": "markdown",
   "metadata": {
    "slideshow": {
     "slide_type": "subslide"
    }
   },
   "source": [
    "### Geometrical interpretation of cosine\n",
    "\n",
    "<img src=\"img/cosine.png\" style='height: 300px'/>"
   ]
  },
  {
   "cell_type": "markdown",
   "metadata": {
    "slideshow": {
     "slide_type": "fragment"
    }
   },
   "source": [
    "Note that other metrics can be used (e.g., Jaccard for the presence/absence weighting scheme)."
   ]
  },
  {
   "cell_type": "markdown",
   "metadata": {
    "slideshow": {
     "slide_type": "slide"
    }
   },
   "source": [
    "## Basic search engine\n",
    "\n",
    "- comparing two texts\n",
    "- **term weighting**\n",
    "- text ranking\n",
    "- evaluation"
   ]
  },
  {
   "cell_type": "markdown",
   "metadata": {
    "slideshow": {
     "slide_type": "subslide"
    }
   },
   "source": [
    "## Term weighting\n",
    "\n",
    "Up to now, we have used the term frequency (TF) for associating a term to a text.\n",
    "\n",
    "But here is what we can observe on the famous Reuters corpus:\n",
    "\n",
    "word|cf|df\n",
    "-|-|-\n",
    "try|10,422|8760\n",
    "insurance|10,440|3997\n",
    "\n",
    "**cf** = collection frequency<br/>\n",
    "**df** = document frequency\n",
    "\n"
   ]
  },
  {
   "cell_type": "markdown",
   "metadata": {
    "slideshow": {
     "slide_type": "subslide"
    }
   },
   "source": [
    "## Weighting schemes\n",
    "\n",
    "- presence/absence (1/0)\n",
    "- term frequency (TF)\n",
    "- TFxIDF\n",
    "- OKAPI"
   ]
  },
  {
   "cell_type": "markdown",
   "metadata": {
    "slideshow": {
     "slide_type": "subslide"
    }
   },
   "source": [
    "## Presence / absence\n",
    "\n",
    "A text is described by a **binary vector**.\n",
    "\n",
    "It reduces the impact of document length.\n",
    "\n",
    "Therefore it seems to be more fitted to **small texts** (e.g., tweets)."
   ]
  },
  {
   "cell_type": "markdown",
   "metadata": {
    "slideshow": {
     "slide_type": "subslide"
    }
   },
   "source": [
    "## TFxIDF weighting scheme\n",
    "\n",
    "$$ tf_{t,d} \\times idf_{t} $$\n",
    "\n",
    "with $tf_{t,d}$ as the usual frequency of $t$ in $d$\n",
    "\n",
    "and $idf_{t} = \\log \\frac{N}{df_t}$ ($N$ is the total number of documents)"
   ]
  },
  {
   "cell_type": "markdown",
   "metadata": {
    "slideshow": {
     "slide_type": "fragment"
    }
   },
   "source": [
    "term | $df_t$ | $idf_t$\n",
    "-|-|-\n",
    "car|18,165|1.65\n",
    "auto|6723|2.08\n",
    "insurance|19,241|1.62\n",
    "best|25,235|1.5\n"
   ]
  },
  {
   "cell_type": "code",
   "execution_count": 166,
   "metadata": {
    "collapsed": false,
    "slideshow": {
     "slide_type": "subslide"
    }
   },
   "outputs": [
    {
     "data": {
      "text/html": [
       "'Total frequency of harry: 1182'"
      ],
      "text/latex": [
       "'Total frequency of harry: 1182'"
      ],
      "text/markdown": [
       "'Total frequency of harry: 1182'"
      ],
      "text/plain": [
       "[1] \"Total frequency of harry: 1182\""
      ]
     },
     "execution_count": 166,
     "metadata": {},
     "output_type": "execute_result"
    },
    {
     "data": {
      "text/html": [
       "'IDF of harry: 1.696747'"
      ],
      "text/latex": [
       "'IDF of harry: 1.696747'"
      ],
      "text/markdown": [
       "'IDF of harry: 1.696747'"
      ],
      "text/plain": [
       "[1] \"IDF of harry: 1.696747\""
      ]
     },
     "execution_count": 166,
     "metadata": {},
     "output_type": "execute_result"
    }
   ],
   "source": [
    "options(digits=4)\n",
    "term <- \"harry\"\n",
    "sprintf(\"Total frequency of %s: %i\", term, sum(m[term,]))\n",
    "df <- length(which(m[term,]>0))\n",
    "N <- dim(m)[2]\n",
    "sprintf(\"IDF of %s: %f\", term, log2(N/df))"
   ]
  },
  {
   "cell_type": "markdown",
   "metadata": {
    "slideshow": {
     "slide_type": "subslide"
    }
   },
   "source": [
    "Building the TFxIDF-based terms x documents matrix on our corpus is done with one instruction:"
   ]
  },
  {
   "cell_type": "code",
   "execution_count": 200,
   "metadata": {
    "collapsed": false,
    "slideshow": {
     "slide_type": "fragment"
    }
   },
   "outputs": [],
   "source": [
    "hp.dtm.tfidf <- TermDocumentMatrix(hp.corpus.sw, control = list(weighting = weightTfIdf))\n",
    "m.tfidf <- as.matrix(hp.dtm.tfidf)"
   ]
  },
  {
   "cell_type": "code",
   "execution_count": 208,
   "metadata": {
    "collapsed": false,
    "slideshow": {
     "slide_type": "fragment"
    }
   },
   "outputs": [
    {
     "data": {
      "text/html": [
       "'Mr. Dursley sat frozen in his armchair. Shooting stars all over Britain? Owls flying by daylight? Mysterious people in cloaks all over the place? And a whisper, a whisper about the Potters....'"
      ],
      "text/latex": [
       "'Mr. Dursley sat frozen in his armchair. Shooting stars all over Britain? Owls flying by daylight? Mysterious people in cloaks all over the place? And a whisper, a whisper about the Potters....'"
      ],
      "text/markdown": [
       "'Mr. Dursley sat frozen in his armchair. Shooting stars all over Britain? Owls flying by daylight? Mysterious people in cloaks all over the place? And a whisper, a whisper about the Potters....'"
      ],
      "text/plain": [
       "[1] \"Mr. Dursley sat frozen in his armchair. Shooting stars all over Britain? Owls flying by daylight? Mysterious people in cloaks all over the place? And a whisper, a whisper about the Potters....\""
      ]
     },
     "execution_count": 208,
     "metadata": {},
     "output_type": "execute_result"
    },
    {
     "data": {
      "text/html": [
       "<table>\n",
       "<thead><tr><th scope=col>armchair</th><th scope=col>britain</th><th scope=col>cloaks</th><th scope=col>daylight</th><th scope=col>dursley</th><th scope=col>flying</th><th scope=col>frozen</th><th scope=col>mysterious</th><th scope=col>owls</th><th scope=col>people</th><th scope=col>place</th><th scope=col>potters</th><th scope=col>sat</th><th scope=col>shooting</th><th scope=col>stars</th><th scope=col>whisper</th></tr></thead>\n",
       "<tbody>\n",
       "\t<tr><td>1</td><td>1</td><td>1</td><td>1</td><td>1</td><td>1</td><td>1</td><td>1</td><td>1</td><td>1</td><td>1</td><td>1</td><td>1</td><td>1</td><td>1</td><td>2</td></tr>\n",
       "</tbody>\n",
       "</table>\n"
      ],
      "text/latex": [
       "\\begin{tabular}{llllllllllllllll}\n",
       " armchair & britain & cloaks & daylight & dursley & flying & frozen & mysterious & owls & people & place & potters & sat & shooting & stars & whisper\\\\\n",
       "\\hline\n",
       "\t 1 & 1 & 1 & 1 & 1 & 1 & 1 & 1 & 1 & 1 & 1 & 1 & 1 & 1 & 1 & 2\\\\\n",
       "\\end{tabular}\n"
      ],
      "text/markdown": [
       "1. 1\n",
       "2. 1\n",
       "3. 1\n",
       "4. 1\n",
       "5. 1\n",
       "6. 1\n",
       "7. 1\n",
       "8. 1\n",
       "9. 1\n",
       "10. 1\n",
       "11. 1\n",
       "12. 1\n",
       "13. 1\n",
       "14. 1\n",
       "15. 1\n",
       "16. 2\n",
       "\n",
       "\n"
      ],
      "text/plain": [
       "     armchair britain cloaks daylight dursley flying frozen mysterious owls\n",
       "[1,]        1       1      1        1       1      1      1          1    1\n",
       "     people place potters sat shooting stars whisper\n",
       "[1,]      1     1       1   1        1     1       2"
      ]
     },
     "execution_count": 208,
     "metadata": {},
     "output_type": "execute_result"
    },
    {
     "data": {
      "text/html": [
       "<table>\n",
       "<thead><tr><th scope=col>armchair</th><th scope=col>britain</th><th scope=col>cloaks</th><th scope=col>daylight</th><th scope=col>dursley</th><th scope=col>flying</th><th scope=col>frozen</th><th scope=col>mysterious</th><th scope=col>owls</th><th scope=col>people</th><th scope=col>place</th><th scope=col>potters</th><th scope=col>sat</th><th scope=col>shooting</th><th scope=col>stars</th><th scope=col>whisper</th></tr></thead>\n",
       "<tbody>\n",
       "\t<tr><td>0.5922</td><td>0.6266</td><td>0.5489</td><td>0.5489</td><td>0.3813</td><td>0.4819</td><td>0.6266</td><td>0.5334</td><td>0.4556</td><td>0.3136</td><td>0.4026</td><td>0.4556</td><td>0.3662</td><td>0.5678</td><td>0.5203</td><td>1.0406</td></tr>\n",
       "</tbody>\n",
       "</table>\n"
      ],
      "text/latex": [
       "\\begin{tabular}{llllllllllllllll}\n",
       " armchair & britain & cloaks & daylight & dursley & flying & frozen & mysterious & owls & people & place & potters & sat & shooting & stars & whisper\\\\\n",
       "\\hline\n",
       "\t 0.5922 & 0.6266 & 0.5489 & 0.5489 & 0.3813 & 0.4819 & 0.6266 & 0.5334 & 0.4556 & 0.3136 & 0.4026 & 0.4556 & 0.3662 & 0.5678 & 0.5203 & 1.0406\\\\\n",
       "\\end{tabular}\n"
      ],
      "text/markdown": [
       "1. 0.592202021220972\n",
       "2. 0.626611580086922\n",
       "3. 0.548851103917077\n",
       "4. 0.548851103917077\n",
       "5. 0.381321874119727\n",
       "6. 0.481939131931787\n",
       "7. 0.626611580086922\n",
       "8. 0.533378491809207\n",
       "9. 0.455618015639362\n",
       "10. 0.313556986270019\n",
       "11. 0.40264952584824\n",
       "12. 0.455618015639362\n",
       "13. 0.366243065104446\n",
       "14. 0.567788050675157\n",
       "15. 0.520296584671769\n",
       "16. 1.04059316934354\n",
       "\n",
       "\n"
      ],
      "text/plain": [
       "     armchair britain cloaks daylight dursley flying frozen mysterious   owls\n",
       "[1,]   0.5922  0.6266 0.5489   0.5489  0.3813 0.4819 0.6266     0.5334 0.4556\n",
       "     people  place potters    sat shooting  stars whisper\n",
       "[1,] 0.3136 0.4026  0.4556 0.3662   0.5678 0.5203   1.041"
      ]
     },
     "execution_count": 208,
     "metadata": {},
     "output_type": "execute_result"
    }
   ],
   "source": [
    "num_doc <- 30\n",
    "hp[30]\n",
    "t(m.sw[which(m.sw[,num_doc]>0),num_doc])\n",
    "t(m.tfidf[which(m.tfidf[,num_doc]>0),num_doc])"
   ]
  },
  {
   "cell_type": "markdown",
   "metadata": {
    "slideshow": {
     "slide_type": "subslide"
    }
   },
   "source": [
    "Other weighting schemes can be used, in particular when classes are provided:\n",
    "\n",
    "- Residual IDF (Rennie and Jaakkola, 2005)\n",
    "- Odds Ratio (Mladenic and M. Grobelnik, 2009)\n",
    "- Information Gain (Yang and Pedersen, 1997)\n",
    "- Chi-squared (Yang and Pedersen, 1997)\n",
    "- OKAPI BM25 (Robertson et al., 1994)"
   ]
  },
  {
   "cell_type": "markdown",
   "metadata": {
    "slideshow": {
     "slide_type": "subslide"
    }
   },
   "source": [
    "## OKAPI BM25\n",
    "\n",
    "$$w_{BM25}(t,d) = tf_{BM25}(t,d) \\times idf_{BM25}(t)$$\n",
    "\n",
    "with:\n",
    "\n",
    "$tf_{BM25}(t,d) = \\frac{tf(t,d) \\times (k_1 + 1)}{tf(t,d) + k_1 \\times (1 - b + b \\times dl(d) / dl_{avg})}$\n",
    "\n",
    "$idf_{BM25}(t) = \\log \\frac{N - df(t) + 0.5}{df(t) + 0.5}$\n",
    "\n",
    "where $dl(d)$ = length of d, $dl_{avg}$ = average length<br/>\n",
    "$k_1$ and $b$ are given constants (usually $k_1=2$ and $b=0.75$)"
   ]
  },
  {
   "cell_type": "markdown",
   "metadata": {
    "slideshow": {
     "slide_type": "slide"
    }
   },
   "source": [
    "## Basic search engine\n",
    "\n",
    "- comparing two texts\n",
    "- term weighting\n",
    "- **text ranking**\n",
    "- evaluation"
   ]
  },
  {
   "cell_type": "markdown",
   "metadata": {
    "slideshow": {
     "slide_type": "subslide"
    }
   },
   "source": [
    "Given a simple **query** composed of keywords, rank the documents by decreasing relevance."
   ]
  },
  {
   "cell_type": "markdown",
   "metadata": {
    "slideshow": {
     "slide_type": "fragment"
    }
   },
   "source": [
    "First, **embed** the given query into our vocabulary:"
   ]
  },
  {
   "cell_type": "code",
   "execution_count": 303,
   "metadata": {
    "collapsed": false,
    "slideshow": {
     "slide_type": "fragment"
    }
   },
   "outputs": [],
   "source": [
    "vocab.corpus <- rownames(m.tfidf)\n",
    "query <- c(\"aunt\", \"petunia\", \"nail\")\n",
    "query.vec <- rep(0,length(vocab.corpus))\n",
    "for (w in match(query, vocab.corpus))\n",
    "    query.vec[w] <- 1"
   ]
  },
  {
   "cell_type": "markdown",
   "metadata": {
    "slideshow": {
     "slide_type": "subslide"
    }
   },
   "source": [
    "Second, **compute the cosine** between this vector and each document:"
   ]
  },
  {
   "cell_type": "code",
   "execution_count": 304,
   "metadata": {
    "collapsed": false,
    "slideshow": {
     "slide_type": "fragment"
    }
   },
   "outputs": [
    {
     "data": {
      "text/html": [
       "<dl class=dl-horizontal>\n",
       "\t<dt>314</dt>\n",
       "\t\t<dd>0.494745040555497</dd>\n",
       "\t<dt>433</dt>\n",
       "\t\t<dd>0.395775232571877</dd>\n",
       "\t<dt>148</dt>\n",
       "\t\t<dd>0.365431006868492</dd>\n",
       "\t<dt>162</dt>\n",
       "\t\t<dd>0.360102087408402</dd>\n",
       "\t<dt>160</dt>\n",
       "\t\t<dd>0.354003055255932</dd>\n",
       "\t<dt>852</dt>\n",
       "\t\t<dd>0.331775467634898</dd>\n",
       "\t<dt>126</dt>\n",
       "\t\t<dd>0.308862405718408</dd>\n",
       "\t<dt>165</dt>\n",
       "\t\t<dd>0.293122965670733</dd>\n",
       "</dl>\n"
      ],
      "text/latex": [
       "\\begin{description*}\n",
       "\\item[314] 0.494745040555497\n",
       "\\item[433] 0.395775232571877\n",
       "\\item[148] 0.365431006868492\n",
       "\\item[162] 0.360102087408402\n",
       "\\item[160] 0.354003055255932\n",
       "\\item[852] 0.331775467634898\n",
       "\\item[126] 0.308862405718408\n",
       "\\item[165] 0.293122965670733\n",
       "\\end{description*}\n"
      ],
      "text/markdown": [
       "314\n",
       ":   0.494745040555497433\n",
       ":   0.395775232571877148\n",
       ":   0.365431006868492162\n",
       ":   0.360102087408402160\n",
       ":   0.354003055255932852\n",
       ":   0.331775467634898126\n",
       ":   0.308862405718408165\n",
       ":   0.293122965670733\n",
       "\n"
      ],
      "text/plain": [
       "   314    433    148    162    160    852    126    165 \n",
       "0.4947 0.3958 0.3654 0.3601 0.3540 0.3318 0.3089 0.2931 "
      ]
     },
     "execution_count": 304,
     "metadata": {},
     "output_type": "execute_result"
    }
   ],
   "source": [
    "rank <- apply(m.tfidf, 2, function(x) cosine(x,query.vec))\n",
    "top.docs <- sort(rank, decreasing=TRUE)[1:8]\n",
    "top.docs"
   ]
  },
  {
   "cell_type": "markdown",
   "metadata": {
    "slideshow": {
     "slide_type": "subslide"
    }
   },
   "source": [
    "Look at the **first top documents** returned:"
   ]
  },
  {
   "cell_type": "code",
   "execution_count": 306,
   "metadata": {
    "collapsed": false,
    "slideshow": {
     "slide_type": "fragment"
    }
   },
   "outputs": [
    {
     "name": "stdout",
     "output_type": "stream",
     "text": [
      "[1] \"\\\"Oh, these people's minds work in strange ways, Petunia, they're not like you and me,<U+201D> said Uncle Vernon, trying to knock in a nail with the piece of fruitcake Aunt Petunia had just brought him.\"\n",
      "[1] \"Aunt Petunia gave a gasp of horror.\"\n",
      "[1] \"\\\"Thirty-nine, sweetums,<U+201D> said Aunt Petunia.\"\n",
      "[1] \"Aunt Petunia looked as though she'd just swallowed a lemon.\"\n"
     ]
    }
   ],
   "source": [
    "for (i in 1:4)\n",
    "{\n",
    "    numdoc <- as.integer(names(top.docs[i]))\n",
    "    print(hp[numdoc])\n",
    "}"
   ]
  },
  {
   "cell_type": "markdown",
   "metadata": {
    "slideshow": {
     "slide_type": "slide"
    }
   },
   "source": [
    "## Basic search engine\n",
    "\n",
    "- comparing two texts\n",
    "- term weighting\n",
    "- text ranking\n",
    "- **evaluation**"
   ]
  },
  {
   "cell_type": "markdown",
   "metadata": {
    "slideshow": {
     "slide_type": "subslide"
    }
   },
   "source": [
    "## Evaluation\n",
    "\n",
    "The objective is to compare the \"perfect\" sorted list with the output of search engines."
   ]
  },
  {
   "cell_type": "markdown",
   "metadata": {
    "slideshow": {
     "slide_type": "fragment"
    }
   },
   "source": [
    "If $E$ = *expected* list of relevant documents, and $O$ = *output* of the search algorithm:\n",
    "<img src=\"img/evaluation.png\" style='height: 200px'/>\n",
    "precision P = $| E \\cap O | / |O|$<br/>\n",
    "recall R = $| E \\cap O | / |E|$<br/>\n",
    "f-measure = $2 (P\\times R) / (P + R)$<br/>"
   ]
  },
  {
   "cell_type": "markdown",
   "metadata": {
    "slideshow": {
     "slide_type": "slide"
    }
   },
   "source": [
    "## Beyond words\n",
    "\n",
    "- **n-grams**\n",
    "- collocations"
   ]
  },
  {
   "cell_type": "markdown",
   "metadata": {
    "slideshow": {
     "slide_type": "subslide"
    }
   },
   "source": [
    "Instead of having just single words we can deal with **phrases**.\n",
    "\n",
    "Different types of phrases:\n",
    "- Phrases as frequent contiguous word sequences\n",
    "- Phrases as frequent non-contiguous word sequences\n",
    "\n",
    "Both types could be identified by simple dynamic programming algorithms.\n",
    "\n",
    "The main effect of using phrases is to more precisely identify the **sense** of what is written."
   ]
  },
  {
   "cell_type": "markdown",
   "metadata": {
    "slideshow": {
     "slide_type": "subslide"
    }
   },
   "source": [
    "## Bi-grams\n",
    "\n",
    "A bigram is a sequence of two words:\n",
    "\n",
    ">\"american president\"<br/>\n",
    ">\"world war\"<br/>\n",
    ">\"health care\"<br/>\n",
    ">\"bird is\"<br/>\n",
    ">\"the sleepy\"\n",
    "\n",
    "It is similar to stick a **2-word window** over the text."
   ]
  },
  {
   "cell_type": "markdown",
   "metadata": {
    "slideshow": {
     "slide_type": "subslide"
    }
   },
   "source": [
    "## Words or phrases?\n",
    "\n",
    "Lewis (SIGIR, 1992) supports that words provide better statistical quality:\n",
    "\n",
    "- the words may appear multiple times in a document\n",
    "- a phrase may be present only once so the frequencies can be misleading\n",
    "\n",
    "Phrases provide more semantic information:\n",
    "\n",
    "- context\n",
    "- words may have multiple meanings"
   ]
  },
  {
   "cell_type": "markdown",
   "metadata": {
    "slideshow": {
     "slide_type": "subslide"
    }
   },
   "source": [
    "## Suffix array algorithm\n",
    "(Manber and Gene Myers, 1991)\n",
    "\n",
    "- Array of integers = starting position of suffixes\n",
    "- Leverage lexicographical order\n",
    "- Basic operations rely on string manipulation (e.g., is X a substring of T?), usually efficiently calculated"
   ]
  },
  {
   "cell_type": "markdown",
   "metadata": {
    "slideshow": {
     "slide_type": "subslide"
    }
   },
   "source": [
    "**Example:** *\"to be or not to be\"*\n",
    "\n",
    "18 suffixes ended by a \"sentinel\"\" (e.g., eof)"
   ]
  },
  {
   "cell_type": "code",
   "execution_count": 36,
   "metadata": {
    "collapsed": false,
    "slideshow": {
     "slide_type": "fragment"
    }
   },
   "outputs": [
    {
     "data": {
      "text/html": [
       "<table>\n",
       "<tbody>\n",
       "\t<tr><td>1 </td><td>2 </td><td>3 </td><td>4 </td><td>5 </td><td>6 </td><td>7 </td><td>8 </td><td>9 </td><td>10</td><td>11</td><td>12</td><td>13</td><td>14</td><td>15</td><td>16</td><td>17</td><td>18</td></tr>\n",
       "\t<tr><td>t</td><td>o</td><td>_</td><td>b</td><td>e</td><td>_</td><td>o</td><td>r</td><td>_</td><td>n</td><td>o</td><td>t</td><td>_</td><td>t</td><td>o</td><td>_</td><td>b</td><td>e</td></tr>\n",
       "</tbody>\n",
       "</table>\n"
      ],
      "text/latex": [
       "\\begin{tabular}{llllllllllllllllll}\n",
       "\t 1  & 2  & 3  & 4  & 5  & 6  & 7  & 8  & 9  & 10 & 11 & 12 & 13 & 14 & 15 & 16 & 17 & 18\\\\\n",
       "\t t & o & _ & b & e & _ & o & r & _ & n & o & t & _ & t & o & _ & b & e\\\\\n",
       "\\end{tabular}\n"
      ],
      "text/markdown": [
       "1. '1'\n",
       "2. 't'\n",
       "3. '2'\n",
       "4. 'o'\n",
       "5. '3'\n",
       "6. '_'\n",
       "7. '4'\n",
       "8. 'b'\n",
       "9. '5'\n",
       "10. 'e'\n",
       "11. '6'\n",
       "12. '_'\n",
       "13. '7'\n",
       "14. 'o'\n",
       "15. '8'\n",
       "16. 'r'\n",
       "17. '9'\n",
       "18. '_'\n",
       "19. '10'\n",
       "20. 'n'\n",
       "21. '11'\n",
       "22. 'o'\n",
       "23. '12'\n",
       "24. 't'\n",
       "25. '13'\n",
       "26. '_'\n",
       "27. '14'\n",
       "28. 't'\n",
       "29. '15'\n",
       "30. 'o'\n",
       "31. '16'\n",
       "32. '_'\n",
       "33. '17'\n",
       "34. 'b'\n",
       "35. '18'\n",
       "36. 'e'\n",
       "\n",
       "\n"
      ],
      "text/plain": [
       "     [,1] [,2] [,3] [,4] [,5] [,6] [,7] [,8] [,9] [,10] [,11] [,12] [,13] [,14]\n",
       "[1,] \"1\"  \"2\"  \"3\"  \"4\"  \"5\"  \"6\"  \"7\"  \"8\"  \"9\"  \"10\"  \"11\"  \"12\"  \"13\"  \"14\" \n",
       "[2,] \"t\"  \"o\"  \"_\"  \"b\"  \"e\"  \"_\"  \"o\"  \"r\"  \"_\"  \"n\"   \"o\"   \"t\"   \"_\"   \"t\"  \n",
       "     [,15] [,16] [,17] [,18]\n",
       "[1,] \"15\"  \"16\"  \"17\"  \"18\" \n",
       "[2,] \"o\"   \"_\"   \"b\"   \"e\"  "
      ]
     },
     "execution_count": 36,
     "metadata": {},
     "output_type": "execute_result"
    }
   ],
   "source": [
    "ch <- c(\"to be or not to be\")\n",
    "#example with HP:\n",
    "#ch <- tolower(gsub(\"[^[:alpha:]]\", \" \", paste(hp[1:10], collapse=\"\")))\n",
    "ch <- gsub(\" \", \"_\", ch)\n",
    "rbind(1:nchar(ch),strsplit(ch, \"\")[[1]])"
   ]
  },
  {
   "cell_type": "code",
   "execution_count": 44,
   "metadata": {
    "collapsed": false,
    "slideshow": {
     "slide_type": "subslide"
    }
   },
   "outputs": [
    {
     "name": "stdout",
     "output_type": "stream",
     "text": [
      "   index             suffix common.p LCP\n",
      "1     16                _be            0\n",
      "2      3   _be_or_not_to_be      _be   3\n",
      "3      9         _not_to_be        _   1\n",
      "4      6      _or_not_to_be        _   1\n",
      "5     13             _to_be        _   1\n",
      "6     17                 be            0\n",
      "7      4    be_or_not_to_be       be   2\n",
      "8     18                  e            0\n",
      "9      5     e_or_not_to_be        e   1\n",
      "10    10          not_to_be            0\n",
      "11    15               o_be            0\n",
      "12     2  o_be_or_not_to_be     o_be   4\n",
      "13     7       or_not_to_be        o   1\n",
      "14    11           ot_to_be        o   1\n",
      "15     8        r_not_to_be            0\n",
      "16    12            t_to_be            0\n",
      "17    14              to_be        t   1\n",
      "18     1 to_be_or_not_to_be    to_be   5\n"
     ]
    }
   ],
   "source": [
    "tab <- data.frame(cbind(1:nchar(ch), sapply(1:nchar(ch), function(x) substring(ch, x, nchar(ch)))))\n",
    "colnames(tab) <- c(\"index\", \"suffix\")\n",
    "tab <- tab[order(tab$suffix),]\n",
    "common.p <- c(\"\", sapply(2:nchar(ch), function(i) common.prefix(as.character(tab$suffix[i]), as.character(tab$suffix[i-1]))))\n",
    "print(cbind(tab, common.p, LCP=nchar(common.p), row.names=NULL))"
   ]
  },
  {
   "cell_type": "code",
   "execution_count": 27,
   "metadata": {
    "collapsed": false,
    "slideshow": {
     "slide_type": "subslide"
    }
   },
   "outputs": [
    {
     "name": "stderr",
     "output_type": "stream",
     "text": [
      "Right complete substrings, computed in O(n):\n"
     ]
    },
    {
     "name": "stdout",
     "output_type": "stream",
     "text": [
      "  motif freq\n",
      "2     _    5\n",
      "1   _be    2\n",
      "3    be    2\n",
      "4     e    2\n",
      "6     o    4\n",
      "5  o_be    2\n",
      "7     t    3\n",
      "8 to_be    2\n"
     ]
    }
   ],
   "source": [
    "message(\"Right complete substrings, computed in O(n):\")\n",
    "rightcomplete <- print(build.freq.motifs(ch))"
   ]
  },
  {
   "cell_type": "code",
   "execution_count": 28,
   "metadata": {
    "collapsed": false,
    "slideshow": {
     "slide_type": "fragment"
    }
   },
   "outputs": [
    {
     "name": "stderr",
     "output_type": "stream",
     "text": [
      "Reverse string:\n"
     ]
    },
    {
     "name": "stdout",
     "output_type": "stream",
     "text": [
      "[1] \"eb_ot_ton_ro_eb_ot\"\n"
     ]
    }
   ],
   "source": [
    "message(\"Reverse string:\")\n",
    "ch.rev <- print(reverse(ch))"
   ]
  },
  {
   "cell_type": "code",
   "execution_count": 29,
   "metadata": {
    "collapsed": false,
    "slideshow": {
     "slide_type": "fragment"
    }
   },
   "outputs": [
    {
     "name": "stderr",
     "output_type": "stream",
     "text": [
      "Left complete substrings, computed in O(n):\n"
     ]
    },
    {
     "name": "stdout",
     "output_type": "stream",
     "text": [
      "  motif freq\n",
      "1     _    5\n",
      "2   _ot    2\n",
      "3  b_ot    2\n",
      "4 eb_ot    2\n",
      "5     o    4\n",
      "6    ot    2\n",
      "7     t    3\n"
     ]
    }
   ],
   "source": [
    "message(\"Left complete substrings, computed in O(n):\")\n",
    "leftcomplete <- print(build.freq.motifs(ch.rev))\n",
    "motifs.rev <- sapply(as.character(leftcomplete$motif), reverse)\n",
    "leftcomplete.rev <- data.frame(motif=motifs.rev, freq= leftcomplete$freq, row.names=NULL)"
   ]
  },
  {
   "cell_type": "code",
   "execution_count": 30,
   "metadata": {
    "collapsed": false,
    "slideshow": {
     "slide_type": "subslide"
    }
   },
   "outputs": [
    {
     "name": "stderr",
     "output_type": "stream",
     "text": [
      "Right complete substrings:\n"
     ]
    },
    {
     "data": {
      "text/html": [
       "<table>\n",
       "<thead><tr><th></th><th scope=col>motif</th><th scope=col>freq</th></tr></thead>\n",
       "<tbody>\n",
       "\t<tr><th scope=row>2</th><td>_</td><td>5</td></tr>\n",
       "\t<tr><th scope=row>1</th><td>_be</td><td>2</td></tr>\n",
       "\t<tr><th scope=row>3</th><td>be</td><td>2</td></tr>\n",
       "\t<tr><th scope=row>4</th><td>e</td><td>2</td></tr>\n",
       "\t<tr><th scope=row>6</th><td>o</td><td>4</td></tr>\n",
       "\t<tr><th scope=row>5</th><td>o_be</td><td>2</td></tr>\n",
       "</tbody>\n",
       "</table>\n"
      ],
      "text/latex": [
       "\\begin{tabular}{r|ll}\n",
       "  & motif & freq\\\\\n",
       "\\hline\n",
       "\t2 & _ & 5\\\\\n",
       "\t1 & _be & 2\\\\\n",
       "\t3 & be & 2\\\\\n",
       "\t4 & e & 2\\\\\n",
       "\t6 & o & 4\\\\\n",
       "\t5 & o_be & 2\\\\\n",
       "\\end{tabular}\n"
      ],
      "text/plain": [
       "  motif freq\n",
       "2     _    5\n",
       "1   _be    2\n",
       "3    be    2\n",
       "4     e    2\n",
       "6     o    4\n",
       "5  o_be    2"
      ]
     },
     "execution_count": 30,
     "metadata": {},
     "output_type": "execute_result"
    },
    {
     "name": "stderr",
     "output_type": "stream",
     "text": [
      "Left complete substrings:\n"
     ]
    },
    {
     "data": {
      "text/html": [
       "<table>\n",
       "<thead><tr><th></th><th scope=col>motif</th><th scope=col>freq</th></tr></thead>\n",
       "<tbody>\n",
       "\t<tr><th scope=row>1</th><td>_</td><td>5</td></tr>\n",
       "\t<tr><th scope=row>2</th><td>to_</td><td>2</td></tr>\n",
       "\t<tr><th scope=row>3</th><td>to_b</td><td>2</td></tr>\n",
       "\t<tr><th scope=row>4</th><td>to_be</td><td>2</td></tr>\n",
       "\t<tr><th scope=row>5</th><td>o</td><td>4</td></tr>\n",
       "\t<tr><th scope=row>6</th><td>to</td><td>2</td></tr>\n",
       "</tbody>\n",
       "</table>\n"
      ],
      "text/latex": [
       "\\begin{tabular}{r|ll}\n",
       "  & motif & freq\\\\\n",
       "\\hline\n",
       "\t1 & _ & 5\\\\\n",
       "\t2 & to_ & 2\\\\\n",
       "\t3 & to_b & 2\\\\\n",
       "\t4 & to_be & 2\\\\\n",
       "\t5 & o & 4\\\\\n",
       "\t6 & to & 2\\\\\n",
       "\\end{tabular}\n"
      ],
      "text/plain": [
       "  motif freq\n",
       "1     _    5\n",
       "2   to_    2\n",
       "3  to_b    2\n",
       "4 to_be    2\n",
       "5     o    4\n",
       "6    to    2"
      ]
     },
     "execution_count": 30,
     "metadata": {},
     "output_type": "execute_result"
    },
    {
     "name": "stderr",
     "output_type": "stream",
     "text": [
      "Intersection (freq in descreasing order):\n"
     ]
    },
    {
     "data": {
      "text/html": [
       "<table>\n",
       "<thead><tr><th></th><th scope=col>motif</th><th scope=col>freq</th></tr></thead>\n",
       "<tbody>\n",
       "\t<tr><th scope=row>2</th><td>_</td><td>5</td></tr>\n",
       "\t<tr><th scope=row>6</th><td>o</td><td>4</td></tr>\n",
       "\t<tr><th scope=row>7</th><td>t</td><td>3</td></tr>\n",
       "\t<tr><th scope=row>8</th><td>to_be</td><td>2</td></tr>\n",
       "</tbody>\n",
       "</table>\n"
      ],
      "text/latex": [
       "\\begin{tabular}{r|ll}\n",
       "  & motif & freq\\\\\n",
       "\\hline\n",
       "\t2 & _ & 5\\\\\n",
       "\t6 & o & 4\\\\\n",
       "\t7 & t & 3\\\\\n",
       "\t8 & to_be & 2\\\\\n",
       "\\end{tabular}\n"
      ],
      "text/plain": [
       "  motif freq\n",
       "2     _    5\n",
       "6     o    4\n",
       "7     t    3\n",
       "8 to_be    2"
      ]
     },
     "execution_count": 30,
     "metadata": {},
     "output_type": "execute_result"
    }
   ],
   "source": [
    "message(\"Right complete substrings:\")\n",
    "head(rightcomplete)\n",
    "message(\"Left complete substrings:\")\n",
    "head(leftcomplete.rev)\n",
    "message(\"Intersection (freq in descreasing order):\")\n",
    "motifs.inter <- intersect(rightcomplete$motif, leftcomplete.rev$motif)\n",
    "freq.inter <- subset(rightcomplete, motif %in% motifs.inter)\n",
    "freq.inter[order(freq.inter$freq, decreasing = TRUE),]"
   ]
  },
  {
   "cell_type": "markdown",
   "metadata": {
    "slideshow": {
     "slide_type": "subslide"
    }
   },
   "source": [
    "To extract \"meaningful\" phrases, Osinski (2003) rely on **4 additional hypotheses**:\n",
    "\n",
    "- Frequency > given threshold (not cross sentence boudaries)\n",
    "- Complete phrase\n",
    "\n",
    "*\"Senator Hillary Rodham Clinton\"* better than *\"Senator Hillary\"* (if equal TF)\n",
    "- Not begin nor end with a stopword"
   ]
  },
  {
   "cell_type": "code",
   "execution_count": 31,
   "metadata": {
    "collapsed": false,
    "slideshow": {
     "slide_type": "subslide"
    }
   },
   "outputs": [
    {
     "name": "stderr",
     "output_type": "stream",
     "text": [
      "Removing too small strings:\n"
     ]
    },
    {
     "data": {
      "text/html": [
       "<table>\n",
       "<thead><tr><th></th><th scope=col>motif</th><th scope=col>freq</th></tr></thead>\n",
       "<tbody>\n",
       "\t<tr><th scope=row>1</th><td>to_be</td><td>2</td></tr>\n",
       "</tbody>\n",
       "</table>\n"
      ],
      "text/latex": [
       "\\begin{tabular}{r|ll}\n",
       "  & motif & freq\\\\\n",
       "\\hline\n",
       "\t1 & to_be & 2\\\\\n",
       "\\end{tabular}\n"
      ],
      "text/plain": [
       "  motif freq\n",
       "1 to_be    2"
      ]
     },
     "execution_count": 31,
     "metadata": {},
     "output_type": "execute_result"
    }
   ],
   "source": [
    "message(\"Removing too small strings:\")\n",
    "motifs.inter <- motifs.inter[nchar(motifs.inter)>2]\n",
    "freq.inter <- subset(rightcomplete, motif %in% motifs.inter)\n",
    "data.frame(freq.inter[order(freq.inter$freq, decreasing = TRUE),], row.names=NULL)"
   ]
  },
  {
   "cell_type": "markdown",
   "metadata": {
    "slideshow": {
     "slide_type": "subslide"
    }
   },
   "source": [
    "## Application to topic labeling\n",
    "\n",
    "<img src=\"img/labeling.png\" style='height: 500px'/>\n",
    "\n",
    "*Regrouper les données textuelles et nommer les groupes à l'aide de classes recouvrantes (Rizoiu et al., 2010).*"
   ]
  },
  {
   "cell_type": "markdown",
   "metadata": {
    "slideshow": {
     "slide_type": "subslide"
    }
   },
   "source": [
    "Excerpt of the results:\n",
    "\n",
    "<img src=\"img/res_labeling.png\" style='height: 500px'/>"
   ]
  },
  {
   "cell_type": "markdown",
   "metadata": {
    "slideshow": {
     "slide_type": "subslide"
    }
   },
   "source": [
    "An interesting observations:\n",
    "\n",
    "<img src=\"img/obs.png\" style='height: 400px'/>"
   ]
  },
  {
   "cell_type": "markdown",
   "metadata": {
    "slideshow": {
     "slide_type": "slide"
    }
   },
   "source": [
    "## Beyond words\n",
    "\n",
    "- n-grams\n",
    "- **collocations**"
   ]
  },
  {
   "cell_type": "markdown",
   "metadata": {
    "slideshow": {
     "slide_type": "subslide"
    }
   },
   "source": [
    "A **collocation** is a group of words for which usage has established such an affinity that fluent speakers automatically associate them together.\n",
    "\n",
    "Phrases, such as *\"New York City\"*, that make sense only if considered as a whole.\n",
    "\n",
    "Other examples:\n",
    "\n",
    ">\"rig the election\"<br/>\n",
    ">\"to cost an awful lot of money”<br/>\n",
    "\n",
    "The meaning of the whole is greater than the meaning of the sum of its parts."
   ]
  },
  {
   "cell_type": "markdown",
   "metadata": {
    "slideshow": {
     "slide_type": "subslide"
    }
   },
   "source": [
    "## C-value\n",
    "\n",
    "<img src=\"img/c-value.png\" style='height: 400px'/>"
   ]
  },
  {
   "cell_type": "markdown",
   "metadata": {
    "slideshow": {
     "slide_type": "subslide"
    }
   },
   "source": [
    "## Pointwise Mutual Information\n",
    "\n",
    "$$PMI(w_1, w_2) = \\log\\frac{p(w_1w_2)}{p(w_1)p(w_2)}$$\n",
    "\n",
    "with:\n",
    "\n",
    "$p(w_1, w_2)$ the **observed evidence** of $w_1$ combined with $w_2$<br/>\n",
    "$p(w_1)p(w_2)$ the according **expected chance**"
   ]
  },
  {
   "cell_type": "markdown",
   "metadata": {
    "slideshow": {
     "slide_type": "fragment"
    }
   },
   "source": [
    "Usually, $p(t)$ is simply set to $\\frac{\\#t}{N}$."
   ]
  },
  {
   "cell_type": "code",
   "execution_count": 32,
   "metadata": {
    "collapsed": false,
    "slideshow": {
     "slide_type": "subslide"
    }
   },
   "outputs": [],
   "source": [
    "hp.lower <- tolower(hp)\n",
    "\n",
    "# input: m (matrix term x documents), words w1 and w2\n",
    "# output: PMI between w1 and w2\n",
    "PMI <- function(w1, w2)\n",
    "{\n",
    "  # nb docs with w1    \n",
    "  docs.w1 <- which(m[w1,] > 0)\n",
    "  p1 <- length(docs.w1)\n",
    "  # nb docs with w2    \n",
    "  docs.w2 <- which(m[w2,] > 0)\n",
    "  p2 <- length(docs.w2)\n",
    "  # nb docs with w2 & w1    \n",
    "  inter <- grep(paste(w1,w2), hp.lower)\n",
    "  p1_and_p2 <- length(inter)\n",
    "  if (p1_and_p2 == 0)\n",
    "    return(0)\n",
    "  else\n",
    "    return (log2((p1_and_p2 * dim(m)[2]) / (p1 * p2)))\n",
    "}"
   ]
  },
  {
   "cell_type": "code",
   "execution_count": 34,
   "metadata": {
    "collapsed": false,
    "slideshow": {
     "slide_type": "subslide"
    }
   },
   "outputs": [
    {
     "name": "stderr",
     "output_type": "stream",
     "text": [
      "Seems correct:\n"
     ]
    },
    {
     "name": "stdout",
     "output_type": "stream",
     "text": [
      "[1] 3.515\n",
      "[1] 3.728\n",
      "[1] 4.447\n",
      "[1] 8.845\n"
     ]
    },
    {
     "name": "stderr",
     "output_type": "stream",
     "text": [
      "But...\n"
     ]
    },
    {
     "name": "stdout",
     "output_type": "stream",
     "text": [
      "[1] 0.4974\n",
      "[1] -2.301\n"
     ]
    }
   ],
   "source": [
    "options(digits=4)\n",
    "message(\"Seems correct:\")\n",
    "print(PMI(\"hermione\", \"granger\"))\n",
    "print(PMI(\"neville\", \"longbottom\"))\n",
    "print(PMI(\"professor\", \"mcgonagall\"))\n",
    "print(PMI(\"shooting\",\"stars\"))\n",
    "message(\"But...\")\n",
    "print(PMI(\"harry\",\"potter\"))\n",
    "print(PMI(\"ron\",\"weasley\"))"
   ]
  },
  {
   "cell_type": "markdown",
   "metadata": {
    "slideshow": {
     "slide_type": "subslide"
    }
   },
   "source": [
    "### Problem with the PMI\n",
    "\n",
    "A frequent pattern can be discarded because it is composed of frequent words.\n",
    "\n",
    "Besides, PMI is highly sensitive to rare patterns.\n",
    "\n",
    "One solution is to **smooth** the probability distribution (e.g., Laplacian smoothing)."
   ]
  },
  {
   "cell_type": "markdown",
   "metadata": {
    "collapsed": true,
    "slideshow": {
     "slide_type": "slide"
    }
   },
   "source": [
    "**Thank you!**\n",
    "\n",
    "Some links to go beyond basic techniques:\n",
    "\n",
    "- introduction to the tm Package Text Mining in R<br/>\n",
    "<div style=\"font-size:80%\">https://cran.r-project.org/web/packages/tm/vignettes/tm.pdf</div>\n",
    "- mixing text mining and social media analysis<br/>\n",
    "<div style=\"font-size:80%\">http://www.rdatamining.com/examples/social-network-analysis</div>\n",
    "- topic modeling with the mallet package<br/>\n",
    "<div style=\"font-size:80%\">https://cran.r-project.org/web/packages/mallet/mallet.pdf</div>\n",
    "- word embedding with Word2vec<br/>\n",
    "<div style=\"font-size:80%\">https://github.com/bmschmidt/wordVectors</div>"
   ]
  }
 ],
 "metadata": {
  "celltoolbar": "Slideshow",
  "kernelspec": {
   "display_name": "R",
   "language": "R",
   "name": "ir"
  },
  "language_info": {
   "codemirror_mode": "r",
   "file_extension": ".r",
   "mimetype": "text/x-r-source",
   "name": "R",
   "pygments_lexer": "r",
   "version": "3.2.2"
  },
  "livereveal": {
   "theme": "black",
   "transition": "fast"
  }
 },
 "nbformat": 4,
 "nbformat_minor": 0
}
